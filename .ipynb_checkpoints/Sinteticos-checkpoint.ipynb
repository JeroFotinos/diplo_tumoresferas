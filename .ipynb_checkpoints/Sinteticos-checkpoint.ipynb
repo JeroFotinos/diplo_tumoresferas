{
 "cells": [
  {
   "cell_type": "code",
   "execution_count": 1,
   "id": "71f08478",
   "metadata": {},
   "outputs": [],
   "source": [
    "import numpy as np\n",
    "import pandas as pd\n",
    "import matplotlib.pyplot as plt\n",
    "import seaborn as sns\n",
    "\n",
    "# For the regression part\n",
    "from sklearn.linear_model import LinearRegression\n",
    "from sklearn.preprocessing import PolynomialFeatures\n",
    "from sklearn.metrics import mean_squared_error, r2_score\n",
    "from scipy.optimize import curve_fit\n",
    "\n",
    "# For the classification part\n",
    "from sklearn.model_selection import train_test_split\n",
    "from sklearn.preprocessing import StandardScaler\n",
    "from sklearn.linear_model import Perceptron\n",
    "from sklearn.metrics import accuracy_score, classification_report\n",
    "\n",
    "from sklearn.preprocessing import StandardScaler, RobustScaler\n",
    "from sklearn.discriminant_analysis import LinearDiscriminantAnalysis\n",
    "from sklearn.decomposition import PCA, KernelPCA\n",
    "\n",
    "from sklearn.ensemble import RandomForestClassifier\n",
    "\n",
    "from sklearn.manifold import SpectralEmbedding\n",
    "\n",
    "\n",
    "#sns.set_context('talk')\n",
    "sns.set_theme()\n",
    "\n",
    "import warnings\n",
    "warnings.filterwarnings(\"ignore\")\n"
   ]
  },
  {
   "cell_type": "markdown",
   "id": "243cf4d3",
   "metadata": {},
   "source": [
    "En este práctico, utilizaremos el archivo original *fiji_datos_0al7mo_labels.csv* que se encuentra en la carpeta *data/raw/*.\n",
    "\n",
    "Además sumaremos los siguientes datos sintéticos que se encuentran en la carpeta *data/datos_sinteticos/*:\n",
    "  * datos_sinteticos_dias_3_y_5.csv\n",
    "  * synthetic_3y5_sint2.csv\n",
    "  * synthetic_data_dia_3_si.csv\n",
    "  * synthetic_data_dia_4_si.csv\n",
    "  * synthetic_data_dia_5_si.csv\n",
    "\n",
    "Como también dos archivos extras que están en la capeta *data/03_AS/*:\n",
    "  * fiji_datos_mean_diam.csv\n",
    "  * fiji_datos_noise.csv\n",
    "  "
   ]
  },
  {
   "cell_type": "markdown",
   "id": "2839ea07",
   "metadata": {},
   "source": [
    "## Análisis y exploración de los datos sinteticos dia 3 y 5"
   ]
  },
  {
   "cell_type": "code",
   "execution_count": 14,
   "id": "c6872cbf",
   "metadata": {},
   "outputs": [],
   "source": [
    "df_sinteticos_3_5=pd.read_csv(\"data/datos_sinteticos/datos_sinteticos_dias_3_y_5.csv\")"
   ]
  },
  {
   "cell_type": "code",
   "execution_count": 15,
   "id": "43d03dae",
   "metadata": {},
   "outputs": [
    {
     "data": {
      "text/html": [
       "<div>\n",
       "<style scoped>\n",
       "    .dataframe tbody tr th:only-of-type {\n",
       "        vertical-align: middle;\n",
       "    }\n",
       "\n",
       "    .dataframe tbody tr th {\n",
       "        vertical-align: top;\n",
       "    }\n",
       "\n",
       "    .dataframe thead th {\n",
       "        text-align: right;\n",
       "    }\n",
       "</style>\n",
       "<table border=\"1\" class=\"dataframe\">\n",
       "  <thead>\n",
       "    <tr style=\"text-align: right;\">\n",
       "      <th></th>\n",
       "      <th>labels</th>\n",
       "      <th>Area</th>\n",
       "      <th>Perim.</th>\n",
       "      <th>Circ.</th>\n",
       "      <th>Feret</th>\n",
       "      <th>MinFeret</th>\n",
       "      <th>AR</th>\n",
       "      <th>Round</th>\n",
       "      <th>Solidity</th>\n",
       "      <th>Esferoide</th>\n",
       "      <th>dia</th>\n",
       "      <th>Diameter</th>\n",
       "      <th>n_diam</th>\n",
       "    </tr>\n",
       "  </thead>\n",
       "  <tbody>\n",
       "    <tr>\n",
       "      <th>0</th>\n",
       "      <td>0001u</td>\n",
       "      <td>2108.856029</td>\n",
       "      <td>158.5521</td>\n",
       "      <td>0.853148</td>\n",
       "      <td>52.0548</td>\n",
       "      <td>39.8900</td>\n",
       "      <td>1.252439</td>\n",
       "      <td>0.801927</td>\n",
       "      <td>0.9574</td>\n",
       "      <td>si</td>\n",
       "      <td>3</td>\n",
       "      <td>44.779969</td>\n",
       "      <td>11.118208</td>\n",
       "    </tr>\n",
       "    <tr>\n",
       "      <th>1</th>\n",
       "      <td>0001v</td>\n",
       "      <td>5494.716556</td>\n",
       "      <td>267.7438</td>\n",
       "      <td>0.765975</td>\n",
       "      <td>108.6886</td>\n",
       "      <td>78.1359</td>\n",
       "      <td>1.367897</td>\n",
       "      <td>0.729508</td>\n",
       "      <td>0.9424</td>\n",
       "      <td>si</td>\n",
       "      <td>5</td>\n",
       "      <td>94.045240</td>\n",
       "      <td>55.354949</td>\n",
       "    </tr>\n",
       "    <tr>\n",
       "      <th>2</th>\n",
       "      <td>0001w</td>\n",
       "      <td>4604.334693</td>\n",
       "      <td>208.6327</td>\n",
       "      <td>0.835749</td>\n",
       "      <td>79.2150</td>\n",
       "      <td>78.5711</td>\n",
       "      <td>1.007505</td>\n",
       "      <td>0.992155</td>\n",
       "      <td>0.9544</td>\n",
       "      <td>si</td>\n",
       "      <td>3</td>\n",
       "      <td>74.802030</td>\n",
       "      <td>24.886113</td>\n",
       "    </tr>\n",
       "    <tr>\n",
       "      <th>3</th>\n",
       "      <td>0001x</td>\n",
       "      <td>3293.433060</td>\n",
       "      <td>184.9685</td>\n",
       "      <td>0.888199</td>\n",
       "      <td>59.5354</td>\n",
       "      <td>55.6766</td>\n",
       "      <td>1.039236</td>\n",
       "      <td>0.955215</td>\n",
       "      <td>0.9792</td>\n",
       "      <td>si</td>\n",
       "      <td>3</td>\n",
       "      <td>57.879742</td>\n",
       "      <td>19.426588</td>\n",
       "    </tr>\n",
       "    <tr>\n",
       "      <th>4</th>\n",
       "      <td>000a0</td>\n",
       "      <td>12597.351184</td>\n",
       "      <td>393.5486</td>\n",
       "      <td>0.741410</td>\n",
       "      <td>115.4147</td>\n",
       "      <td>98.4842</td>\n",
       "      <td>1.126705</td>\n",
       "      <td>0.888984</td>\n",
       "      <td>0.9568</td>\n",
       "      <td>si</td>\n",
       "      <td>3</td>\n",
       "      <td>108.587775</td>\n",
       "      <td>412.669660</td>\n",
       "    </tr>\n",
       "  </tbody>\n",
       "</table>\n",
       "</div>"
      ],
      "text/plain": [
       "  labels          Area    Perim.     Circ.     Feret  MinFeret        AR  \\\n",
       "0  0001u   2108.856029  158.5521  0.853148   52.0548   39.8900  1.252439   \n",
       "1  0001v   5494.716556  267.7438  0.765975  108.6886   78.1359  1.367897   \n",
       "2  0001w   4604.334693  208.6327  0.835749   79.2150   78.5711  1.007505   \n",
       "3  0001x   3293.433060  184.9685  0.888199   59.5354   55.6766  1.039236   \n",
       "4  000a0  12597.351184  393.5486  0.741410  115.4147   98.4842  1.126705   \n",
       "\n",
       "      Round  Solidity Esferoide  dia    Diameter      n_diam  \n",
       "0  0.801927    0.9574        si    3   44.779969   11.118208  \n",
       "1  0.729508    0.9424        si    5   94.045240   55.354949  \n",
       "2  0.992155    0.9544        si    3   74.802030   24.886113  \n",
       "3  0.955215    0.9792        si    3   57.879742   19.426588  \n",
       "4  0.888984    0.9568        si    3  108.587775  412.669660  "
      ]
     },
     "execution_count": 15,
     "metadata": {},
     "output_type": "execute_result"
    }
   ],
   "source": [
    "df_sinteticos_3_5.head()"
   ]
  },
  {
   "cell_type": "code",
   "execution_count": 17,
   "id": "a3bf8578",
   "metadata": {},
   "outputs": [
    {
     "name": "stdout",
     "output_type": "stream",
     "text": [
      "<class 'pandas.core.frame.DataFrame'>\n",
      "RangeIndex: 55 entries, 0 to 54\n",
      "Data columns (total 13 columns):\n",
      " #   Column     Non-Null Count  Dtype  \n",
      "---  ------     --------------  -----  \n",
      " 0   labels     55 non-null     object \n",
      " 1   Area       55 non-null     float64\n",
      " 2   Perim.     55 non-null     float64\n",
      " 3   Circ.      55 non-null     float64\n",
      " 4   Feret      55 non-null     float64\n",
      " 5   MinFeret   55 non-null     float64\n",
      " 6   AR         55 non-null     float64\n",
      " 7   Round      55 non-null     float64\n",
      " 8   Solidity   55 non-null     float64\n",
      " 9   Esferoide  55 non-null     object \n",
      " 10  dia        55 non-null     int64  \n",
      " 11  Diameter   55 non-null     float64\n",
      " 12  n_diam     55 non-null     float64\n",
      "dtypes: float64(10), int64(1), object(2)\n",
      "memory usage: 5.7+ KB\n"
     ]
    }
   ],
   "source": [
    "df_sinteticos_3_5.info()"
   ]
  },
  {
   "cell_type": "code",
   "execution_count": 18,
   "id": "86f55728",
   "metadata": {},
   "outputs": [
    {
     "data": {
      "text/plain": [
       "(55, 13)"
      ]
     },
     "execution_count": 18,
     "metadata": {},
     "output_type": "execute_result"
    }
   ],
   "source": [
    "df_sinteticos_3_5.shape"
   ]
  },
  {
   "cell_type": "code",
   "execution_count": 20,
   "id": "27a941ba",
   "metadata": {},
   "outputs": [
    {
     "data": {
      "text/plain": [
       "Index(['labels', 'Area', 'Perim.', 'Circ.', 'Feret', 'MinFeret', 'AR', 'Round',\n",
       "       'Solidity', 'Esferoide', 'dia', 'Diameter', 'n_diam'],\n",
       "      dtype='object')"
      ]
     },
     "execution_count": 20,
     "metadata": {},
     "output_type": "execute_result"
    }
   ],
   "source": [
    "df_sinteticos_3_5.columns"
   ]
  },
  {
   "cell_type": "code",
   "execution_count": 21,
   "id": "88e62c1c",
   "metadata": {},
   "outputs": [
    {
     "data": {
      "text/plain": [
       "labels        object\n",
       "Area         float64\n",
       "Perim.       float64\n",
       "Circ.        float64\n",
       "Feret        float64\n",
       "MinFeret     float64\n",
       "AR           float64\n",
       "Round        float64\n",
       "Solidity     float64\n",
       "Esferoide     object\n",
       "dia            int64\n",
       "Diameter     float64\n",
       "n_diam       float64\n",
       "dtype: object"
      ]
     },
     "execution_count": 21,
     "metadata": {},
     "output_type": "execute_result"
    }
   ],
   "source": [
    "df_sinteticos_3_5.dtypes"
   ]
  },
  {
   "cell_type": "code",
   "execution_count": 23,
   "id": "ddc0b372",
   "metadata": {},
   "outputs": [
    {
     "name": "stdout",
     "output_type": "stream",
     "text": [
      "Variable Categórica: ['labels', 'Esferoide'] \n",
      "\n",
      "Variable Numérica: ['Area', 'Perim.', 'Circ.', 'Feret', 'MinFeret', 'AR', 'Round', 'Solidity', 'dia', 'Diameter', 'n_diam']\n"
     ]
    }
   ],
   "source": [
    "# creamos arrays para cada tipo de variable\n",
    "variable_categorica = []\n",
    "variable_numerica = []\n",
    "\n",
    "# Iteramos a través de las columnas\n",
    "for columna in df_sinteticos_3_5.columns:\n",
    "    if df_sinteticos_3_5[columna].dtypes == 'object':\n",
    "        variable_categorica.append(columna)\n",
    "    else:\n",
    "        variable_numerica.append(columna)\n",
    "\n",
    "print('Variable Categórica:', variable_categorica,'\\n')\n",
    "print('Variable Numérica:', variable_numerica)\n"
   ]
  },
  {
   "cell_type": "code",
   "execution_count": 25,
   "id": "4147e9c2",
   "metadata": {},
   "outputs": [
    {
     "data": {
      "text/plain": [
       "array(['0001u', '0001v', '0001w', '0001x', '000a0', '000aa', '000ab',\n",
       "       '000ac', '000ad', '000ae', '000ag', '000ah', '000aj', '000ak',\n",
       "       '000am', '000an', '000aq', '000ar', '000au', '000aw', '000ax',\n",
       "       '000ay', '000b0', '000bb', '000bc', '000bd', '000bg', '000bj',\n",
       "       '000bk', '000bm', '000bo', '000br', '000bs', '000bt', '000bx',\n",
       "       '000by', '000c0', '000ca', '000cc', '000cd', '000ce', '000cg',\n",
       "       '000ch', '000cl', '000co', '000cs', '000ct', '000cu', '000cv',\n",
       "       '000cx', '000d0', '000da', '000dd', '000de', '000dg'], dtype=object)"
      ]
     },
     "execution_count": 25,
     "metadata": {},
     "output_type": "execute_result"
    }
   ],
   "source": [
    "df_sinteticos_3_5[\"labels\"].unique()"
   ]
  },
  {
   "cell_type": "code",
   "execution_count": 26,
   "id": "eaba3abe",
   "metadata": {},
   "outputs": [],
   "source": [
    "# A diferencia del dataset con el que venimos trabajando, la variable label toma otras etiquetas"
   ]
  },
  {
   "cell_type": "code",
   "execution_count": 28,
   "id": "90935f57",
   "metadata": {},
   "outputs": [
    {
     "data": {
      "text/plain": [
       "array(['si'], dtype=object)"
      ]
     },
     "execution_count": 28,
     "metadata": {},
     "output_type": "execute_result"
    }
   ],
   "source": [
    "df_sinteticos_3_5[\"Esferoide\"].unique()"
   ]
  },
  {
   "cell_type": "code",
   "execution_count": 30,
   "id": "9558a833",
   "metadata": {},
   "outputs": [
    {
     "data": {
      "text/plain": [
       "si    55\n",
       "Name: Esferoide, dtype: int64"
      ]
     },
     "execution_count": 30,
     "metadata": {},
     "output_type": "execute_result"
    }
   ],
   "source": [
    "df_sinteticos_3_5[\"Esferoide\"].value_counts()"
   ]
  },
  {
   "cell_type": "code",
   "execution_count": null,
   "id": "33e77cc7",
   "metadata": {},
   "outputs": [],
   "source": [
    "#Todos los datos tienen la etiqueta esferoide \"si\""
   ]
  },
  {
   "cell_type": "code",
   "execution_count": null,
   "id": "cec2d63c",
   "metadata": {},
   "outputs": [],
   "source": [
    "#Cantidad de datos etiquetados como \"si\" segun el dia "
   ]
  },
  {
   "cell_type": "code",
   "execution_count": 73,
   "id": "bc3b6a9c",
   "metadata": {},
   "outputs": [
    {
     "data": {
      "text/plain": [
       "dia  Esferoide\n",
       "3    si           29\n",
       "5    si           26\n",
       "dtype: int64"
      ]
     },
     "execution_count": 73,
     "metadata": {},
     "output_type": "execute_result"
    }
   ],
   "source": [
    "df_sinteticos_3_5.groupby([\"dia\",\"Esferoide\"]).size()"
   ]
  },
  {
   "cell_type": "markdown",
   "id": "ca323093",
   "metadata": {},
   "source": [
    "## Análisis y exploración de los datos sinteticos dia 3 y 5 bis"
   ]
  },
  {
   "cell_type": "code",
   "execution_count": null,
   "id": "5909c02d",
   "metadata": {},
   "outputs": [],
   "source": [
    "df_sinteticos_3_5_bis=pd.read_csv(\"data/datos_sinteticos/synthetic_3y5_sint2.csv\")"
   ]
  },
  {
   "cell_type": "code",
   "execution_count": 6,
   "id": "b0799065",
   "metadata": {},
   "outputs": [
    {
     "data": {
      "text/html": [
       "<div>\n",
       "<style scoped>\n",
       "    .dataframe tbody tr th:only-of-type {\n",
       "        vertical-align: middle;\n",
       "    }\n",
       "\n",
       "    .dataframe tbody tr th {\n",
       "        vertical-align: top;\n",
       "    }\n",
       "\n",
       "    .dataframe thead th {\n",
       "        text-align: right;\n",
       "    }\n",
       "</style>\n",
       "<table border=\"1\" class=\"dataframe\">\n",
       "  <thead>\n",
       "    <tr style=\"text-align: right;\">\n",
       "      <th></th>\n",
       "      <th>labels</th>\n",
       "      <th>Area</th>\n",
       "      <th>Perim.</th>\n",
       "      <th>Circ.</th>\n",
       "      <th>Feret</th>\n",
       "      <th>MinFeret</th>\n",
       "      <th>AR</th>\n",
       "      <th>Round</th>\n",
       "      <th>Solidity</th>\n",
       "      <th>Esferoide</th>\n",
       "      <th>dia</th>\n",
       "      <th>Diameter</th>\n",
       "      <th>n_diam</th>\n",
       "    </tr>\n",
       "  </thead>\n",
       "  <tbody>\n",
       "    <tr>\n",
       "      <th>0</th>\n",
       "      <td>000iu</td>\n",
       "      <td>122.762600</td>\n",
       "      <td>41.118800</td>\n",
       "      <td>0.846634</td>\n",
       "      <td>14.185200</td>\n",
       "      <td>12.152500</td>\n",
       "      <td>1.366386</td>\n",
       "      <td>0.753013</td>\n",
       "      <td>0.935293</td>\n",
       "      <td>no</td>\n",
       "      <td>5</td>\n",
       "      <td>13.297800</td>\n",
       "      <td>0.381040</td>\n",
       "    </tr>\n",
       "    <tr>\n",
       "      <th>1</th>\n",
       "      <td>000ix</td>\n",
       "      <td>122.762600</td>\n",
       "      <td>101.527170</td>\n",
       "      <td>0.900619</td>\n",
       "      <td>32.269328</td>\n",
       "      <td>30.219156</td>\n",
       "      <td>1.277680</td>\n",
       "      <td>0.843124</td>\n",
       "      <td>0.974896</td>\n",
       "      <td>no</td>\n",
       "      <td>5</td>\n",
       "      <td>31.236372</td>\n",
       "      <td>0.381040</td>\n",
       "    </tr>\n",
       "    <tr>\n",
       "      <th>2</th>\n",
       "      <td>000j1</td>\n",
       "      <td>9070.046335</td>\n",
       "      <td>424.616078</td>\n",
       "      <td>0.563269</td>\n",
       "      <td>139.125260</td>\n",
       "      <td>95.758206</td>\n",
       "      <td>1.626250</td>\n",
       "      <td>0.618293</td>\n",
       "      <td>0.903470</td>\n",
       "      <td>no</td>\n",
       "      <td>3</td>\n",
       "      <td>117.423404</td>\n",
       "      <td>277.627847</td>\n",
       "    </tr>\n",
       "    <tr>\n",
       "      <th>3</th>\n",
       "      <td>000ji</td>\n",
       "      <td>6586.914719</td>\n",
       "      <td>270.750961</td>\n",
       "      <td>0.764905</td>\n",
       "      <td>89.727394</td>\n",
       "      <td>73.635156</td>\n",
       "      <td>1.465515</td>\n",
       "      <td>0.746293</td>\n",
       "      <td>0.947981</td>\n",
       "      <td>no</td>\n",
       "      <td>3</td>\n",
       "      <td>81.668370</td>\n",
       "      <td>215.923591</td>\n",
       "    </tr>\n",
       "    <tr>\n",
       "      <th>4</th>\n",
       "      <td>000ju</td>\n",
       "      <td>6796.984868</td>\n",
       "      <td>284.745161</td>\n",
       "      <td>0.788278</td>\n",
       "      <td>85.622933</td>\n",
       "      <td>72.657070</td>\n",
       "      <td>1.001200</td>\n",
       "      <td>0.955847</td>\n",
       "      <td>0.931386</td>\n",
       "      <td>si</td>\n",
       "      <td>3</td>\n",
       "      <td>79.115739</td>\n",
       "      <td>205.487181</td>\n",
       "    </tr>\n",
       "  </tbody>\n",
       "</table>\n",
       "</div>"
      ],
      "text/plain": [
       "  labels         Area      Perim.     Circ.       Feret   MinFeret        AR  \\\n",
       "0  000iu   122.762600   41.118800  0.846634   14.185200  12.152500  1.366386   \n",
       "1  000ix   122.762600  101.527170  0.900619   32.269328  30.219156  1.277680   \n",
       "2  000j1  9070.046335  424.616078  0.563269  139.125260  95.758206  1.626250   \n",
       "3  000ji  6586.914719  270.750961  0.764905   89.727394  73.635156  1.465515   \n",
       "4  000ju  6796.984868  284.745161  0.788278   85.622933  72.657070  1.001200   \n",
       "\n",
       "      Round  Solidity Esferoide  dia    Diameter      n_diam  \n",
       "0  0.753013  0.935293        no    5   13.297800    0.381040  \n",
       "1  0.843124  0.974896        no    5   31.236372    0.381040  \n",
       "2  0.618293  0.903470        no    3  117.423404  277.627847  \n",
       "3  0.746293  0.947981        no    3   81.668370  215.923591  \n",
       "4  0.955847  0.931386        si    3   79.115739  205.487181  "
      ]
     },
     "execution_count": 6,
     "metadata": {},
     "output_type": "execute_result"
    }
   ],
   "source": [
    "df_sinteticos_3_5_bis.head()"
   ]
  },
  {
   "cell_type": "code",
   "execution_count": 31,
   "id": "25d51b5e",
   "metadata": {},
   "outputs": [
    {
     "name": "stdout",
     "output_type": "stream",
     "text": [
      "<class 'pandas.core.frame.DataFrame'>\n",
      "RangeIndex: 161 entries, 0 to 160\n",
      "Data columns (total 13 columns):\n",
      " #   Column     Non-Null Count  Dtype  \n",
      "---  ------     --------------  -----  \n",
      " 0   labels     161 non-null    object \n",
      " 1   Area       161 non-null    float64\n",
      " 2   Perim.     161 non-null    float64\n",
      " 3   Circ.      161 non-null    float64\n",
      " 4   Feret      161 non-null    float64\n",
      " 5   MinFeret   161 non-null    float64\n",
      " 6   AR         161 non-null    float64\n",
      " 7   Round      161 non-null    float64\n",
      " 8   Solidity   161 non-null    float64\n",
      " 9   Esferoide  161 non-null    object \n",
      " 10  dia        161 non-null    int64  \n",
      " 11  Diameter   161 non-null    float64\n",
      " 12  n_diam     161 non-null    float64\n",
      "dtypes: float64(10), int64(1), object(2)\n",
      "memory usage: 16.5+ KB\n"
     ]
    }
   ],
   "source": [
    "df_sinteticos_3_5_bis.info()"
   ]
  },
  {
   "cell_type": "code",
   "execution_count": 32,
   "id": "5f2ce5bc",
   "metadata": {},
   "outputs": [
    {
     "data": {
      "text/plain": [
       "(161, 13)"
      ]
     },
     "execution_count": 32,
     "metadata": {},
     "output_type": "execute_result"
    }
   ],
   "source": [
    "df_sinteticos_3_5_bis.shape"
   ]
  },
  {
   "cell_type": "code",
   "execution_count": 33,
   "id": "e4ce5c18",
   "metadata": {},
   "outputs": [
    {
     "data": {
      "text/plain": [
       "Index(['labels', 'Area', 'Perim.', 'Circ.', 'Feret', 'MinFeret', 'AR', 'Round',\n",
       "       'Solidity', 'Esferoide', 'dia', 'Diameter', 'n_diam'],\n",
       "      dtype='object')"
      ]
     },
     "execution_count": 33,
     "metadata": {},
     "output_type": "execute_result"
    }
   ],
   "source": [
    "df_sinteticos_3_5_bis.columns"
   ]
  },
  {
   "cell_type": "code",
   "execution_count": 38,
   "id": "ea1c28e5",
   "metadata": {},
   "outputs": [
    {
     "data": {
      "text/plain": [
       "labels        object\n",
       "Area         float64\n",
       "Perim.       float64\n",
       "Circ.        float64\n",
       "Feret        float64\n",
       "MinFeret     float64\n",
       "AR           float64\n",
       "Round        float64\n",
       "Solidity     float64\n",
       "Esferoide     object\n",
       "dia            int64\n",
       "Diameter     float64\n",
       "n_diam       float64\n",
       "dtype: object"
      ]
     },
     "execution_count": 38,
     "metadata": {},
     "output_type": "execute_result"
    }
   ],
   "source": [
    "df_sinteticos_3_5_bis.dtypes"
   ]
  },
  {
   "cell_type": "code",
   "execution_count": 50,
   "id": "d40740ff",
   "metadata": {},
   "outputs": [
    {
     "name": "stdout",
     "output_type": "stream",
     "text": [
      "Variable Categórica: ['labels', 'Esferoide'] \n",
      "\n",
      "Variable Numérica: ['Area', 'Perim.', 'Circ.', 'Feret', 'MinFeret', 'AR', 'Round', 'Solidity', 'dia', 'Diameter', 'n_diam']\n"
     ]
    }
   ],
   "source": [
    "# creamos arrays para cada tipo de variable\n",
    "variable_categorica = []\n",
    "variable_numerica = []\n",
    "\n",
    "# Iteramos a través de las columnas\n",
    "for columna in df_sinteticos_3_5_bis.columns:\n",
    "    if df_sinteticos_3_5_bis[columna].dtypes == 'object':\n",
    "        variable_categorica.append(columna)\n",
    "    else:\n",
    "        variable_numerica.append(columna)\n",
    "\n",
    "print('Variable Categórica:', variable_categorica,'\\n')\n",
    "print('Variable Numérica:', variable_numerica)\n"
   ]
  },
  {
   "cell_type": "code",
   "execution_count": 54,
   "id": "558118ee",
   "metadata": {},
   "outputs": [
    {
     "data": {
      "text/plain": [
       "array(['000iu', '000ix', '000j1', '000ji', '000ju', '000jv', '000k0',\n",
       "       '000kc', '000kf', '000kh', '000kn', '000kr', '000ku', '000kv',\n",
       "       '000ky', '000l0', '000ld', '000lh', '000lj', '000lm', '000lo',\n",
       "       '000lu', '000ly', '000mg', '000mi', '000mm', '000mo', '000ms',\n",
       "       '000mu', '000my', '000n0', '000nh', '000ni', '000nk', '000nn',\n",
       "       '000no', '000nr', '000ns', '000nx', '000o0', '000od', '000og',\n",
       "       '000oj', '000om', '000op', '000ou', '000oy', '000oz', '000p0',\n",
       "       '000pa', '000pf', '000pr', '000pu', '000px', '000pz', '000q1',\n",
       "       '000qf', '000qg', '000qh', '000qi', '000qk', '000qp', '000qt',\n",
       "       '000qu', '000qv', '000qy', '000qz', '000ra', '000rd', '000rf',\n",
       "       '000rh', '000ri', '000rk', '000rn', '000rs', '000rt', '000rw',\n",
       "       '000s0', '000s1', '000sb', '000sh', '000sl', '000sm', '000sq',\n",
       "       '000sr', '000su', '000sy', '000t0', '000ta', '000tf', '000th',\n",
       "       '000tj', '000tm', '000tn', '000to', '000tr', '000tv', '000ty',\n",
       "       '000u1', '000ua', '000ub', '000ud', '000ue', '000uk', '000ul',\n",
       "       '000uo', '000uq', '000us', '000uw', '000va', '000vb', '000vf',\n",
       "       '000vg', '000vi', '000vn', '000vr', '000vt', '000vu', '000vv',\n",
       "       '000wb', '000wf', '000wj', '000wo', '000wv', '000wz', '000x1',\n",
       "       '000xa', '000xe', '000xg', '000xo', '000xr', '000xs', '000xv',\n",
       "       '000xz', '000y1', '000yg', '000yh', '000yp', '000yr', '000yt',\n",
       "       '000yv', '000z0', '000za', '000zb', '000zc', '000zf', '000zg',\n",
       "       '000zh', '000zl', '000zp', '000zq', '000zt', '000zv', '000zx',\n",
       "       '00100', '0010a', '0010c', '0010d', '0010e', '0010i', '0010j'],\n",
       "      dtype=object)"
      ]
     },
     "execution_count": 54,
     "metadata": {},
     "output_type": "execute_result"
    }
   ],
   "source": [
    "df_sinteticos_3_5_bis[\"labels\"].unique()"
   ]
  },
  {
   "cell_type": "code",
   "execution_count": 59,
   "id": "461b7dd3",
   "metadata": {},
   "outputs": [
    {
     "data": {
      "text/plain": [
       "array(['no', 'si'], dtype=object)"
      ]
     },
     "execution_count": 59,
     "metadata": {},
     "output_type": "execute_result"
    }
   ],
   "source": [
    "df_sinteticos_3_5_bis[\"Esferoide\"].unique()"
   ]
  },
  {
   "cell_type": "code",
   "execution_count": 62,
   "id": "fb8d3815",
   "metadata": {},
   "outputs": [
    {
     "data": {
      "text/plain": [
       "no    124\n",
       "si     37\n",
       "Name: Esferoide, dtype: int64"
      ]
     },
     "execution_count": 62,
     "metadata": {},
     "output_type": "execute_result"
    }
   ],
   "source": [
    "df_sinteticos_3_5_bis[\"Esferoide\"].value_counts()"
   ]
  },
  {
   "cell_type": "code",
   "execution_count": 74,
   "id": "84aae092",
   "metadata": {},
   "outputs": [
    {
     "data": {
      "text/plain": [
       "dia  Esferoide\n",
       "3    no           60\n",
       "     si           17\n",
       "5    no           64\n",
       "     si           20\n",
       "dtype: int64"
      ]
     },
     "execution_count": 74,
     "metadata": {},
     "output_type": "execute_result"
    }
   ],
   "source": [
    "df_sinteticos_3_5_bis.groupby([\"dia\",\"Esferoide\"]).size()"
   ]
  },
  {
   "cell_type": "markdown",
   "id": "73312677",
   "metadata": {},
   "source": [
    "## Análisis y exploración de los datos sinteticos dia 3 "
   ]
  },
  {
   "cell_type": "code",
   "execution_count": null,
   "id": "ca7a1871",
   "metadata": {},
   "outputs": [],
   "source": [
    "df_sinteticos_3=pd.read_csv(\"data/datos_sinteticos/synthetic_data_dia_3_si.csv\")"
   ]
  },
  {
   "cell_type": "code",
   "execution_count": 7,
   "id": "ffd2cae2",
   "metadata": {},
   "outputs": [
    {
     "data": {
      "text/html": [
       "<div>\n",
       "<style scoped>\n",
       "    .dataframe tbody tr th:only-of-type {\n",
       "        vertical-align: middle;\n",
       "    }\n",
       "\n",
       "    .dataframe tbody tr th {\n",
       "        vertical-align: top;\n",
       "    }\n",
       "\n",
       "    .dataframe thead th {\n",
       "        text-align: right;\n",
       "    }\n",
       "</style>\n",
       "<table border=\"1\" class=\"dataframe\">\n",
       "  <thead>\n",
       "    <tr style=\"text-align: right;\">\n",
       "      <th></th>\n",
       "      <th>labels</th>\n",
       "      <th>Area</th>\n",
       "      <th>Perim.</th>\n",
       "      <th>Circ.</th>\n",
       "      <th>Feret</th>\n",
       "      <th>MinFeret</th>\n",
       "      <th>AR</th>\n",
       "      <th>Round</th>\n",
       "      <th>Solidity</th>\n",
       "      <th>Esferoide</th>\n",
       "      <th>dia</th>\n",
       "      <th>Diameter</th>\n",
       "      <th>n_diam</th>\n",
       "    </tr>\n",
       "  </thead>\n",
       "  <tbody>\n",
       "    <tr>\n",
       "      <th>0</th>\n",
       "      <td>000px</td>\n",
       "      <td>2668.2568</td>\n",
       "      <td>228.4795</td>\n",
       "      <td>0.893241</td>\n",
       "      <td>66.215303</td>\n",
       "      <td>68.0477</td>\n",
       "      <td>1.069481</td>\n",
       "      <td>0.934437</td>\n",
       "      <td>0.9684</td>\n",
       "      <td>si</td>\n",
       "      <td>3</td>\n",
       "      <td>66.365583</td>\n",
       "      <td>17.311897</td>\n",
       "    </tr>\n",
       "    <tr>\n",
       "      <th>1</th>\n",
       "      <td>000q0</td>\n",
       "      <td>6009.2465</td>\n",
       "      <td>312.8576</td>\n",
       "      <td>0.784415</td>\n",
       "      <td>101.099708</td>\n",
       "      <td>76.8800</td>\n",
       "      <td>1.374580</td>\n",
       "      <td>0.727304</td>\n",
       "      <td>0.9515</td>\n",
       "      <td>si</td>\n",
       "      <td>3</td>\n",
       "      <td>90.270453</td>\n",
       "      <td>109.653369</td>\n",
       "    </tr>\n",
       "    <tr>\n",
       "      <th>2</th>\n",
       "      <td>000qh</td>\n",
       "      <td>16358.7381</td>\n",
       "      <td>490.8434</td>\n",
       "      <td>0.851640</td>\n",
       "      <td>147.480859</td>\n",
       "      <td>144.2174</td>\n",
       "      <td>1.078255</td>\n",
       "      <td>0.927538</td>\n",
       "      <td>0.9830</td>\n",
       "      <td>si</td>\n",
       "      <td>3</td>\n",
       "      <td>144.196627</td>\n",
       "      <td>634.141009</td>\n",
       "    </tr>\n",
       "    <tr>\n",
       "      <th>3</th>\n",
       "      <td>000qj</td>\n",
       "      <td>15335.9539</td>\n",
       "      <td>524.2858</td>\n",
       "      <td>0.756606</td>\n",
       "      <td>164.937428</td>\n",
       "      <td>134.5306</td>\n",
       "      <td>1.092246</td>\n",
       "      <td>0.915844</td>\n",
       "      <td>0.9693</td>\n",
       "      <td>si</td>\n",
       "      <td>3</td>\n",
       "      <td>141.551969</td>\n",
       "      <td>597.638251</td>\n",
       "    </tr>\n",
       "    <tr>\n",
       "      <th>4</th>\n",
       "      <td>000qq</td>\n",
       "      <td>14441.1167</td>\n",
       "      <td>454.2536</td>\n",
       "      <td>0.798609</td>\n",
       "      <td>99.781799</td>\n",
       "      <td>131.3265</td>\n",
       "      <td>1.028377</td>\n",
       "      <td>0.972036</td>\n",
       "      <td>0.9753</td>\n",
       "      <td>si</td>\n",
       "      <td>3</td>\n",
       "      <td>124.884592</td>\n",
       "      <td>501.757463</td>\n",
       "    </tr>\n",
       "  </tbody>\n",
       "</table>\n",
       "</div>"
      ],
      "text/plain": [
       "  labels        Area    Perim.     Circ.       Feret  MinFeret        AR  \\\n",
       "0  000px   2668.2568  228.4795  0.893241   66.215303   68.0477  1.069481   \n",
       "1  000q0   6009.2465  312.8576  0.784415  101.099708   76.8800  1.374580   \n",
       "2  000qh  16358.7381  490.8434  0.851640  147.480859  144.2174  1.078255   \n",
       "3  000qj  15335.9539  524.2858  0.756606  164.937428  134.5306  1.092246   \n",
       "4  000qq  14441.1167  454.2536  0.798609   99.781799  131.3265  1.028377   \n",
       "\n",
       "      Round  Solidity Esferoide  dia    Diameter      n_diam  \n",
       "0  0.934437    0.9684        si    3   66.365583   17.311897  \n",
       "1  0.727304    0.9515        si    3   90.270453  109.653369  \n",
       "2  0.927538    0.9830        si    3  144.196627  634.141009  \n",
       "3  0.915844    0.9693        si    3  141.551969  597.638251  \n",
       "4  0.972036    0.9753        si    3  124.884592  501.757463  "
      ]
     },
     "execution_count": 7,
     "metadata": {},
     "output_type": "execute_result"
    }
   ],
   "source": [
    "df_sinteticos_3.head()"
   ]
  },
  {
   "cell_type": "code",
   "execution_count": 35,
   "id": "f83f4cc9",
   "metadata": {},
   "outputs": [
    {
     "name": "stdout",
     "output_type": "stream",
     "text": [
      "<class 'pandas.core.frame.DataFrame'>\n",
      "RangeIndex: 56 entries, 0 to 55\n",
      "Data columns (total 13 columns):\n",
      " #   Column     Non-Null Count  Dtype  \n",
      "---  ------     --------------  -----  \n",
      " 0   labels     56 non-null     object \n",
      " 1   Area       56 non-null     float64\n",
      " 2   Perim.     56 non-null     float64\n",
      " 3   Circ.      56 non-null     float64\n",
      " 4   Feret      56 non-null     float64\n",
      " 5   MinFeret   56 non-null     float64\n",
      " 6   AR         56 non-null     float64\n",
      " 7   Round      56 non-null     float64\n",
      " 8   Solidity   56 non-null     float64\n",
      " 9   Esferoide  56 non-null     object \n",
      " 10  dia        56 non-null     int64  \n",
      " 11  Diameter   56 non-null     float64\n",
      " 12  n_diam     56 non-null     float64\n",
      "dtypes: float64(10), int64(1), object(2)\n",
      "memory usage: 5.8+ KB\n"
     ]
    }
   ],
   "source": [
    "df_sinteticos_3.info()"
   ]
  },
  {
   "cell_type": "code",
   "execution_count": 36,
   "id": "c37ab83d",
   "metadata": {},
   "outputs": [
    {
     "data": {
      "text/plain": [
       "(56, 13)"
      ]
     },
     "execution_count": 36,
     "metadata": {},
     "output_type": "execute_result"
    }
   ],
   "source": [
    "df_sinteticos_3.shape"
   ]
  },
  {
   "cell_type": "code",
   "execution_count": 37,
   "id": "b12153e8",
   "metadata": {},
   "outputs": [
    {
     "data": {
      "text/plain": [
       "Index(['labels', 'Area', 'Perim.', 'Circ.', 'Feret', 'MinFeret', 'AR', 'Round',\n",
       "       'Solidity', 'Esferoide', 'dia', 'Diameter', 'n_diam'],\n",
       "      dtype='object')"
      ]
     },
     "execution_count": 37,
     "metadata": {},
     "output_type": "execute_result"
    }
   ],
   "source": [
    "df_sinteticos_3.columns"
   ]
  },
  {
   "cell_type": "code",
   "execution_count": 39,
   "id": "54afd2e0",
   "metadata": {},
   "outputs": [
    {
     "data": {
      "text/plain": [
       "labels        object\n",
       "Area         float64\n",
       "Perim.       float64\n",
       "Circ.        float64\n",
       "Feret        float64\n",
       "MinFeret     float64\n",
       "AR           float64\n",
       "Round        float64\n",
       "Solidity     float64\n",
       "Esferoide     object\n",
       "dia            int64\n",
       "Diameter     float64\n",
       "n_diam       float64\n",
       "dtype: object"
      ]
     },
     "execution_count": 39,
     "metadata": {},
     "output_type": "execute_result"
    }
   ],
   "source": [
    "df_sinteticos_3.dtypes"
   ]
  },
  {
   "cell_type": "code",
   "execution_count": 51,
   "id": "78a74bf3",
   "metadata": {},
   "outputs": [
    {
     "name": "stdout",
     "output_type": "stream",
     "text": [
      "Variable Categórica: ['labels', 'Esferoide'] \n",
      "\n",
      "Variable Numérica: ['Area', 'Perim.', 'Circ.', 'Feret', 'MinFeret', 'AR', 'Round', 'Solidity', 'dia', 'Diameter', 'n_diam']\n"
     ]
    }
   ],
   "source": [
    "# creamos arrays para cada tipo de variable\n",
    "variable_categorica = []\n",
    "variable_numerica = []\n",
    "\n",
    "# Iteramos a través de las columnas\n",
    "for columna in df_sinteticos_3.columns:\n",
    "    if df_sinteticos_3[columna].dtypes == 'object':\n",
    "        variable_categorica.append(columna)\n",
    "    else:\n",
    "        variable_numerica.append(columna)\n",
    "\n",
    "print('Variable Categórica:', variable_categorica,'\\n')\n",
    "print('Variable Numérica:', variable_numerica)\n"
   ]
  },
  {
   "cell_type": "code",
   "execution_count": 57,
   "id": "02e6ba8e",
   "metadata": {},
   "outputs": [
    {
     "data": {
      "text/plain": [
       "array(['000px', '000q0', '000qh', '000qj', '000qq', '000qu', '000qz',\n",
       "       '000r1', '000re', '000rf', '000rh', '000ri', '000rq', '000rx',\n",
       "       '000rz', '000s1', '000sh', '000si', '000sp', '000sq', '000sr',\n",
       "       '000st', '000sy', '000ta', '000tg', '000tl', '000tn', '000tq',\n",
       "       '000tv', '000tz', '000ub', '000ud', '000ug', '000ul', '000um',\n",
       "       '000up', '000ur', '000us', '000uu', '000vb', '000vc', '000vg',\n",
       "       '000vj', '000vt', '000vu', '000vw', '000vy', '000wa', '000wd',\n",
       "       '000we', '000wf', '000wk', '000wn', '000wo', '000wv', '000wz'],\n",
       "      dtype=object)"
      ]
     },
     "execution_count": 57,
     "metadata": {},
     "output_type": "execute_result"
    }
   ],
   "source": [
    "df_sinteticos_3[\"labels\"].unique()"
   ]
  },
  {
   "cell_type": "code",
   "execution_count": 63,
   "id": "85b9cccb",
   "metadata": {},
   "outputs": [
    {
     "data": {
      "text/plain": [
       "array(['si'], dtype=object)"
      ]
     },
     "execution_count": 63,
     "metadata": {},
     "output_type": "execute_result"
    }
   ],
   "source": [
    "df_sinteticos_3[\"Esferoide\"].unique()"
   ]
  },
  {
   "cell_type": "code",
   "execution_count": 64,
   "id": "56986e23",
   "metadata": {},
   "outputs": [
    {
     "data": {
      "text/plain": [
       "si    56\n",
       "Name: Esferoide, dtype: int64"
      ]
     },
     "execution_count": 64,
     "metadata": {},
     "output_type": "execute_result"
    }
   ],
   "source": [
    "df_sinteticos_3[\"Esferoide\"].value_counts()"
   ]
  },
  {
   "cell_type": "markdown",
   "id": "acaa8f27",
   "metadata": {},
   "source": [
    "## Análisis y exploración de los datos sinteticos dia 4"
   ]
  },
  {
   "cell_type": "code",
   "execution_count": null,
   "id": "2c4981b0",
   "metadata": {},
   "outputs": [],
   "source": [
    "df_sinteticos_4=pd.read_csv(\"data/datos_sinteticos/synthetic_data_dia_4_si.csv\")"
   ]
  },
  {
   "cell_type": "code",
   "execution_count": 8,
   "id": "ce259ab2",
   "metadata": {},
   "outputs": [
    {
     "data": {
      "text/html": [
       "<div>\n",
       "<style scoped>\n",
       "    .dataframe tbody tr th:only-of-type {\n",
       "        vertical-align: middle;\n",
       "    }\n",
       "\n",
       "    .dataframe tbody tr th {\n",
       "        vertical-align: top;\n",
       "    }\n",
       "\n",
       "    .dataframe thead th {\n",
       "        text-align: right;\n",
       "    }\n",
       "</style>\n",
       "<table border=\"1\" class=\"dataframe\">\n",
       "  <thead>\n",
       "    <tr style=\"text-align: right;\">\n",
       "      <th></th>\n",
       "      <th>labels</th>\n",
       "      <th>Area</th>\n",
       "      <th>Perim.</th>\n",
       "      <th>Circ.</th>\n",
       "      <th>Feret</th>\n",
       "      <th>MinFeret</th>\n",
       "      <th>AR</th>\n",
       "      <th>Round</th>\n",
       "      <th>Solidity</th>\n",
       "      <th>Esferoide</th>\n",
       "      <th>dia</th>\n",
       "      <th>Diameter</th>\n",
       "      <th>n_diam</th>\n",
       "    </tr>\n",
       "  </thead>\n",
       "  <tbody>\n",
       "    <tr>\n",
       "      <th>0</th>\n",
       "      <td>00000</td>\n",
       "      <td>15848.2676</td>\n",
       "      <td>474.1609</td>\n",
       "      <td>0.778850</td>\n",
       "      <td>145.709319</td>\n",
       "      <td>127.7317</td>\n",
       "      <td>1.1530</td>\n",
       "      <td>0.8674</td>\n",
       "      <td>0.9740</td>\n",
       "      <td>si</td>\n",
       "      <td>4</td>\n",
       "      <td>127.770345</td>\n",
       "      <td>521.426321</td>\n",
       "    </tr>\n",
       "    <tr>\n",
       "      <th>1</th>\n",
       "      <td>00001</td>\n",
       "      <td>10181.0707</td>\n",
       "      <td>433.6711</td>\n",
       "      <td>0.784262</td>\n",
       "      <td>131.559140</td>\n",
       "      <td>128.6091</td>\n",
       "      <td>1.0748</td>\n",
       "      <td>0.9310</td>\n",
       "      <td>0.9739</td>\n",
       "      <td>si</td>\n",
       "      <td>4</td>\n",
       "      <td>121.307057</td>\n",
       "      <td>216.107458</td>\n",
       "    </tr>\n",
       "    <tr>\n",
       "      <th>2</th>\n",
       "      <td>0000a</td>\n",
       "      <td>20784.2025</td>\n",
       "      <td>611.4172</td>\n",
       "      <td>0.739942</td>\n",
       "      <td>181.800275</td>\n",
       "      <td>174.8398</td>\n",
       "      <td>1.0715</td>\n",
       "      <td>0.9323</td>\n",
       "      <td>0.9726</td>\n",
       "      <td>si</td>\n",
       "      <td>4</td>\n",
       "      <td>175.153921</td>\n",
       "      <td>779.371247</td>\n",
       "    </tr>\n",
       "    <tr>\n",
       "      <th>3</th>\n",
       "      <td>0000b</td>\n",
       "      <td>1083.9499</td>\n",
       "      <td>190.9400</td>\n",
       "      <td>0.909804</td>\n",
       "      <td>55.199988</td>\n",
       "      <td>53.5693</td>\n",
       "      <td>1.0905</td>\n",
       "      <td>0.9164</td>\n",
       "      <td>0.9768</td>\n",
       "      <td>si</td>\n",
       "      <td>4</td>\n",
       "      <td>52.983315</td>\n",
       "      <td>8.749749</td>\n",
       "    </tr>\n",
       "    <tr>\n",
       "      <th>4</th>\n",
       "      <td>0000c</td>\n",
       "      <td>1254.7693</td>\n",
       "      <td>191.1564</td>\n",
       "      <td>0.869752</td>\n",
       "      <td>56.385742</td>\n",
       "      <td>50.7836</td>\n",
       "      <td>1.1148</td>\n",
       "      <td>0.8978</td>\n",
       "      <td>0.9725</td>\n",
       "      <td>si</td>\n",
       "      <td>4</td>\n",
       "      <td>51.059912</td>\n",
       "      <td>9.517034</td>\n",
       "    </tr>\n",
       "  </tbody>\n",
       "</table>\n",
       "</div>"
      ],
      "text/plain": [
       "  labels        Area    Perim.     Circ.       Feret  MinFeret      AR  \\\n",
       "0  00000  15848.2676  474.1609  0.778850  145.709319  127.7317  1.1530   \n",
       "1  00001  10181.0707  433.6711  0.784262  131.559140  128.6091  1.0748   \n",
       "2  0000a  20784.2025  611.4172  0.739942  181.800275  174.8398  1.0715   \n",
       "3  0000b   1083.9499  190.9400  0.909804   55.199988   53.5693  1.0905   \n",
       "4  0000c   1254.7693  191.1564  0.869752   56.385742   50.7836  1.1148   \n",
       "\n",
       "    Round  Solidity Esferoide  dia    Diameter      n_diam  \n",
       "0  0.8674    0.9740        si    4  127.770345  521.426321  \n",
       "1  0.9310    0.9739        si    4  121.307057  216.107458  \n",
       "2  0.9323    0.9726        si    4  175.153921  779.371247  \n",
       "3  0.9164    0.9768        si    4   52.983315    8.749749  \n",
       "4  0.8978    0.9725        si    4   51.059912    9.517034  "
      ]
     },
     "execution_count": 8,
     "metadata": {},
     "output_type": "execute_result"
    }
   ],
   "source": [
    "df_sinteticos_4.head()"
   ]
  },
  {
   "cell_type": "code",
   "execution_count": 40,
   "id": "e5d374c6",
   "metadata": {},
   "outputs": [
    {
     "name": "stdout",
     "output_type": "stream",
     "text": [
      "<class 'pandas.core.frame.DataFrame'>\n",
      "RangeIndex: 50 entries, 0 to 49\n",
      "Data columns (total 13 columns):\n",
      " #   Column     Non-Null Count  Dtype  \n",
      "---  ------     --------------  -----  \n",
      " 0   labels     50 non-null     object \n",
      " 1   Area       50 non-null     float64\n",
      " 2   Perim.     50 non-null     float64\n",
      " 3   Circ.      50 non-null     float64\n",
      " 4   Feret      50 non-null     float64\n",
      " 5   MinFeret   50 non-null     float64\n",
      " 6   AR         50 non-null     float64\n",
      " 7   Round      50 non-null     float64\n",
      " 8   Solidity   50 non-null     float64\n",
      " 9   Esferoide  50 non-null     object \n",
      " 10  dia        50 non-null     int64  \n",
      " 11  Diameter   50 non-null     float64\n",
      " 12  n_diam     50 non-null     float64\n",
      "dtypes: float64(10), int64(1), object(2)\n",
      "memory usage: 5.2+ KB\n"
     ]
    }
   ],
   "source": [
    "df_sinteticos_4.info()"
   ]
  },
  {
   "cell_type": "code",
   "execution_count": 47,
   "id": "21a8f0f1",
   "metadata": {},
   "outputs": [
    {
     "data": {
      "text/plain": [
       "(50, 13)"
      ]
     },
     "execution_count": 47,
     "metadata": {},
     "output_type": "execute_result"
    }
   ],
   "source": [
    "df_sinteticos_4.shape"
   ]
  },
  {
   "cell_type": "code",
   "execution_count": 48,
   "id": "9d896ce2",
   "metadata": {},
   "outputs": [
    {
     "data": {
      "text/plain": [
       "Index(['labels', 'Area', 'Perim.', 'Circ.', 'Feret', 'MinFeret', 'AR', 'Round',\n",
       "       'Solidity', 'Esferoide', 'dia', 'Diameter', 'n_diam'],\n",
       "      dtype='object')"
      ]
     },
     "execution_count": 48,
     "metadata": {},
     "output_type": "execute_result"
    }
   ],
   "source": [
    "df_sinteticos_4.columns"
   ]
  },
  {
   "cell_type": "code",
   "execution_count": 49,
   "id": "54beb9c9",
   "metadata": {},
   "outputs": [
    {
     "data": {
      "text/plain": [
       "labels        object\n",
       "Area         float64\n",
       "Perim.       float64\n",
       "Circ.        float64\n",
       "Feret        float64\n",
       "MinFeret     float64\n",
       "AR           float64\n",
       "Round        float64\n",
       "Solidity     float64\n",
       "Esferoide     object\n",
       "dia            int64\n",
       "Diameter     float64\n",
       "n_diam       float64\n",
       "dtype: object"
      ]
     },
     "execution_count": 49,
     "metadata": {},
     "output_type": "execute_result"
    }
   ],
   "source": [
    "df_sinteticos_4.dtypes"
   ]
  },
  {
   "cell_type": "code",
   "execution_count": 52,
   "id": "651a64bc",
   "metadata": {},
   "outputs": [
    {
     "name": "stdout",
     "output_type": "stream",
     "text": [
      "Variable Categórica: ['labels', 'Esferoide'] \n",
      "\n",
      "Variable Numérica: ['Area', 'Perim.', 'Circ.', 'Feret', 'MinFeret', 'AR', 'Round', 'Solidity', 'dia', 'Diameter', 'n_diam']\n"
     ]
    }
   ],
   "source": [
    "# creamos arrays para cada tipo de variable\n",
    "variable_categorica = []\n",
    "variable_numerica = []\n",
    "\n",
    "# Iteramos a través de las columnas\n",
    "for columna in df_sinteticos_4.columns:\n",
    "    if df_sinteticos_4[columna].dtypes == 'object':\n",
    "        variable_categorica.append(columna)\n",
    "    else:\n",
    "        variable_numerica.append(columna)\n",
    "\n",
    "print('Variable Categórica:', variable_categorica,'\\n')\n",
    "print('Variable Numérica:', variable_numerica)\n"
   ]
  },
  {
   "cell_type": "code",
   "execution_count": 56,
   "id": "3c7ee4de",
   "metadata": {},
   "outputs": [
    {
     "data": {
      "text/plain": [
       "array(['00000', '00001', '0000a', '0000b', '0000c', '0000d', '0000e',\n",
       "       '0000f', '0000g', '0000h', '0000i', '0000j', '0000k', '0000l',\n",
       "       '0000m', '0000n', '0000o', '0000p', '0000q', '0000r', '0000s',\n",
       "       '0000t', '0000u', '0000v', '0000w', '0000x', '0000y', '0000z',\n",
       "       '00010', '00011', '0001a', '0001b', '0001c', '0001d', '0001e',\n",
       "       '0001f', '0001g', '0001h', '0001i', '0001j', '0001k', '0001l',\n",
       "       '0001m', '0001n', '0001o', '0001p', '0001q', '0001r', '0001s',\n",
       "       '0001t'], dtype=object)"
      ]
     },
     "execution_count": 56,
     "metadata": {},
     "output_type": "execute_result"
    }
   ],
   "source": [
    "df_sinteticos_4[\"labels\"].unique()"
   ]
  },
  {
   "cell_type": "code",
   "execution_count": 65,
   "id": "c9ad01ab",
   "metadata": {},
   "outputs": [
    {
     "data": {
      "text/plain": [
       "array(['si'], dtype=object)"
      ]
     },
     "execution_count": 65,
     "metadata": {},
     "output_type": "execute_result"
    }
   ],
   "source": [
    "df_sinteticos_4[\"Esferoide\"].unique()"
   ]
  },
  {
   "cell_type": "code",
   "execution_count": 66,
   "id": "0fb71399",
   "metadata": {},
   "outputs": [
    {
     "data": {
      "text/plain": [
       "si    50\n",
       "Name: Esferoide, dtype: int64"
      ]
     },
     "execution_count": 66,
     "metadata": {},
     "output_type": "execute_result"
    }
   ],
   "source": [
    "df_sinteticos_4[\"Esferoide\"].value_counts()"
   ]
  },
  {
   "cell_type": "markdown",
   "id": "a5c6700d",
   "metadata": {},
   "source": [
    "## Análisis y exploración de los datos sinteticos dia 5"
   ]
  },
  {
   "cell_type": "code",
   "execution_count": null,
   "id": "7ada7d81",
   "metadata": {},
   "outputs": [],
   "source": [
    "df_sinteticos_5=pd.read_csv(\"data/datos_sinteticos/synthetic_data_dia_5_si.csv\")"
   ]
  },
  {
   "cell_type": "code",
   "execution_count": 9,
   "id": "4b5b9908",
   "metadata": {},
   "outputs": [
    {
     "data": {
      "text/html": [
       "<div>\n",
       "<style scoped>\n",
       "    .dataframe tbody tr th:only-of-type {\n",
       "        vertical-align: middle;\n",
       "    }\n",
       "\n",
       "    .dataframe tbody tr th {\n",
       "        vertical-align: top;\n",
       "    }\n",
       "\n",
       "    .dataframe thead th {\n",
       "        text-align: right;\n",
       "    }\n",
       "</style>\n",
       "<table border=\"1\" class=\"dataframe\">\n",
       "  <thead>\n",
       "    <tr style=\"text-align: right;\">\n",
       "      <th></th>\n",
       "      <th>labels</th>\n",
       "      <th>Area</th>\n",
       "      <th>Perim.</th>\n",
       "      <th>Circ.</th>\n",
       "      <th>Feret</th>\n",
       "      <th>MinFeret</th>\n",
       "      <th>AR</th>\n",
       "      <th>Round</th>\n",
       "      <th>Solidity</th>\n",
       "      <th>Esferoide</th>\n",
       "      <th>dia</th>\n",
       "      <th>Diameter</th>\n",
       "      <th>n_diam</th>\n",
       "    </tr>\n",
       "  </thead>\n",
       "  <tbody>\n",
       "    <tr>\n",
       "      <th>0</th>\n",
       "      <td>000fh</td>\n",
       "      <td>1940.893421</td>\n",
       "      <td>161.8442</td>\n",
       "      <td>-0.627087</td>\n",
       "      <td>53.714871</td>\n",
       "      <td>62.5798</td>\n",
       "      <td>1.026814</td>\n",
       "      <td>0.973772</td>\n",
       "      <td>0.9833</td>\n",
       "      <td>si</td>\n",
       "      <td>5</td>\n",
       "      <td>46.077939</td>\n",
       "      <td>12.629334</td>\n",
       "    </tr>\n",
       "    <tr>\n",
       "      <th>1</th>\n",
       "      <td>000gl</td>\n",
       "      <td>17291.426981</td>\n",
       "      <td>524.0741</td>\n",
       "      <td>-0.627087</td>\n",
       "      <td>163.107805</td>\n",
       "      <td>155.1193</td>\n",
       "      <td>1.053760</td>\n",
       "      <td>0.949237</td>\n",
       "      <td>0.9835</td>\n",
       "      <td>si</td>\n",
       "      <td>5</td>\n",
       "      <td>149.262276</td>\n",
       "      <td>635.094169</td>\n",
       "    </tr>\n",
       "    <tr>\n",
       "      <th>2</th>\n",
       "      <td>000gq</td>\n",
       "      <td>1191.282905</td>\n",
       "      <td>155.5651</td>\n",
       "      <td>-0.627087</td>\n",
       "      <td>47.768183</td>\n",
       "      <td>41.5086</td>\n",
       "      <td>1.071748</td>\n",
       "      <td>0.933102</td>\n",
       "      <td>0.9508</td>\n",
       "      <td>si</td>\n",
       "      <td>5</td>\n",
       "      <td>40.808361</td>\n",
       "      <td>8.924818</td>\n",
       "    </tr>\n",
       "    <tr>\n",
       "      <th>3</th>\n",
       "      <td>000gx</td>\n",
       "      <td>3586.495060</td>\n",
       "      <td>269.9627</td>\n",
       "      <td>-0.627087</td>\n",
       "      <td>119.774515</td>\n",
       "      <td>73.2305</td>\n",
       "      <td>1.134870</td>\n",
       "      <td>0.881704</td>\n",
       "      <td>0.9813</td>\n",
       "      <td>si</td>\n",
       "      <td>5</td>\n",
       "      <td>60.997945</td>\n",
       "      <td>34.826990</td>\n",
       "    </tr>\n",
       "    <tr>\n",
       "      <th>4</th>\n",
       "      <td>000hl</td>\n",
       "      <td>11298.641901</td>\n",
       "      <td>402.5262</td>\n",
       "      <td>-0.627087</td>\n",
       "      <td>135.064444</td>\n",
       "      <td>120.0183</td>\n",
       "      <td>1.185762</td>\n",
       "      <td>0.843270</td>\n",
       "      <td>0.9812</td>\n",
       "      <td>si</td>\n",
       "      <td>5</td>\n",
       "      <td>106.108531</td>\n",
       "      <td>294.398135</td>\n",
       "    </tr>\n",
       "  </tbody>\n",
       "</table>\n",
       "</div>"
      ],
      "text/plain": [
       "  labels          Area    Perim.     Circ.       Feret  MinFeret        AR  \\\n",
       "0  000fh   1940.893421  161.8442 -0.627087   53.714871   62.5798  1.026814   \n",
       "1  000gl  17291.426981  524.0741 -0.627087  163.107805  155.1193  1.053760   \n",
       "2  000gq   1191.282905  155.5651 -0.627087   47.768183   41.5086  1.071748   \n",
       "3  000gx   3586.495060  269.9627 -0.627087  119.774515   73.2305  1.134870   \n",
       "4  000hl  11298.641901  402.5262 -0.627087  135.064444  120.0183  1.185762   \n",
       "\n",
       "      Round  Solidity Esferoide  dia    Diameter      n_diam  \n",
       "0  0.973772    0.9833        si    5   46.077939   12.629334  \n",
       "1  0.949237    0.9835        si    5  149.262276  635.094169  \n",
       "2  0.933102    0.9508        si    5   40.808361    8.924818  \n",
       "3  0.881704    0.9813        si    5   60.997945   34.826990  \n",
       "4  0.843270    0.9812        si    5  106.108531  294.398135  "
      ]
     },
     "execution_count": 9,
     "metadata": {},
     "output_type": "execute_result"
    }
   ],
   "source": [
    "df_sinteticos_5.head()"
   ]
  },
  {
   "cell_type": "code",
   "execution_count": 41,
   "id": "40bc0f34",
   "metadata": {},
   "outputs": [
    {
     "name": "stdout",
     "output_type": "stream",
     "text": [
      "<class 'pandas.core.frame.DataFrame'>\n",
      "RangeIndex: 41 entries, 0 to 40\n",
      "Data columns (total 13 columns):\n",
      " #   Column     Non-Null Count  Dtype  \n",
      "---  ------     --------------  -----  \n",
      " 0   labels     41 non-null     object \n",
      " 1   Area       41 non-null     float64\n",
      " 2   Perim.     41 non-null     float64\n",
      " 3   Circ.      41 non-null     float64\n",
      " 4   Feret      41 non-null     float64\n",
      " 5   MinFeret   41 non-null     float64\n",
      " 6   AR         41 non-null     float64\n",
      " 7   Round      41 non-null     float64\n",
      " 8   Solidity   41 non-null     float64\n",
      " 9   Esferoide  41 non-null     object \n",
      " 10  dia        41 non-null     int64  \n",
      " 11  Diameter   41 non-null     float64\n",
      " 12  n_diam     41 non-null     float64\n",
      "dtypes: float64(10), int64(1), object(2)\n",
      "memory usage: 4.3+ KB\n"
     ]
    }
   ],
   "source": [
    "df_sinteticos_5.info()"
   ]
  },
  {
   "cell_type": "code",
   "execution_count": 42,
   "id": "704b83cc",
   "metadata": {},
   "outputs": [
    {
     "data": {
      "text/plain": [
       "(41, 13)"
      ]
     },
     "execution_count": 42,
     "metadata": {},
     "output_type": "execute_result"
    }
   ],
   "source": [
    "df_sinteticos_5.shape"
   ]
  },
  {
   "cell_type": "code",
   "execution_count": 44,
   "id": "ceb699a2",
   "metadata": {},
   "outputs": [
    {
     "data": {
      "text/plain": [
       "Index(['labels', 'Area', 'Perim.', 'Circ.', 'Feret', 'MinFeret', 'AR', 'Round',\n",
       "       'Solidity', 'Esferoide', 'dia', 'Diameter', 'n_diam'],\n",
       "      dtype='object')"
      ]
     },
     "execution_count": 44,
     "metadata": {},
     "output_type": "execute_result"
    }
   ],
   "source": [
    "df_sinteticos_5.columns"
   ]
  },
  {
   "cell_type": "code",
   "execution_count": 46,
   "id": "bc1ba88a",
   "metadata": {},
   "outputs": [
    {
     "data": {
      "text/plain": [
       "labels        object\n",
       "Area         float64\n",
       "Perim.       float64\n",
       "Circ.        float64\n",
       "Feret        float64\n",
       "MinFeret     float64\n",
       "AR           float64\n",
       "Round        float64\n",
       "Solidity     float64\n",
       "Esferoide     object\n",
       "dia            int64\n",
       "Diameter     float64\n",
       "n_diam       float64\n",
       "dtype: object"
      ]
     },
     "execution_count": 46,
     "metadata": {},
     "output_type": "execute_result"
    }
   ],
   "source": [
    "df_sinteticos_5.dtypes"
   ]
  },
  {
   "cell_type": "code",
   "execution_count": 53,
   "id": "80631c2d",
   "metadata": {},
   "outputs": [
    {
     "name": "stdout",
     "output_type": "stream",
     "text": [
      "Variable Categórica: ['labels', 'Esferoide'] \n",
      "\n",
      "Variable Numérica: ['Area', 'Perim.', 'Circ.', 'Feret', 'MinFeret', 'AR', 'Round', 'Solidity', 'dia', 'Diameter', 'n_diam']\n"
     ]
    }
   ],
   "source": [
    "# creamos arrays para cada tipo de variable\n",
    "variable_categorica = []\n",
    "variable_numerica = []\n",
    "\n",
    "# Iteramos a través de las columnas\n",
    "for columna in df_sinteticos_5.columns:\n",
    "    if df_sinteticos_5[columna].dtypes == 'object':\n",
    "        variable_categorica.append(columna)\n",
    "    else:\n",
    "        variable_numerica.append(columna)\n",
    "\n",
    "print('Variable Categórica:', variable_categorica,'\\n')\n",
    "print('Variable Numérica:', variable_numerica)\n"
   ]
  },
  {
   "cell_type": "code",
   "execution_count": 58,
   "id": "8caf710f",
   "metadata": {},
   "outputs": [
    {
     "data": {
      "text/plain": [
       "array(['000fh', '000gl', '000gq', '000gx', '000hl', '000hw', '000hy',\n",
       "       '000ib', '000j1', '000jv', '000kf', '000kx', '000lf', '000lj',\n",
       "       '000lo', '000mb', '000mf', '000mw', '000ni', '000no', '000nr',\n",
       "       '000ny', '000nz', '000o0', '000oi', '000op', '000pr', '000qd',\n",
       "       '000qg', '000qp', '000rk', '000rn', '000sm', '000t0', '000tj',\n",
       "       '000tr', '000uv', '000vr', '000vv', '000wt', '000ww'], dtype=object)"
      ]
     },
     "execution_count": 58,
     "metadata": {},
     "output_type": "execute_result"
    }
   ],
   "source": [
    "df_sinteticos_5[\"labels\"].unique()"
   ]
  },
  {
   "cell_type": "code",
   "execution_count": 69,
   "id": "0f72ddb0",
   "metadata": {},
   "outputs": [
    {
     "data": {
      "text/plain": [
       "array(['si'], dtype=object)"
      ]
     },
     "execution_count": 69,
     "metadata": {},
     "output_type": "execute_result"
    }
   ],
   "source": [
    "df_sinteticos_5[\"Esferoide\"].unique()"
   ]
  },
  {
   "cell_type": "code",
   "execution_count": 70,
   "id": "2235d037",
   "metadata": {},
   "outputs": [
    {
     "data": {
      "text/plain": [
       "si    41\n",
       "Name: Esferoide, dtype: int64"
      ]
     },
     "execution_count": 70,
     "metadata": {},
     "output_type": "execute_result"
    }
   ],
   "source": [
    "df_sinteticos_5[\"Esferoide\"].value_counts()"
   ]
  },
  {
   "cell_type": "markdown",
   "id": "0f286f27",
   "metadata": {},
   "source": [
    "## Comparación con los datos de los dias 3, 4 y 5 "
   ]
  },
  {
   "cell_type": "code",
   "execution_count": 77,
   "id": "907bc3b1",
   "metadata": {},
   "outputs": [],
   "source": [
    "raw_df = pd.read_csv(\"data/raw/fiji_datos_0al7mo_labels.csv\")"
   ]
  },
  {
   "cell_type": "code",
   "execution_count": 78,
   "id": "e57f3020",
   "metadata": {},
   "outputs": [
    {
     "data": {
      "text/html": [
       "<div>\n",
       "<style scoped>\n",
       "    .dataframe tbody tr th:only-of-type {\n",
       "        vertical-align: middle;\n",
       "    }\n",
       "\n",
       "    .dataframe tbody tr th {\n",
       "        vertical-align: top;\n",
       "    }\n",
       "\n",
       "    .dataframe thead th {\n",
       "        text-align: right;\n",
       "    }\n",
       "</style>\n",
       "<table border=\"1\" class=\"dataframe\">\n",
       "  <thead>\n",
       "    <tr style=\"text-align: right;\">\n",
       "      <th></th>\n",
       "      <th>labels</th>\n",
       "      <th>Area</th>\n",
       "      <th>X</th>\n",
       "      <th>Y</th>\n",
       "      <th>XM</th>\n",
       "      <th>YM</th>\n",
       "      <th>Perim.</th>\n",
       "      <th>BX</th>\n",
       "      <th>BY</th>\n",
       "      <th>Width</th>\n",
       "      <th>...</th>\n",
       "      <th>FeretY</th>\n",
       "      <th>FeretAngle</th>\n",
       "      <th>MinFeret</th>\n",
       "      <th>AR</th>\n",
       "      <th>Round</th>\n",
       "      <th>Solidity</th>\n",
       "      <th>Esferoide</th>\n",
       "      <th>dia</th>\n",
       "      <th>Diameter</th>\n",
       "      <th>n_diam</th>\n",
       "    </tr>\n",
       "  </thead>\n",
       "  <tbody>\n",
       "    <tr>\n",
       "      <th>0</th>\n",
       "      <td>Esferas_BT474_dia_0_well_1_100X_1_blob_1</td>\n",
       "      <td>324.4440</td>\n",
       "      <td>1129.2718</td>\n",
       "      <td>102.2051</td>\n",
       "      <td>1129.2718</td>\n",
       "      <td>102.2051</td>\n",
       "      <td>67.3603</td>\n",
       "      <td>1118.8859</td>\n",
       "      <td>92.3913</td>\n",
       "      <td>21.0598</td>\n",
       "      <td>...</td>\n",
       "      <td>157</td>\n",
       "      <td>23.4287</td>\n",
       "      <td>19.7011</td>\n",
       "      <td>1.0653</td>\n",
       "      <td>0.9387</td>\n",
       "      <td>0.9500</td>\n",
       "      <td>si</td>\n",
       "      <td>0</td>\n",
       "      <td>20.95640</td>\n",
       "      <td>1.491357</td>\n",
       "    </tr>\n",
       "    <tr>\n",
       "      <th>1</th>\n",
       "      <td>Esferas_BT474_dia_0_well_1_100X_1_blob_2</td>\n",
       "      <td>497.5115</td>\n",
       "      <td>1517.5528</td>\n",
       "      <td>126.1022</td>\n",
       "      <td>1517.5528</td>\n",
       "      <td>126.1022</td>\n",
       "      <td>82.8004</td>\n",
       "      <td>1504.7554</td>\n",
       "      <td>113.4511</td>\n",
       "      <td>25.8152</td>\n",
       "      <td>...</td>\n",
       "      <td>192</td>\n",
       "      <td>16.1443</td>\n",
       "      <td>25.1289</td>\n",
       "      <td>1.0475</td>\n",
       "      <td>0.9546</td>\n",
       "      <td>0.9569</td>\n",
       "      <td>si</td>\n",
       "      <td>0</td>\n",
       "      <td>26.00200</td>\n",
       "      <td>2.848733</td>\n",
       "    </tr>\n",
       "    <tr>\n",
       "      <th>2</th>\n",
       "      <td>Esferas_BT474_dia_0_well_1_100X_1_blob_3</td>\n",
       "      <td>282.9078</td>\n",
       "      <td>1314.2815</td>\n",
       "      <td>126.0988</td>\n",
       "      <td>1314.2815</td>\n",
       "      <td>126.0988</td>\n",
       "      <td>62.1586</td>\n",
       "      <td>1304.3478</td>\n",
       "      <td>116.8478</td>\n",
       "      <td>19.7011</td>\n",
       "      <td>...</td>\n",
       "      <td>189</td>\n",
       "      <td>15.4222</td>\n",
       "      <td>18.3424</td>\n",
       "      <td>1.0395</td>\n",
       "      <td>0.9620</td>\n",
       "      <td>0.9519</td>\n",
       "      <td>si</td>\n",
       "      <td>0</td>\n",
       "      <td>19.38970</td>\n",
       "      <td>1.181258</td>\n",
       "    </tr>\n",
       "    <tr>\n",
       "      <th>3</th>\n",
       "      <td>Esferas_BT474_dia_0_well_1_100X_1_blob_5</td>\n",
       "      <td>500.7421</td>\n",
       "      <td>1189.2841</td>\n",
       "      <td>212.6155</td>\n",
       "      <td>1189.2841</td>\n",
       "      <td>212.6155</td>\n",
       "      <td>84.5571</td>\n",
       "      <td>1175.9511</td>\n",
       "      <td>200.4076</td>\n",
       "      <td>26.4946</td>\n",
       "      <td>...</td>\n",
       "      <td>309</td>\n",
       "      <td>174.1440</td>\n",
       "      <td>25.1359</td>\n",
       "      <td>1.0278</td>\n",
       "      <td>0.9730</td>\n",
       "      <td>0.9493</td>\n",
       "      <td>si</td>\n",
       "      <td>0</td>\n",
       "      <td>25.88475</td>\n",
       "      <td>2.810370</td>\n",
       "    </tr>\n",
       "    <tr>\n",
       "      <th>4</th>\n",
       "      <td>Esferas_BT474_dia_0_well_1_100X_1_blob_6</td>\n",
       "      <td>492.8964</td>\n",
       "      <td>1043.0782</td>\n",
       "      <td>247.7667</td>\n",
       "      <td>1043.0782</td>\n",
       "      <td>247.7667</td>\n",
       "      <td>82.0728</td>\n",
       "      <td>1030.5707</td>\n",
       "      <td>235.7337</td>\n",
       "      <td>25.1359</td>\n",
       "      <td>...</td>\n",
       "      <td>353</td>\n",
       "      <td>143.4270</td>\n",
       "      <td>24.4565</td>\n",
       "      <td>1.0186</td>\n",
       "      <td>0.9817</td>\n",
       "      <td>0.9643</td>\n",
       "      <td>si</td>\n",
       "      <td>0</td>\n",
       "      <td>25.33985</td>\n",
       "      <td>2.636596</td>\n",
       "    </tr>\n",
       "  </tbody>\n",
       "</table>\n",
       "<p>5 rows × 24 columns</p>\n",
       "</div>"
      ],
      "text/plain": [
       "                                     labels      Area          X         Y  \\\n",
       "0  Esferas_BT474_dia_0_well_1_100X_1_blob_1  324.4440  1129.2718  102.2051   \n",
       "1  Esferas_BT474_dia_0_well_1_100X_1_blob_2  497.5115  1517.5528  126.1022   \n",
       "2  Esferas_BT474_dia_0_well_1_100X_1_blob_3  282.9078  1314.2815  126.0988   \n",
       "3  Esferas_BT474_dia_0_well_1_100X_1_blob_5  500.7421  1189.2841  212.6155   \n",
       "4  Esferas_BT474_dia_0_well_1_100X_1_blob_6  492.8964  1043.0782  247.7667   \n",
       "\n",
       "          XM        YM   Perim.         BX        BY    Width  ...  FeretY  \\\n",
       "0  1129.2718  102.2051  67.3603  1118.8859   92.3913  21.0598  ...     157   \n",
       "1  1517.5528  126.1022  82.8004  1504.7554  113.4511  25.8152  ...     192   \n",
       "2  1314.2815  126.0988  62.1586  1304.3478  116.8478  19.7011  ...     189   \n",
       "3  1189.2841  212.6155  84.5571  1175.9511  200.4076  26.4946  ...     309   \n",
       "4  1043.0782  247.7667  82.0728  1030.5707  235.7337  25.1359  ...     353   \n",
       "\n",
       "   FeretAngle  MinFeret      AR   Round  Solidity  Esferoide  dia  Diameter  \\\n",
       "0     23.4287   19.7011  1.0653  0.9387    0.9500         si    0  20.95640   \n",
       "1     16.1443   25.1289  1.0475  0.9546    0.9569         si    0  26.00200   \n",
       "2     15.4222   18.3424  1.0395  0.9620    0.9519         si    0  19.38970   \n",
       "3    174.1440   25.1359  1.0278  0.9730    0.9493         si    0  25.88475   \n",
       "4    143.4270   24.4565  1.0186  0.9817    0.9643         si    0  25.33985   \n",
       "\n",
       "     n_diam  \n",
       "0  1.491357  \n",
       "1  2.848733  \n",
       "2  1.181258  \n",
       "3  2.810370  \n",
       "4  2.636596  \n",
       "\n",
       "[5 rows x 24 columns]"
      ]
     },
     "execution_count": 78,
     "metadata": {},
     "output_type": "execute_result"
    }
   ],
   "source": [
    "raw_df.head()"
   ]
  },
  {
   "cell_type": "code",
   "execution_count": null,
   "id": "43b5d234",
   "metadata": {},
   "outputs": [],
   "source": [
    "#Cantidad de datos clasificados como Esferoide \"si\" y \"no\" en los dias 3, 4 y 5"
   ]
  },
  {
   "cell_type": "code",
   "execution_count": 89,
   "id": "e2d2c6c9",
   "metadata": {},
   "outputs": [
    {
     "data": {
      "text/plain": [
       "no    25\n",
       "si    18\n",
       "Name: Esferoide, dtype: int64"
      ]
     },
     "execution_count": 89,
     "metadata": {},
     "output_type": "execute_result"
    }
   ],
   "source": [
    "#En el dia 3 \n",
    "\n",
    "raw_df[raw_df['dia'] == 3]['Esferoide'].value_counts()"
   ]
  },
  {
   "cell_type": "code",
   "execution_count": 90,
   "id": "88bf10e7",
   "metadata": {},
   "outputs": [
    {
     "data": {
      "text/plain": [
       "no    206\n",
       "si     48\n",
       "Name: Esferoide, dtype: int64"
      ]
     },
     "execution_count": 90,
     "metadata": {},
     "output_type": "execute_result"
    }
   ],
   "source": [
    "#En el dia 4 \n",
    "\n",
    "raw_df[raw_df['dia'] == 4]['Esferoide'].value_counts()"
   ]
  },
  {
   "cell_type": "code",
   "execution_count": 91,
   "id": "21b0e605",
   "metadata": {},
   "outputs": [
    {
     "data": {
      "text/plain": [
       "si    28\n",
       "no    24\n",
       "Name: Esferoide, dtype: int64"
      ]
     },
     "execution_count": 91,
     "metadata": {},
     "output_type": "execute_result"
    }
   ],
   "source": [
    "#En el dia 5\n",
    "\n",
    "raw_df[raw_df['dia'] == 5]['Esferoide'].value_counts()"
   ]
  },
  {
   "cell_type": "markdown",
   "id": "2fa6346e",
   "metadata": {},
   "source": [
    "Lo que se puede notar en un principio es que en los dias 3 y 5 hay menor cantidad de datos que en el dia 4. En el dia 4 hay mayor cantidad de datos etiquetados como esferoides \"no\" que esferoides \"si\". Al contar con datos del dia 3 y 5 sinteticos se podrian agragar al dataset para contar con mas cantidad"
   ]
  },
  {
   "cell_type": "code",
   "execution_count": 103,
   "id": "1a88637d",
   "metadata": {},
   "outputs": [
    {
     "data": {
      "text/plain": [
       "dia  Esferoide\n",
       "3    si           29\n",
       "5    si           26\n",
       "dtype: int64"
      ]
     },
     "execution_count": 103,
     "metadata": {},
     "output_type": "execute_result"
    }
   ],
   "source": [
    "df_sinteticos_3_5.groupby([\"dia\",\"Esferoide\"]).size()"
   ]
  },
  {
   "cell_type": "code",
   "execution_count": 104,
   "id": "b666c4ae",
   "metadata": {},
   "outputs": [
    {
     "data": {
      "text/plain": [
       "dia  Esferoide\n",
       "3    no           60\n",
       "     si           17\n",
       "5    no           64\n",
       "     si           20\n",
       "dtype: int64"
      ]
     },
     "execution_count": 104,
     "metadata": {},
     "output_type": "execute_result"
    }
   ],
   "source": [
    "df_sinteticos_3_5_bis.groupby([\"dia\",\"Esferoide\"]).size()"
   ]
  },
  {
   "cell_type": "code",
   "execution_count": 144,
   "id": "40755fbc",
   "metadata": {},
   "outputs": [
    {
     "data": {
      "text/plain": [
       "array(['si'], dtype=object)"
      ]
     },
     "execution_count": 144,
     "metadata": {},
     "output_type": "execute_result"
    }
   ],
   "source": [
    "df_sinteticos_3[\"Esferoide\"].unique()"
   ]
  },
  {
   "cell_type": "code",
   "execution_count": 154,
   "id": "7f4d6031",
   "metadata": {},
   "outputs": [
    {
     "data": {
      "text/plain": [
       "si    56\n",
       "Name: Esferoide, dtype: int64"
      ]
     },
     "execution_count": 154,
     "metadata": {},
     "output_type": "execute_result"
    }
   ],
   "source": [
    "df_sinteticos_3[\"Esferoide\"].value_counts()"
   ]
  },
  {
   "cell_type": "code",
   "execution_count": 152,
   "id": "2d4b0838",
   "metadata": {},
   "outputs": [
    {
     "data": {
      "text/plain": [
       "array(['si'], dtype=object)"
      ]
     },
     "execution_count": 152,
     "metadata": {},
     "output_type": "execute_result"
    }
   ],
   "source": [
    "df_sinteticos_5[\"Esferoide\"].unique()"
   ]
  },
  {
   "cell_type": "code",
   "execution_count": 153,
   "id": "ad5dce65",
   "metadata": {},
   "outputs": [
    {
     "data": {
      "text/plain": [
       "si    41\n",
       "Name: Esferoide, dtype: int64"
      ]
     },
     "execution_count": 153,
     "metadata": {},
     "output_type": "execute_result"
    }
   ],
   "source": [
    "df_sinteticos_5[\"Esferoide\"].value_counts()"
   ]
  },
  {
   "cell_type": "code",
   "execution_count": 159,
   "id": "7dc36b82",
   "metadata": {},
   "outputs": [
    {
     "name": "stdout",
     "output_type": "stream",
     "text": [
      "La cantidad de datos sinteticos clasificados el dia 3 como esferoide  es: 129\n",
      "La cantidad de datos sinteticos clasificados el dia 3 como  no esferoide  es: 60\n"
     ]
    }
   ],
   "source": [
    "#Cantidad de datos sinteticos esferoide \"si\", \"no\" dia 3\n",
    "\n",
    "si_sintetico_3_5 = len(df_sinteticos_3_5[(df_sinteticos_3_5['dia'] == 3) & (df_sinteticos_3_5['Esferoide'] == 'si')])\n",
    "si_sintetico_3_5_bis= len(df_sinteticos_3_5_bis[(df_sinteticos_3_5_bis['dia'] == 3) & (df_sinteticos_3_5_bis['Esferoide'] == 'si')])\n",
    "si_sintetico_3=len(df_sinteticos_3[df_sinteticos_3['Esferoide'] == 'si'])\n",
    "\n",
    "\n",
    "count_dia_3_si= si_sintetico_3 + si_sintetico_3_bis + si_sintetico_3\n",
    "print(f\"La cantidad de datos sinteticos clasificados el dia 3 como esferoide  es: {count_dia_3_si}\")\n",
    "\n",
    "no_sintetico_3 = len(df_sinteticos_3_5[(df_sinteticos_3_5['dia'] == 3) & (df_sinteticos_3_5['Esferoide'] == 'no')])\n",
    "no_sintetico_3_bis= len(df_sinteticos_3_5_bis[(df_sinteticos_3_5_bis['dia'] == 3) & (df_sinteticos_3_5_bis['Esferoide'] == 'no')])\n",
    "\n",
    "count_dia_3_no= no_sintetico_3 + no_sintetico_3_bis\n",
    "print(f\"La cantidad de datos sinteticos clasificados el dia 3 como  no esferoide  es: {count_dia_3_no}\")\n"
   ]
  },
  {
   "cell_type": "code",
   "execution_count": 160,
   "id": "ebabcb74",
   "metadata": {},
   "outputs": [
    {
     "name": "stdout",
     "output_type": "stream",
     "text": [
      "La cantidad de datos sinteticos clasificados el dia 5 como esferoide  es: 102\n",
      "La cantidad de datos sinteticos clasificados el dia 5 como  no esferoide  es: 64\n"
     ]
    }
   ],
   "source": [
    "#Cantidad de datos sinteticos esferoide \"si\", \"no\" dia 5\n",
    "\n",
    "si_sintetico_5 = len(df_sinteticos_3_5[(df_sinteticos_3_5['dia'] == 5) & (df_sinteticos_3_5['Esferoide'] == 'si')])\n",
    "si_sintetico_5_bis= len(df_sinteticos_3_5_bis[(df_sinteticos_3_5_bis['dia'] == 5) & (df_sinteticos_3_5_bis['Esferoide'] == 'si')])\n",
    "si_sintetico_5=len(df_sinteticos_5[df_sinteticos_5['Esferoide'] == 'si'])\n",
    "\n",
    "count_dia_5_si= si_sintetico_5 + si_sintetico_5_bis + si_sintetico_5\n",
    "print(f\"La cantidad de datos sinteticos clasificados el dia 5 como esferoide  es: {count_dia_5_si}\")\n",
    "\n",
    "no_sintetico_5 = len(df_sinteticos_3_5[(df_sinteticos_3_5['dia'] == 5) & (df_sinteticos_3_5['Esferoide'] == 'no')])\n",
    "no_sintetico_5_bis= len(df_sinteticos_3_5_bis[(df_sinteticos_3_5_bis['dia'] == 5) & (df_sinteticos_3_5_bis['Esferoide'] == 'no')])\n",
    "\n",
    "count_dia_5_no= no_sintetico_5+ no_sintetico_5_bis\n",
    "print(f\"La cantidad de datos sinteticos clasificados el dia 5 como  no esferoide  es: {count_dia_5_no}\")\n"
   ]
  },
  {
   "cell_type": "code",
   "execution_count": 161,
   "id": "7a8f71d1",
   "metadata": {},
   "outputs": [
    {
     "data": {
      "text/plain": [
       "array(['si'], dtype=object)"
      ]
     },
     "execution_count": 161,
     "metadata": {},
     "output_type": "execute_result"
    }
   ],
   "source": [
    "#Para el dia 4 serviria agregar datos sinteticos que esten clasificados como esferoide \"si\"\n",
    "\n",
    "df_sinteticos_4[\"Esferoide\"].unique()"
   ]
  },
  {
   "cell_type": "code",
   "execution_count": 162,
   "id": "8df4a28f",
   "metadata": {},
   "outputs": [
    {
     "data": {
      "text/plain": [
       "si    50\n",
       "Name: Esferoide, dtype: int64"
      ]
     },
     "execution_count": 162,
     "metadata": {},
     "output_type": "execute_result"
    }
   ],
   "source": [
    "df_sinteticos_4[\"Esferoide\"].value_counts()"
   ]
  },
  {
   "cell_type": "code",
   "execution_count": null,
   "id": "fc28aeb0",
   "metadata": {},
   "outputs": [],
   "source": [
    "#se podria decidir agregar estos 50 datos para sumar esferoides si al dia 4 "
   ]
  }
 ],
 "metadata": {
  "kernelspec": {
   "display_name": "Python 3 (ipykernel)",
   "language": "python",
   "name": "python3"
  },
  "language_info": {
   "codemirror_mode": {
    "name": "ipython",
    "version": 3
   },
   "file_extension": ".py",
   "mimetype": "text/x-python",
   "name": "python",
   "nbconvert_exporter": "python",
   "pygments_lexer": "ipython3",
   "version": "3.9.13"
  }
 },
 "nbformat": 4,
 "nbformat_minor": 5
}
