{
 "cells": [
  {
   "cell_type": "markdown",
   "metadata": {
    "id": "-S_T19aNnGhb"
   },
   "source": [
    "\n",
    "<center>\n",
    "<h4>Universidad Nacional de Córdoba - Facultad de Matemática, Astronomía, Física y Computación</h4>\n",
    "<h3>Diplomatura en Ciencia de Datos, Aprendizaje Automático y sus Aplicaciones</h3>\n",
    " <h2>Mentoría: Clasificación de Tumoresferas </h2>\n",
    "</center>\n",
    "\n"
   ]
  },
  {
   "cell_type": "markdown",
   "metadata": {
    "id": "OCZIyaVatb3o"
   },
   "source": [
    "<a name=\"exploratory_data_analysis\"></a>\n",
    "#### **Práctico de Análisis Exploratorio y Curación**\n",
    "  \n"
   ]
  },
  {
   "cell_type": "markdown",
   "metadata": {
    "id": "cIXIZi43XKcC"
   },
   "source": [
    "Importamos las librerías necesarias:"
   ]
  },
  {
   "cell_type": "code",
   "execution_count": 65,
   "metadata": {
    "id": "Ca29yxa57Sbz"
   },
   "outputs": [
    {
     "name": "stdout",
     "output_type": "stream",
     "text": [
      "Requirement already satisfied: SQLAlchemy in c:\\users\\marti\\anaconda3\\lib\\site-packages (2.0.18)\n",
      "Requirement already satisfied: typing-extensions>=4.2.0 in c:\\users\\marti\\anaconda3\\lib\\site-packages (from SQLAlchemy) (4.6.3)\n",
      "Requirement already satisfied: greenlet!=0.4.17 in c:\\users\\marti\\anaconda3\\lib\\site-packages (from SQLAlchemy) (2.0.2)\n"
     ]
    }
   ],
   "source": [
    "! pip install SQLAlchemy"
   ]
  },
  {
   "cell_type": "code",
   "execution_count": 66,
   "metadata": {
    "id": "kdtKG4W2XL1d"
   },
   "outputs": [],
   "source": [
    "import numpy as np\n",
    "import pandas as pd\n",
    "\n",
    "from sqlalchemy import create_engine, text"
   ]
  },
  {
   "cell_type": "markdown",
   "metadata": {
    "id": "UBOGEc9m7Sb5"
   },
   "source": [
    "## Agrupaciones:"
   ]
  },
  {
   "cell_type": "markdown",
   "metadata": {
    "id": "aesZowbr7Sb6"
   },
   "source": [
    "### SQL\n",
    "\n",
    "Vamos a explorar los datos por medio de algunas consultas (queries) al archivo original (con el que trabajaron en el TP1):\n",
    "\n",
    " * Cargar el archivo *'data/raw/fiji_datos_0al7mo_labels.csv'* a SQLite.\n",
    " * Realizar las siguientes consultas:\n",
    "\n",
    "    1) Verificar la cantidad de datos cargados (les debería dar 1018).\n",
    "  \n",
    "    2) Listar las primeras 7 líneas con las columnas *'Area'*, *'Round'* con alias *'redondez'*, *Diameter* con alias *'diametro'*, *n_diam* con alias  *poblacion_celular* y *esferoide*.\n",
    "     \n",
    "     Realizar la misma consulta pero filtrando por los días 3 y 5.\n",
    "  \n",
    "    3) Consultar los distintos días y aparte las etiquetas presentes. Contar cuántas filas hay por día y luego consultar cuantas son *esferoide = 'si'*.   \n",
    "    \n",
    "     Probar con GROUP BY de dos columnas si pueden contabilizar 'si' y 'no' por día.\n",
    "    \n",
    "    4 ) En algún día en particular (a partir del 3er día), consultar cuántos datos:\n",
    "        \n",
    "    * Son esferoides \"si\" y \"no\".        \n",
    "\n",
    "    * Tienen su diámetro entre 50 $\\mu$m y 200$\\mu$ m.\n",
    "\n",
    "\n"
   ]
  },
  {
   "cell_type": "markdown",
   "metadata": {
    "id": "6EwDHCPAB66d"
   },
   "source": [
    "#### Usando SQL en Python:"
   ]
  },
  {
   "cell_type": "code",
   "execution_count": 67,
   "metadata": {
    "colab": {
     "base_uri": "https://localhost:8080/"
    },
    "id": "xa2UNOJ17Sb_",
    "outputId": "8f965246-908d-4534-c879-e089f245d163"
   },
   "outputs": [
    {
     "name": "stdout",
     "output_type": "stream",
     "text": [
      "2023-07-09 12:16:15,499 INFO sqlalchemy.engine.Engine BEGIN (implicit)\n",
      "2023-07-09 12:16:15,501 INFO sqlalchemy.engine.Engine PRAGMA main.table_info(\"fiji_datos\")\n",
      "2023-07-09 12:16:15,502 INFO sqlalchemy.engine.Engine [raw sql] ()\n",
      "2023-07-09 12:16:15,505 INFO sqlalchemy.engine.Engine ROLLBACK\n",
      "2023-07-09 12:16:15,506 INFO sqlalchemy.engine.Engine BEGIN (implicit)\n",
      "2023-07-09 12:16:15,507 INFO sqlalchemy.engine.Engine PRAGMA main.table_info(\"fiji_datos\")\n",
      "2023-07-09 12:16:15,508 INFO sqlalchemy.engine.Engine [raw sql] ()\n",
      "2023-07-09 12:16:15,512 INFO sqlalchemy.engine.Engine ROLLBACK\n",
      "2023-07-09 12:16:15,514 INFO sqlalchemy.engine.Engine BEGIN (implicit)\n",
      "2023-07-09 12:16:15,516 INFO sqlalchemy.engine.Engine SELECT name FROM sqlite_master WHERE type='table' AND name NOT LIKE 'sqlite~_%' ESCAPE '~' ORDER BY name\n",
      "2023-07-09 12:16:15,519 INFO sqlalchemy.engine.Engine [raw sql] ()\n",
      "2023-07-09 12:16:15,535 INFO sqlalchemy.engine.Engine SELECT name FROM sqlite_temp_master WHERE type='table' AND name NOT LIKE 'sqlite~_%' ESCAPE '~' ORDER BY name\n",
      "2023-07-09 12:16:15,537 INFO sqlalchemy.engine.Engine [raw sql] ()\n",
      "2023-07-09 12:16:15,540 INFO sqlalchemy.engine.Engine PRAGMA main.table_xinfo(\"fiji_datos\")\n",
      "2023-07-09 12:16:15,541 INFO sqlalchemy.engine.Engine [raw sql] ()\n",
      "2023-07-09 12:16:15,546 INFO sqlalchemy.engine.Engine SELECT sql FROM  (SELECT * FROM sqlite_master UNION ALL   SELECT * FROM sqlite_temp_master) WHERE name = ? AND type in ('table', 'view')\n",
      "2023-07-09 12:16:15,547 INFO sqlalchemy.engine.Engine [raw sql] ('fiji_datos',)\n",
      "2023-07-09 12:16:15,552 INFO sqlalchemy.engine.Engine PRAGMA main.foreign_key_list(\"fiji_datos\")\n",
      "2023-07-09 12:16:15,553 INFO sqlalchemy.engine.Engine [raw sql] ()\n",
      "2023-07-09 12:16:15,555 INFO sqlalchemy.engine.Engine PRAGMA temp.foreign_key_list(\"fiji_datos\")\n",
      "2023-07-09 12:16:15,558 INFO sqlalchemy.engine.Engine [raw sql] ()\n",
      "2023-07-09 12:16:15,562 INFO sqlalchemy.engine.Engine SELECT sql FROM  (SELECT * FROM sqlite_master UNION ALL   SELECT * FROM sqlite_temp_master) WHERE name = ? AND type in ('table', 'view')\n",
      "2023-07-09 12:16:15,563 INFO sqlalchemy.engine.Engine [raw sql] ('fiji_datos',)\n",
      "2023-07-09 12:16:15,570 INFO sqlalchemy.engine.Engine PRAGMA main.index_list(\"fiji_datos\")\n",
      "2023-07-09 12:16:15,571 INFO sqlalchemy.engine.Engine [raw sql] ()\n",
      "2023-07-09 12:16:15,575 INFO sqlalchemy.engine.Engine PRAGMA main.index_info(\"ix_fiji_datos_index\")\n",
      "2023-07-09 12:16:15,582 INFO sqlalchemy.engine.Engine [raw sql] ()\n",
      "2023-07-09 12:16:15,588 INFO sqlalchemy.engine.Engine PRAGMA main.index_list(\"fiji_datos\")\n",
      "2023-07-09 12:16:15,590 INFO sqlalchemy.engine.Engine [raw sql] ()\n",
      "2023-07-09 12:16:15,593 INFO sqlalchemy.engine.Engine PRAGMA main.index_info(\"ix_fiji_datos_index\")\n",
      "2023-07-09 12:16:15,597 INFO sqlalchemy.engine.Engine [raw sql] ()\n",
      "2023-07-09 12:16:15,600 INFO sqlalchemy.engine.Engine SELECT sql FROM  (SELECT * FROM sqlite_master UNION ALL   SELECT * FROM sqlite_temp_master) WHERE name = ? AND type in ('table', 'view')\n",
      "2023-07-09 12:16:15,601 INFO sqlalchemy.engine.Engine [raw sql] ('fiji_datos',)\n",
      "2023-07-09 12:16:15,612 INFO sqlalchemy.engine.Engine ROLLBACK\n",
      "2023-07-09 12:16:15,613 INFO sqlalchemy.engine.Engine BEGIN (implicit)\n",
      "2023-07-09 12:16:15,616 INFO sqlalchemy.engine.Engine \n",
      "DROP TABLE fiji_datos\n",
      "2023-07-09 12:16:15,618 INFO sqlalchemy.engine.Engine [no key 0.00324s] ()\n",
      "2023-07-09 12:16:15,637 INFO sqlalchemy.engine.Engine COMMIT\n",
      "2023-07-09 12:16:15,641 INFO sqlalchemy.engine.Engine BEGIN (implicit)\n",
      "2023-07-09 12:16:15,653 INFO sqlalchemy.engine.Engine \n",
      "CREATE TABLE fiji_datos (\n",
      "\t\"index\" BIGINT, \n",
      "\tlabels TEXT, \n",
      "\t\"Area\" FLOAT, \n",
      "\t\"X\" FLOAT, \n",
      "\t\"Y\" FLOAT, \n",
      "\t\"XM\" FLOAT, \n",
      "\t\"YM\" FLOAT, \n",
      "\t\"Perim.\" FLOAT, \n",
      "\t\"BX\" FLOAT, \n",
      "\t\"BY\" FLOAT, \n",
      "\t\"Width\" FLOAT, \n",
      "\t\"Height\" FLOAT, \n",
      "\t\"Circ.\" FLOAT, \n",
      "\t\"Feret\" FLOAT, \n",
      "\t\"FeretX\" BIGINT, \n",
      "\t\"FeretY\" BIGINT, \n",
      "\t\"FeretAngle\" FLOAT, \n",
      "\t\"MinFeret\" FLOAT, \n",
      "\t\"AR\" FLOAT, \n",
      "\t\"Round\" FLOAT, \n",
      "\t\"Solidity\" FLOAT, \n",
      "\t\"Esferoide\" TEXT, \n",
      "\tdia BIGINT, \n",
      "\t\"Diameter\" FLOAT, \n",
      "\tn_diam FLOAT\n",
      ")\n",
      "\n",
      "\n",
      "2023-07-09 12:16:15,655 INFO sqlalchemy.engine.Engine [no key 0.00170s] ()\n",
      "2023-07-09 12:16:15,667 INFO sqlalchemy.engine.Engine CREATE INDEX ix_fiji_datos_index ON fiji_datos (\"index\")\n",
      "2023-07-09 12:16:15,668 INFO sqlalchemy.engine.Engine [no key 0.00174s] ()\n",
      "2023-07-09 12:16:15,680 INFO sqlalchemy.engine.Engine COMMIT\n",
      "2023-07-09 12:16:15,688 INFO sqlalchemy.engine.Engine BEGIN (implicit)\n",
      "2023-07-09 12:16:15,728 INFO sqlalchemy.engine.Engine INSERT INTO fiji_datos (\"index\", labels, \"Area\", \"X\", \"Y\", \"XM\", \"YM\", \"Perim.\", \"BX\", \"BY\", \"Width\", \"Height\", \"Circ.\", \"Feret\", \"FeretX\", \"FeretY\", \"FeretAngle\", \"MinFeret\", \"AR\", \"Round\", \"Solidity\", \"Esferoide\", dia, \"Diameter\", n_diam) VALUES (?, ?, ?, ?, ?, ?, ?, ?, ?, ?, ?, ?, ?, ?, ?, ?, ?, ?, ?, ?, ?, ?, ?, ?, ?)\n",
      "2023-07-09 12:16:15,729 INFO sqlalchemy.engine.Engine [generated in 0.02705s] [(0, 'Esferas_BT474_dia_0_well_1_100X_1_blob_1', 324.444, 1129.2718, 102.2051, 1129.2718, 102.2051, 67.3603, 1118.8859, 92.3913, 21.0598, 19.7011, 0.8985, 22.2117, 1648, 157, 23.4287, 19.7011, 1.0653, 0.9387, 0.95, 'si', 0, 20.9564, 1.491356796983188), (1, 'Esferas_BT474_dia_0_well_1_100X_1_blob_2', 497.5115, 1517.5528, 126.1022, 1517.5528, 126.1022, 82.8004, 1504.7554, 113.4511, 25.8152, 25.1359, 0.9119, 26.8751, 2215, 192, 16.1443, 25.1289, 1.0475, 0.9546, 0.9569, 'si', 0, 26.002, 2.8487332309604083), (2, 'Esferas_BT474_dia_0_well_1_100X_1_blob_3', 282.9078, 1314.2815, 126.0988, 1314.2815, 126.0988, 62.1586, 1304.3478, 116.8478, 19.7011, 18.3424, 0.9201, 20.437, 1920, 189, 15.4222, 18.3424, 1.0395, 0.962, 0.9519, 'si', 0, 19.3897, 1.1812580710195366), (3, 'Esferas_BT474_dia_0_well_1_100X_1_blob_5', 500.7421, 1189.2841, 212.6155, 1189.2841, 212.6155, 84.5571, 1175.9511, 200.4076, 26.4946, 25.1359, 0.8801, 26.6336, 1731, 309, 174.144, 25.1359, 1.0278, 0.973, 0.9493, 'si', 0, 25.88475, 2.8103696347136573), (4, 'Esferas_BT474_dia_0_well_1_100X_1_blob_6', 492.8964, 1043.0782, 247.7667, 1043.0782, 247.7667, 82.0728, 1030.5707, 235.7337, 25.1359, 24.4565, 0.9195, 26.2232, 1520, 353, 143.42700000000005, 24.4565, 1.0186, 0.9817, 0.9643, 'si', 0, 25.33985, 2.6365963047688177), (5, 'Esferas_BT474_dia_0_well_1_100X_1_blob_7', 406.1319, 737.5332, 271.2736, 737.5332, 271.2736, 74.8814, 725.5435, 260.1902, 23.7772, 22.4185, 0.9102, 24.124, 1068, 401, 9.7276, 22.4185, 1.0489, 0.9533, 0.955, 'si', 0, 23.27125, 2.042164183920052), (6, 'Esferas_BT474_dia_0_well_1_100X_1_blob_8', 333.6742, 1123.7169, 318.7621, 1123.7169, 318.7621, 67.3603, 1112.7717, 309.1033, 21.7391, 19.7011, 0.9241, 21.9083, 1638, 470, 7.125, 19.7011, 1.0531, 0.9496, 0.9557, 'si', 0, 20.8047, 1.4592036020514103), (7, 'Esferas_BT474_dia_0_well_1_100X_1_blob_9', 385.8253, 739.2418, 346.0716, 739.2418, 346.0716, 73.1247, 727.5815, 334.9185, 23.0978, 22.4185, 0.9067, 23.7286, 1071, 504, 166.7595, 22.2892, 1.0607, 0.9428, 0.9489, 'si', 0, 23.0089, 1.973872468878176)  ... displaying 10 of 1018 total bound parameter sets ...  (1016, 'Esferas_BT474_dia_7_well_2_100X_6_blob_3', 531.202, 58.462, 261.9482, 58.462, 261.9482, 89.5939, 44.837, 248.6413, 26.4946, 26.4946, 0.8316, 31.2795, 66, 399, 34.3803, 24.978, 1.2569, 0.7956, 0.935, 'no', 7, 28.12875, 3.606474114918977), (1017, 'Esferas_BT474_dia_7_well_2_100X_6_blob_4', 1085.4797, 255.1506, 600.7884, 255.1506, 600.7884, 127.6657, 235.0543, 582.8804, 38.0435, 36.6848, 0.8369, 41.4903, 353, 863, 129.6855, 36.6296, 1.0724, 0.9325, 0.9544, 'no', 7, 39.05995, 9.65665173427902)]\n",
      "2023-07-09 12:16:15,746 INFO sqlalchemy.engine.Engine COMMIT\n"
     ]
    },
    {
     "data": {
      "text/plain": [
       "1018"
      ]
     },
     "execution_count": 67,
     "metadata": {},
     "output_type": "execute_result"
    }
   ],
   "source": [
    "## Para conectarse con sqlite:\n",
    "engine = create_engine('sqlite:///fiji_datos.sqlite3', echo=True)\n",
    "\n",
    "# Levantamos el archivo\n",
    "url = 'https://raw.githubusercontent.com/luciabarg/datos_tumoresferas/main/data/raw/fiji_datos_0al7mo_labels.csv'\n",
    "fiji_datos = pd.read_csv(url)\n",
    "\n",
    "fiji_datos.to_sql('fiji_datos', con=engine, if_exists=\"replace\")\n"
   ]
  },
  {
   "cell_type": "code",
   "execution_count": 68,
   "metadata": {
    "colab": {
     "base_uri": "https://localhost:8080/"
    },
    "id": "aEpHBz5p7ScB",
    "outputId": "ad92e55d-c172-4710-8a25-13a1b8c59e47"
   },
   "outputs": [
    {
     "name": "stdout",
     "output_type": "stream",
     "text": [
      "SELECT count(*) FROM fiji_datos;\n",
      "2023-07-09 12:16:15,779 INFO sqlalchemy.engine.Engine BEGIN (implicit)\n",
      "2023-07-09 12:16:15,781 INFO sqlalchemy.engine.Engine SELECT count(*) FROM fiji_datos;\n",
      "2023-07-09 12:16:15,784 INFO sqlalchemy.engine.Engine [generated in 0.00496s] ()\n",
      "   count(*)\n",
      "0      1018\n",
      "2023-07-09 12:16:15,798 INFO sqlalchemy.engine.Engine ROLLBACK\n"
     ]
    }
   ],
   "source": [
    "#Forma que les mostraron en la clase teórica:\n",
    "query1 = \"SELECT count(*) FROM fiji_datos;\"\n",
    "\n",
    "with engine.connect() as con:\n",
    "    print(query1)\n",
    "    rs = con.execute(text(query1))\n",
    "    df_rs = pd.DataFrame(rs.fetchall())\n",
    "    print(df_rs)"
   ]
  },
  {
   "cell_type": "code",
   "execution_count": 69,
   "metadata": {
    "colab": {
     "base_uri": "https://localhost:8080/",
     "height": 220
    },
    "id": "aZ4hcqo27ScB",
    "outputId": "579df44e-23de-4aaa-9446-bc8c81cef11c"
   },
   "outputs": [
    {
     "name": "stdout",
     "output_type": "stream",
     "text": [
      "2023-07-09 12:16:15,829 INFO sqlalchemy.engine.Engine BEGIN (implicit)\n",
      "2023-07-09 12:16:15,830 INFO sqlalchemy.engine.Engine  SELECT count(*) FROM fiji_datos; \n",
      "2023-07-09 12:16:15,831 INFO sqlalchemy.engine.Engine [generated in 0.00193s] ()\n",
      "2023-07-09 12:16:15,836 INFO sqlalchemy.engine.Engine ROLLBACK\n"
     ]
    },
    {
     "data": {
      "text/html": [
       "<div>\n",
       "<style scoped>\n",
       "    .dataframe tbody tr th:only-of-type {\n",
       "        vertical-align: middle;\n",
       "    }\n",
       "\n",
       "    .dataframe tbody tr th {\n",
       "        vertical-align: top;\n",
       "    }\n",
       "\n",
       "    .dataframe thead th {\n",
       "        text-align: right;\n",
       "    }\n",
       "</style>\n",
       "<table border=\"1\" class=\"dataframe\">\n",
       "  <thead>\n",
       "    <tr style=\"text-align: right;\">\n",
       "      <th></th>\n",
       "      <th>count(*)</th>\n",
       "    </tr>\n",
       "  </thead>\n",
       "  <tbody>\n",
       "    <tr>\n",
       "      <th>0</th>\n",
       "      <td>1018</td>\n",
       "    </tr>\n",
       "  </tbody>\n",
       "</table>\n",
       "</div>"
      ],
      "text/plain": [
       "   count(*)\n",
       "0      1018"
      ]
     },
     "execution_count": 69,
     "metadata": {},
     "output_type": "execute_result"
    }
   ],
   "source": [
    "# Otra forma alternativa de usar sqlalchemy en Python\n",
    "\n",
    "query1 = \" SELECT count(*) FROM fiji_datos; \"\n",
    "with engine.connect() as con:\n",
    "  query_result1 = pd.read_sql_query(text(query1), con)\n",
    "\n",
    "query_result1"
   ]
  },
  {
   "cell_type": "markdown",
   "metadata": {
    "id": "9EgdETIZECQu"
   },
   "source": [
    "#### También pueden usar la versión [**gráfica online**](https://sqliteonline.com/) de SQLite ([SQLite instructivo](https://drive.google.com/drive/folders/1iW5OaNaNDafU4e4m87xID7HcEbvb1W0V?usp=drive_link) )\n"
   ]
  },
  {
   "cell_type": "markdown",
   "metadata": {
    "id": "eRSwbb4n7ScC"
   },
   "source": [
    "Extras que podrían ayudar:\n",
    "\n",
    "* Documentación [*pandas.DataFrame.to_sql*](https://pandas.pydata.org/docs/reference/api/pandas.DataFrame.to_sql.html) y [*pandas.read_sql_query*](https://pandas.pydata.org/docs/reference/api/pandas.read_sql_query.html).\n",
    "\n",
    "\n",
    "* [Recursos SQL](https://drive.google.com/drive/folders/1EDSgMGbrRjNZX7m-GXunkQjNXUxY1NSn?usp=drive_link).\n",
    "    \n",
    "* Presentación en [MeTCamp](https://docs.google.com/presentation/d/1URSQt1sJ8Th8Y4J62zBv9x3I1lV0rckT/edit?usp=sharing&ouid=107018266094379471830&rtpof=true&sd=true).\n",
    "\n",
    "* Súper súper buenas prácticas en [este repositorio](https://github.com/daianadte/wids-cba-2023).\n"
   ]
  },
  {
   "cell_type": "markdown",
   "metadata": {
    "id": "68fptUyRoi8v"
   },
   "source": [
    "#### Resolvemos las queries usando SQLite.\n",
    "1) Resuelta en la consigna.\n",
    "\n",
    "2) Listar las primeras 7 líneas con las columnas 'Area', 'Round' con alias 'redondez', Diameter con alias 'diametro', n_diam con alias poblacion_celular y esferoide.\n",
    "\n"
   ]
  },
  {
   "cell_type": "code",
   "execution_count": 70,
   "metadata": {
    "colab": {
     "base_uri": "https://localhost:8080/",
     "height": 408
    },
    "id": "_rWZ_JDWospk",
    "outputId": "f7507364-86f5-4472-c373-3bfdae7958b7"
   },
   "outputs": [
    {
     "name": "stdout",
     "output_type": "stream",
     "text": [
      "2023-07-09 12:16:15,861 INFO sqlalchemy.engine.Engine BEGIN (implicit)\n",
      "2023-07-09 12:16:15,864 INFO sqlalchemy.engine.Engine SELECT Area, Round AS redondez, Diameter AS diametro, n_diam AS poblacion_celular, esferoide FROM fiji_datos LIMIT 7;\n",
      "2023-07-09 12:16:15,868 INFO sqlalchemy.engine.Engine [generated in 0.00745s] ()\n",
      "2023-07-09 12:16:15,874 INFO sqlalchemy.engine.Engine ROLLBACK\n"
     ]
    },
    {
     "data": {
      "text/html": [
       "<div>\n",
       "<style scoped>\n",
       "    .dataframe tbody tr th:only-of-type {\n",
       "        vertical-align: middle;\n",
       "    }\n",
       "\n",
       "    .dataframe tbody tr th {\n",
       "        vertical-align: top;\n",
       "    }\n",
       "\n",
       "    .dataframe thead th {\n",
       "        text-align: right;\n",
       "    }\n",
       "</style>\n",
       "<table border=\"1\" class=\"dataframe\">\n",
       "  <thead>\n",
       "    <tr style=\"text-align: right;\">\n",
       "      <th></th>\n",
       "      <th>Area</th>\n",
       "      <th>redondez</th>\n",
       "      <th>diametro</th>\n",
       "      <th>poblacion_celular</th>\n",
       "      <th>Esferoide</th>\n",
       "    </tr>\n",
       "  </thead>\n",
       "  <tbody>\n",
       "    <tr>\n",
       "      <th>0</th>\n",
       "      <td>324.4440</td>\n",
       "      <td>0.9387</td>\n",
       "      <td>20.95640</td>\n",
       "      <td>1.491357</td>\n",
       "      <td>si</td>\n",
       "    </tr>\n",
       "    <tr>\n",
       "      <th>1</th>\n",
       "      <td>497.5115</td>\n",
       "      <td>0.9546</td>\n",
       "      <td>26.00200</td>\n",
       "      <td>2.848733</td>\n",
       "      <td>si</td>\n",
       "    </tr>\n",
       "    <tr>\n",
       "      <th>2</th>\n",
       "      <td>282.9078</td>\n",
       "      <td>0.9620</td>\n",
       "      <td>19.38970</td>\n",
       "      <td>1.181258</td>\n",
       "      <td>si</td>\n",
       "    </tr>\n",
       "    <tr>\n",
       "      <th>3</th>\n",
       "      <td>500.7421</td>\n",
       "      <td>0.9730</td>\n",
       "      <td>25.88475</td>\n",
       "      <td>2.810370</td>\n",
       "      <td>si</td>\n",
       "    </tr>\n",
       "    <tr>\n",
       "      <th>4</th>\n",
       "      <td>492.8964</td>\n",
       "      <td>0.9817</td>\n",
       "      <td>25.33985</td>\n",
       "      <td>2.636596</td>\n",
       "      <td>si</td>\n",
       "    </tr>\n",
       "    <tr>\n",
       "      <th>5</th>\n",
       "      <td>406.1319</td>\n",
       "      <td>0.9533</td>\n",
       "      <td>23.27125</td>\n",
       "      <td>2.042164</td>\n",
       "      <td>si</td>\n",
       "    </tr>\n",
       "    <tr>\n",
       "      <th>6</th>\n",
       "      <td>333.6742</td>\n",
       "      <td>0.9496</td>\n",
       "      <td>20.80470</td>\n",
       "      <td>1.459204</td>\n",
       "      <td>si</td>\n",
       "    </tr>\n",
       "  </tbody>\n",
       "</table>\n",
       "</div>"
      ],
      "text/plain": [
       "       Area  redondez  diametro  poblacion_celular Esferoide\n",
       "0  324.4440    0.9387  20.95640           1.491357        si\n",
       "1  497.5115    0.9546  26.00200           2.848733        si\n",
       "2  282.9078    0.9620  19.38970           1.181258        si\n",
       "3  500.7421    0.9730  25.88475           2.810370        si\n",
       "4  492.8964    0.9817  25.33985           2.636596        si\n",
       "5  406.1319    0.9533  23.27125           2.042164        si\n",
       "6  333.6742    0.9496  20.80470           1.459204        si"
      ]
     },
     "execution_count": 70,
     "metadata": {},
     "output_type": "execute_result"
    }
   ],
   "source": [
    "query2 = \"SELECT Area, Round AS redondez, Diameter AS diametro, n_diam AS poblacion_celular, esferoide FROM fiji_datos LIMIT 7;\"\n",
    "with engine.connect() as con:\n",
    "  query_result2 = pd.read_sql_query(text(query2), con)\n",
    "\n",
    "query_result2"
   ]
  },
  {
   "cell_type": "markdown",
   "metadata": {
    "id": "hVpsBlnO3FbT"
   },
   "source": [
    "Realizar la misma consulta pero filtrando por los días 3 y 5."
   ]
  },
  {
   "cell_type": "code",
   "execution_count": 71,
   "metadata": {
    "colab": {
     "base_uri": "https://localhost:8080/",
     "height": 408
    },
    "id": "RKe0OfO72_u_",
    "outputId": "888f2940-1feb-4e29-d66a-020a2b299cf0"
   },
   "outputs": [
    {
     "name": "stdout",
     "output_type": "stream",
     "text": [
      "2023-07-09 12:16:15,907 INFO sqlalchemy.engine.Engine BEGIN (implicit)\n",
      "2023-07-09 12:16:15,909 INFO sqlalchemy.engine.Engine SELECT Area, Round AS redondez, Diameter AS diametro, n_diam AS poblacion_celular, esferoide FROM fiji_datos WHERE dia IN (3, 5) LIMIT 7;\n",
      "2023-07-09 12:16:15,911 INFO sqlalchemy.engine.Engine [generated in 0.00380s] ()\n",
      "2023-07-09 12:16:15,919 INFO sqlalchemy.engine.Engine ROLLBACK\n"
     ]
    },
    {
     "data": {
      "text/html": [
       "<div>\n",
       "<style scoped>\n",
       "    .dataframe tbody tr th:only-of-type {\n",
       "        vertical-align: middle;\n",
       "    }\n",
       "\n",
       "    .dataframe tbody tr th {\n",
       "        vertical-align: top;\n",
       "    }\n",
       "\n",
       "    .dataframe thead th {\n",
       "        text-align: right;\n",
       "    }\n",
       "</style>\n",
       "<table border=\"1\" class=\"dataframe\">\n",
       "  <thead>\n",
       "    <tr style=\"text-align: right;\">\n",
       "      <th></th>\n",
       "      <th>Area</th>\n",
       "      <th>redondez</th>\n",
       "      <th>diametro</th>\n",
       "      <th>poblacion_celular</th>\n",
       "      <th>Esferoide</th>\n",
       "    </tr>\n",
       "  </thead>\n",
       "  <tbody>\n",
       "    <tr>\n",
       "      <th>0</th>\n",
       "      <td>4635.9028</td>\n",
       "      <td>0.8392</td>\n",
       "      <td>78.82640</td>\n",
       "      <td>79.368212</td>\n",
       "      <td>si</td>\n",
       "    </tr>\n",
       "    <tr>\n",
       "      <th>1</th>\n",
       "      <td>5901.8342</td>\n",
       "      <td>0.9533</td>\n",
       "      <td>87.74420</td>\n",
       "      <td>109.467897</td>\n",
       "      <td>si</td>\n",
       "    </tr>\n",
       "    <tr>\n",
       "      <th>2</th>\n",
       "      <td>11259.0826</td>\n",
       "      <td>0.9699</td>\n",
       "      <td>122.97820</td>\n",
       "      <td>301.381032</td>\n",
       "      <td>si</td>\n",
       "    </tr>\n",
       "    <tr>\n",
       "      <th>3</th>\n",
       "      <td>22344.1746</td>\n",
       "      <td>0.7434</td>\n",
       "      <td>173.24380</td>\n",
       "      <td>842.567345</td>\n",
       "      <td>si</td>\n",
       "    </tr>\n",
       "    <tr>\n",
       "      <th>4</th>\n",
       "      <td>2700.3153</td>\n",
       "      <td>0.6096</td>\n",
       "      <td>63.88875</td>\n",
       "      <td>42.257587</td>\n",
       "      <td>no</td>\n",
       "    </tr>\n",
       "    <tr>\n",
       "      <th>5</th>\n",
       "      <td>5002.3445</td>\n",
       "      <td>0.8306</td>\n",
       "      <td>84.09790</td>\n",
       "      <td>96.380011</td>\n",
       "      <td>si</td>\n",
       "    </tr>\n",
       "    <tr>\n",
       "      <th>6</th>\n",
       "      <td>14646.5914</td>\n",
       "      <td>0.5600</td>\n",
       "      <td>164.88585</td>\n",
       "      <td>726.409779</td>\n",
       "      <td>no</td>\n",
       "    </tr>\n",
       "  </tbody>\n",
       "</table>\n",
       "</div>"
      ],
      "text/plain": [
       "         Area  redondez   diametro  poblacion_celular Esferoide\n",
       "0   4635.9028    0.8392   78.82640          79.368212        si\n",
       "1   5901.8342    0.9533   87.74420         109.467897        si\n",
       "2  11259.0826    0.9699  122.97820         301.381032        si\n",
       "3  22344.1746    0.7434  173.24380         842.567345        si\n",
       "4   2700.3153    0.6096   63.88875          42.257587        no\n",
       "5   5002.3445    0.8306   84.09790          96.380011        si\n",
       "6  14646.5914    0.5600  164.88585         726.409779        no"
      ]
     },
     "execution_count": 71,
     "metadata": {},
     "output_type": "execute_result"
    }
   ],
   "source": [
    "query3 = \"SELECT Area, Round AS redondez, Diameter AS diametro, n_diam AS poblacion_celular, esferoide FROM fiji_datos WHERE dia IN (3, 5) LIMIT 7;\"\n",
    "with engine.connect() as con:\n",
    "  query_result3 = pd.read_sql_query(text(query3), con)\n",
    "\n",
    "query_result3"
   ]
  },
  {
   "cell_type": "markdown",
   "metadata": {
    "id": "AD0AWveA3k_E"
   },
   "source": [
    "3) Consultar los distintos días y aparte las etiquetas presentes. Contar cuántas filas hay por día y luego consultar cuantas son esferoide = 'si'. Probar con GROUP BY de dos columnas si pueden contabilizar 'si' y 'no' por día."
   ]
  },
  {
   "cell_type": "code",
   "execution_count": 72,
   "metadata": {
    "colab": {
     "base_uri": "https://localhost:8080/"
    },
    "id": "jKhwHtld3l6R",
    "outputId": "41d1baf9-1fad-4176-db23-55b099327188"
   },
   "outputs": [
    {
     "name": "stdout",
     "output_type": "stream",
     "text": [
      "2023-07-09 12:16:15,957 INFO sqlalchemy.engine.Engine BEGIN (implicit)\n",
      "2023-07-09 12:16:15,959 INFO sqlalchemy.engine.Engine SELECT DISTINCT dia FROM fiji_datos;\n",
      "2023-07-09 12:16:15,961 INFO sqlalchemy.engine.Engine [generated in 0.00423s] ()\n",
      "2023-07-09 12:16:15,969 INFO sqlalchemy.engine.Engine ROLLBACK\n",
      "2023-07-09 12:16:15,971 INFO sqlalchemy.engine.Engine BEGIN (implicit)\n",
      "2023-07-09 12:16:15,974 INFO sqlalchemy.engine.Engine SELECT dia, COUNT(*) AS total FROM fiji_datos GROUP BY dia;\n",
      "2023-07-09 12:16:15,977 INFO sqlalchemy.engine.Engine [generated in 0.00633s] ()\n",
      "2023-07-09 12:16:15,982 INFO sqlalchemy.engine.Engine ROLLBACK\n",
      "2023-07-09 12:16:15,987 INFO sqlalchemy.engine.Engine BEGIN (implicit)\n",
      "2023-07-09 12:16:15,988 INFO sqlalchemy.engine.Engine SELECT dia, COUNT(*) AS total FROM fiji_datos WHERE esferoide = 'si' GROUP BY dia;\n",
      "2023-07-09 12:16:15,989 INFO sqlalchemy.engine.Engine [generated in 0.00266s] ()\n",
      "2023-07-09 12:16:15,998 INFO sqlalchemy.engine.Engine ROLLBACK\n",
      "2023-07-09 12:16:16,001 INFO sqlalchemy.engine.Engine BEGIN (implicit)\n",
      "2023-07-09 12:16:16,003 INFO sqlalchemy.engine.Engine SELECT dia, esferoide, COUNT(*) AS total FROM fiji_datos GROUP BY dia, esferoide;\n",
      "2023-07-09 12:16:16,005 INFO sqlalchemy.engine.Engine [generated in 0.00407s] ()\n",
      "2023-07-09 12:16:16,012 INFO sqlalchemy.engine.Engine ROLLBACK\n",
      "\n",
      "Query 4:\n",
      "   dia\n",
      "0    0\n",
      "1    1\n",
      "2    2\n",
      "3    3\n",
      "4    4\n",
      "5    5\n",
      "6    6\n",
      "7    7\n",
      "\n",
      "Query 5:\n",
      "   dia  total\n",
      "0    0     94\n",
      "1    1    342\n",
      "2    2    155\n",
      "3    3     43\n",
      "4    4    254\n",
      "5    5     52\n",
      "6    6      4\n",
      "7    7     74\n",
      "\n",
      "Query 6:\n",
      "   dia  total\n",
      "0    0     74\n",
      "1    1    253\n",
      "2    2     70\n",
      "3    3     18\n",
      "4    4     48\n",
      "5    5     28\n",
      "6    6      2\n",
      "7    7     29\n",
      "\n",
      "Query 7:\n",
      "    dia Esferoide  total\n",
      "0     0        no     20\n",
      "1     0        si     74\n",
      "2     1        no     89\n",
      "3     1        si    253\n",
      "4     2        no     85\n",
      "5     2        si     70\n",
      "6     3        no     25\n",
      "7     3        si     18\n",
      "8     4        no    206\n",
      "9     4        si     48\n",
      "10    5        no     24\n",
      "11    5        si     28\n",
      "12    6        no      2\n",
      "13    6        si      2\n",
      "14    7        no     45\n",
      "15    7        si     29\n"
     ]
    }
   ],
   "source": [
    "# Consultamos las etiquetas presentes en la columna dia\n",
    "query4 = \"SELECT DISTINCT dia FROM fiji_datos;\"\n",
    "with engine.connect() as con:\n",
    "  query_result4 = pd.read_sql_query(text(query4), con)\n",
    "\n",
    "# Contamos cuántas filas hay por día\n",
    "query5 = \"SELECT dia, COUNT(*) AS total FROM fiji_datos GROUP BY dia;\"\n",
    "with engine.connect() as con:\n",
    "  query_result5 = pd.read_sql_query(text(query5), con)\n",
    "\n",
    "# Contamos cuántas filas hay por día para esferoides = 'si'\n",
    "query6 = \"SELECT dia, COUNT(*) AS total FROM fiji_datos WHERE esferoide = 'si' GROUP BY dia;\"\n",
    "with engine.connect() as con:\n",
    "  query_result6 = pd.read_sql_query(text(query6), con)\n",
    "\n",
    "# Hacemos un group by de esferoides y dia\n",
    "query7 = \"SELECT dia, esferoide, COUNT(*) AS total FROM fiji_datos GROUP BY dia, esferoide;\"\n",
    "with engine.connect() as con:\n",
    "  query_result7 = pd.read_sql_query(text(query7), con)\n",
    "\n",
    "print(\"\\nQuery 4:\")\n",
    "print(query_result4)\n",
    "print(\"\\nQuery 5:\")\n",
    "print(query_result5)\n",
    "print(\"\\nQuery 6:\")\n",
    "print(query_result6)\n",
    "print(\"\\nQuery 7:\")\n",
    "print(query_result7)\n"
   ]
  },
  {
   "cell_type": "markdown",
   "metadata": {
    "id": "MbrZ9WdkKrrm"
   },
   "source": [
    "4) En algún día en particular (a partir del 3er día), consultar cuántos datos:\n",
    "\n",
    "* Son esferoides \"si\" y \"no\".\n",
    "\n",
    "* Tienen su diámetro entre 50 $\\mu$m y 200$\\mu$ m."
   ]
  },
  {
   "cell_type": "code",
   "execution_count": 73,
   "metadata": {
    "colab": {
     "base_uri": "https://localhost:8080/"
    },
    "id": "bgCrZvgSKtCb",
    "outputId": "b23b1d23-532a-4910-e337-b969b5fedb0e"
   },
   "outputs": [
    {
     "name": "stdout",
     "output_type": "stream",
     "text": [
      "2023-07-09 12:16:16,064 INFO sqlalchemy.engine.Engine BEGIN (implicit)\n",
      "2023-07-09 12:16:16,065 INFO sqlalchemy.engine.Engine SELECT dia, esferoide, COUNT(*) AS total FROM fiji_datos WHERE dia = 4 GROUP BY esferoide;\n",
      "2023-07-09 12:16:16,067 INFO sqlalchemy.engine.Engine [generated in 0.00366s] ()\n",
      "2023-07-09 12:16:16,073 INFO sqlalchemy.engine.Engine ROLLBACK\n",
      "2023-07-09 12:16:16,076 INFO sqlalchemy.engine.Engine BEGIN (implicit)\n",
      "2023-07-09 12:16:16,080 INFO sqlalchemy.engine.Engine SELECT dia, Diameter, COUNT(*) AS total FROM fiji_datos WHERE dia = 4 AND Diameter BETWEEN 50 AND 200;\n",
      "2023-07-09 12:16:16,081 INFO sqlalchemy.engine.Engine [generated in 0.00550s] ()\n",
      "2023-07-09 12:16:16,086 INFO sqlalchemy.engine.Engine ROLLBACK\n",
      "\n",
      "Query 8:\n",
      "   dia Esferoide  total\n",
      "0    4        no    206\n",
      "1    4        si     48\n",
      "\n",
      "Query 9:\n",
      "   dia  Diameter  total\n",
      "0    4   92.6425     80\n"
     ]
    }
   ],
   "source": [
    "# Seleccionamos el dia 4 y contamos cuantos son esferoides si y no\n",
    "query8 = \"SELECT dia, esferoide, COUNT(*) AS total FROM fiji_datos WHERE dia = 4 GROUP BY esferoide;\"\n",
    "with engine.connect() as con:\n",
    "  query_result8 = pd.read_sql_query(text(query8), con)\n",
    "\n",
    "# Seleccionamos el dia 4 y filtramos en un rango para el diámetro\n",
    "query9 = \"SELECT dia, Diameter, COUNT(*) AS total FROM fiji_datos WHERE dia = 4 AND Diameter BETWEEN 50 AND 200;\"\n",
    "with engine.connect() as con:\n",
    "  query_result9 = pd.read_sql_query(text(query9), con)\n",
    "\n",
    "print(\"\\nQuery 8:\")\n",
    "print(query_result8)\n",
    "\n",
    "print(\"\\nQuery 9:\")\n",
    "print(query_result9)\n"
   ]
  },
  {
   "cell_type": "code",
   "execution_count": 74,
   "metadata": {
    "id": "MHevYtw0KUng"
   },
   "outputs": [],
   "source": [
    "#cerramos la conexión\n",
    "con.close()"
   ]
  },
  {
   "cell_type": "markdown",
   "metadata": {
    "id": "0qUyC2mB7ScC"
   },
   "source": [
    "### Python\n",
    "Probar diferentes agrupaciones en Python."
   ]
  },
  {
   "cell_type": "code",
   "execution_count": 75,
   "metadata": {
    "colab": {
     "base_uri": "https://localhost:8080/",
     "height": 363
    },
    "id": "S3CfhMGP7ScD",
    "outputId": "e08630e5-b7c0-48f1-b869-444a6a30e7d3"
   },
   "outputs": [
    {
     "data": {
      "text/html": [
       "<div>\n",
       "<style scoped>\n",
       "    .dataframe tbody tr th:only-of-type {\n",
       "        vertical-align: middle;\n",
       "    }\n",
       "\n",
       "    .dataframe tbody tr th {\n",
       "        vertical-align: top;\n",
       "    }\n",
       "\n",
       "    .dataframe thead tr th {\n",
       "        text-align: left;\n",
       "    }\n",
       "\n",
       "    .dataframe thead tr:last-of-type th {\n",
       "        text-align: right;\n",
       "    }\n",
       "</style>\n",
       "<table border=\"1\" class=\"dataframe\">\n",
       "  <thead>\n",
       "    <tr>\n",
       "      <th></th>\n",
       "      <th>Esferoide</th>\n",
       "    </tr>\n",
       "    <tr>\n",
       "      <th></th>\n",
       "      <th>count</th>\n",
       "    </tr>\n",
       "    <tr>\n",
       "      <th>dia</th>\n",
       "      <th></th>\n",
       "    </tr>\n",
       "  </thead>\n",
       "  <tbody>\n",
       "    <tr>\n",
       "      <th>0</th>\n",
       "      <td>94</td>\n",
       "    </tr>\n",
       "    <tr>\n",
       "      <th>1</th>\n",
       "      <td>342</td>\n",
       "    </tr>\n",
       "    <tr>\n",
       "      <th>2</th>\n",
       "      <td>155</td>\n",
       "    </tr>\n",
       "    <tr>\n",
       "      <th>3</th>\n",
       "      <td>43</td>\n",
       "    </tr>\n",
       "    <tr>\n",
       "      <th>4</th>\n",
       "      <td>254</td>\n",
       "    </tr>\n",
       "    <tr>\n",
       "      <th>5</th>\n",
       "      <td>52</td>\n",
       "    </tr>\n",
       "    <tr>\n",
       "      <th>6</th>\n",
       "      <td>4</td>\n",
       "    </tr>\n",
       "    <tr>\n",
       "      <th>7</th>\n",
       "      <td>74</td>\n",
       "    </tr>\n",
       "  </tbody>\n",
       "</table>\n",
       "</div>"
      ],
      "text/plain": [
       "    Esferoide\n",
       "        count\n",
       "dia          \n",
       "0          94\n",
       "1         342\n",
       "2         155\n",
       "3          43\n",
       "4         254\n",
       "5          52\n",
       "6           4\n",
       "7          74"
      ]
     },
     "execution_count": 75,
     "metadata": {},
     "output_type": "execute_result"
    }
   ],
   "source": [
    "#Por ej:\n",
    "fiji_datos.groupby('dia').agg({'Esferoide': ['count']}).sort_values(by = 'dia')"
   ]
  },
  {
   "cell_type": "markdown",
   "metadata": {
    "id": "bOwd2UpHEdEK"
   },
   "source": [
    "Probamos distintos group by con python"
   ]
  },
  {
   "cell_type": "code",
   "execution_count": 76,
   "metadata": {
    "colab": {
     "base_uri": "https://localhost:8080/",
     "height": 112
    },
    "id": "NY12a-eSBUr_",
    "outputId": "64b9dd4c-ccec-49b4-806d-5b85e4b55f60"
   },
   "outputs": [
    {
     "data": {
      "text/html": [
       "<div>\n",
       "<style scoped>\n",
       "    .dataframe tbody tr th:only-of-type {\n",
       "        vertical-align: middle;\n",
       "    }\n",
       "\n",
       "    .dataframe tbody tr th {\n",
       "        vertical-align: top;\n",
       "    }\n",
       "\n",
       "    .dataframe thead th {\n",
       "        text-align: right;\n",
       "    }\n",
       "</style>\n",
       "<table border=\"1\" class=\"dataframe\">\n",
       "  <thead>\n",
       "    <tr style=\"text-align: right;\">\n",
       "      <th></th>\n",
       "      <th>Esferoide</th>\n",
       "      <th>total</th>\n",
       "    </tr>\n",
       "  </thead>\n",
       "  <tbody>\n",
       "    <tr>\n",
       "      <th>0</th>\n",
       "      <td>no</td>\n",
       "      <td>496</td>\n",
       "    </tr>\n",
       "    <tr>\n",
       "      <th>1</th>\n",
       "      <td>si</td>\n",
       "      <td>522</td>\n",
       "    </tr>\n",
       "  </tbody>\n",
       "</table>\n",
       "</div>"
      ],
      "text/plain": [
       "  Esferoide  total\n",
       "0        no    496\n",
       "1        si    522"
      ]
     },
     "execution_count": 76,
     "metadata": {},
     "output_type": "execute_result"
    }
   ],
   "source": [
    "# Agrupo por 'Esferoide' y contar las filas\n",
    "fiji_datos.groupby('Esferoide').size().reset_index(name='total')"
   ]
  },
  {
   "cell_type": "code",
   "execution_count": 77,
   "metadata": {
    "colab": {
     "base_uri": "https://localhost:8080/",
     "height": 551
    },
    "id": "LbD-H7Io3OoX",
    "outputId": "6ca712b7-465e-4eba-beb8-9df1398b2439"
   },
   "outputs": [
    {
     "data": {
      "text/html": [
       "<div>\n",
       "<style scoped>\n",
       "    .dataframe tbody tr th:only-of-type {\n",
       "        vertical-align: middle;\n",
       "    }\n",
       "\n",
       "    .dataframe tbody tr th {\n",
       "        vertical-align: top;\n",
       "    }\n",
       "\n",
       "    .dataframe thead th {\n",
       "        text-align: right;\n",
       "    }\n",
       "</style>\n",
       "<table border=\"1\" class=\"dataframe\">\n",
       "  <thead>\n",
       "    <tr style=\"text-align: right;\">\n",
       "      <th></th>\n",
       "      <th>dia</th>\n",
       "      <th>Esferoide</th>\n",
       "      <th>total</th>\n",
       "    </tr>\n",
       "  </thead>\n",
       "  <tbody>\n",
       "    <tr>\n",
       "      <th>0</th>\n",
       "      <td>0</td>\n",
       "      <td>no</td>\n",
       "      <td>20</td>\n",
       "    </tr>\n",
       "    <tr>\n",
       "      <th>1</th>\n",
       "      <td>0</td>\n",
       "      <td>si</td>\n",
       "      <td>74</td>\n",
       "    </tr>\n",
       "    <tr>\n",
       "      <th>2</th>\n",
       "      <td>1</td>\n",
       "      <td>no</td>\n",
       "      <td>89</td>\n",
       "    </tr>\n",
       "    <tr>\n",
       "      <th>3</th>\n",
       "      <td>1</td>\n",
       "      <td>si</td>\n",
       "      <td>253</td>\n",
       "    </tr>\n",
       "    <tr>\n",
       "      <th>4</th>\n",
       "      <td>2</td>\n",
       "      <td>no</td>\n",
       "      <td>85</td>\n",
       "    </tr>\n",
       "    <tr>\n",
       "      <th>5</th>\n",
       "      <td>2</td>\n",
       "      <td>si</td>\n",
       "      <td>70</td>\n",
       "    </tr>\n",
       "    <tr>\n",
       "      <th>6</th>\n",
       "      <td>3</td>\n",
       "      <td>no</td>\n",
       "      <td>25</td>\n",
       "    </tr>\n",
       "    <tr>\n",
       "      <th>7</th>\n",
       "      <td>3</td>\n",
       "      <td>si</td>\n",
       "      <td>18</td>\n",
       "    </tr>\n",
       "    <tr>\n",
       "      <th>8</th>\n",
       "      <td>4</td>\n",
       "      <td>no</td>\n",
       "      <td>206</td>\n",
       "    </tr>\n",
       "    <tr>\n",
       "      <th>9</th>\n",
       "      <td>4</td>\n",
       "      <td>si</td>\n",
       "      <td>48</td>\n",
       "    </tr>\n",
       "    <tr>\n",
       "      <th>10</th>\n",
       "      <td>5</td>\n",
       "      <td>no</td>\n",
       "      <td>24</td>\n",
       "    </tr>\n",
       "    <tr>\n",
       "      <th>11</th>\n",
       "      <td>5</td>\n",
       "      <td>si</td>\n",
       "      <td>28</td>\n",
       "    </tr>\n",
       "    <tr>\n",
       "      <th>12</th>\n",
       "      <td>6</td>\n",
       "      <td>no</td>\n",
       "      <td>2</td>\n",
       "    </tr>\n",
       "    <tr>\n",
       "      <th>13</th>\n",
       "      <td>6</td>\n",
       "      <td>si</td>\n",
       "      <td>2</td>\n",
       "    </tr>\n",
       "    <tr>\n",
       "      <th>14</th>\n",
       "      <td>7</td>\n",
       "      <td>no</td>\n",
       "      <td>45</td>\n",
       "    </tr>\n",
       "    <tr>\n",
       "      <th>15</th>\n",
       "      <td>7</td>\n",
       "      <td>si</td>\n",
       "      <td>29</td>\n",
       "    </tr>\n",
       "  </tbody>\n",
       "</table>\n",
       "</div>"
      ],
      "text/plain": [
       "    dia Esferoide  total\n",
       "0     0        no     20\n",
       "1     0        si     74\n",
       "2     1        no     89\n",
       "3     1        si    253\n",
       "4     2        no     85\n",
       "5     2        si     70\n",
       "6     3        no     25\n",
       "7     3        si     18\n",
       "8     4        no    206\n",
       "9     4        si     48\n",
       "10    5        no     24\n",
       "11    5        si     28\n",
       "12    6        no      2\n",
       "13    6        si      2\n",
       "14    7        no     45\n",
       "15    7        si     29"
      ]
     },
     "execution_count": 77,
     "metadata": {},
     "output_type": "execute_result"
    }
   ],
   "source": [
    "# Agrupo por 'dia' y 'Esferoide' y cuento las filas\n",
    "fiji_datos.groupby(['dia', 'Esferoide']).size().reset_index(name='total')"
   ]
  },
  {
   "cell_type": "markdown",
   "metadata": {
    "id": "TaS2NrsG7ScD"
   },
   "source": [
    "## Análisis y Curación de Datos"
   ]
  },
  {
   "cell_type": "markdown",
   "metadata": {
    "id": "3Tp52fqQDfvB"
   },
   "source": [
    "1) Para empezar a trabajar la tabla, primero hay que combinar los datasets, que fueron separados por día.\n",
    "\n",
    "Estos son los siguientes archivos a unir:\n",
    "\n",
    "*   \"fiji_datos_0al7mo_modificado_dia_0.csv\"\n",
    "*   \"fiji_datos_0al7mo_modificado_dia_1.csv\"\n",
    "*   \"fiji_datos_0al7mo_modificado_dia_2.csv\"\n",
    "*   \"fiji_datos_0al7mo_modificado_dia_3.csv\"\n",
    "*   \"fiji_datos_0al7mo_modificado_dia_4.csv\"\n",
    "*   \"fiji_datos_0al7mo_modificado_dia_5.csv\"\n",
    "*   \"fiji_datos_0al7mo_modificado_dia_6.csv\"\n",
    "*   \"fiji_datos_0al7mo_modificado_dia_7a.csv\"\n",
    "*   \"fiji_datos_0al7mo_modificado_dia_7b.csv\"\n",
    "\n",
    "Se encuentran en la carpeta: **\"data/02_EyC\"** de la [carpeta compartida](https://drive.google.com/drive/folders/1RqGNySwACN33Qopmw0nHmj5Yv4M78ZXi?usp=drive_link) y en este repositorio.\n",
    "\n",
    "\n",
    "Probar hacerlo con Python y/o SQL (por separado, para probar!). Verificar que llegan a la misma cantidad de filas y columnas.\n",
    "\n",
    "2) Una vez armado el dataset modificado, explorar el dataset y buscar inconsistencias, por ej si hay valores nulos, duplicados, etc, tratando de encontrar todas las inconsistencias en los datos. Decidir el orden en cuál ir arreglándolas.\n",
    "\n",
    "3) Corregir las inconsistencias que van encontrando y sobre los datos faltantes (¡verificar primero si los hay!), determinar cuál método sería el mas adecuado para imputarlos, teniendo en cuenta lo que aprendieron sobre los datos en el práctico de *Análisis y Visualización*.\n",
    "\n",
    "4) Una vez que recuperan el dataset original, repasando lo que les dieron en la materia de *Exploración y Curación de datos* y ya pensando en las transformaciones que puedan servirles y que les conviene realizar para la clasificación en el práctico de aprendizaje supervisado:\n",
    "\n",
    "  * ¿Sobre cuáles columnas realizarían encoding y de qué tipo?. Elegir un método e implementarlo.\n",
    "\n",
    "  * Tenemos muchas columnas (¡aunque siempre puede haber mas!) por lo que es posible realizar algún método de reducción de dimensionalidad.\n",
    "\n",
    "  * Escalar y/o normalizar? Esa es la cuestión. Teniendo en cuenta lo aprendido a partir de los datos, cuál método se ajustaría a estos datos?\n",
    "\n",
    "  Sumar tales transformaciones como columnas para sumar características al conjunto de datos y guardar el achivo modificado.\n",
    "\n",
    "Si se traban mucho mucho en la limpieza de los datos, este paso pueden hacerlo con el dataset original que usaron en el práctico 1.\n",
    "\n",
    "5) Pueden identificar sesgos en la toma de los datos o en el etiquetado? Si les parece que es así, cómo sería un experimento o método para mejorarlos?  \n",
    "\n",
    "6) Realizar una documentación técnica de los procesos realizados.\n",
    "\n",
    "\n"
   ]
  },
  {
   "cell_type": "markdown",
   "metadata": {},
   "source": [
    "#### 1. Combinación de dataset\n",
    "En primer lugar importamos los datasets. "
   ]
  },
  {
   "cell_type": "code",
   "execution_count": 78,
   "metadata": {},
   "outputs": [],
   "source": [
    "fiji_datos_0 = pd.read_csv(\"data/02_EyC/fiji_datos_0al7mo_modificado_dia_0.csv\", sep=\";\") #unnamed\n",
    "fiji_datos_1 = pd.read_csv(\"data/02_EyC/fiji_datos_0al7mo_modificado_dia_1.csv\")\n",
    "fiji_datos_2 = pd.read_csv(\"data/02_EyC/fiji_datos_0al7mo_modificado_dia_2.csv\", sep=\";\")\n",
    "fiji_datos_3 = pd.read_csv(\"data/02_EyC/fiji_datos_0al7mo_modificado_dia_3.csv\", sep=\";\") #unnamed\n",
    "fiji_datos_4 = pd.read_csv(\"data/02_EyC/fiji_datos_0al7mo_modificado_dia_4.csv\", sep=\":\")\n",
    "fiji_datos_5 = pd.read_csv(\"data/02_EyC/fiji_datos_0al7mo_modificado_dia_5.csv\", sep=\";\")\n",
    "fiji_datos_6 = pd.read_csv(\"data/02_EyC/fiji_datos_0al7mo_modificado_dia_6.csv\")\n",
    "fiji_datos_7a = pd.read_csv(\"data/02_EyC/fiji_datos_0al7mo_modificado_dia_7a.csv\") #unnamed\n",
    "fiji_datos_7b = pd.read_csv(\"data/02_EyC/fiji_datos_0al7mo_modificado_dia_7b.csv\", sep=\";\") #unnamed"
   ]
  },
  {
   "cell_type": "markdown",
   "metadata": {},
   "source": [
    "Tanto 'fiji_datos_0' como 'fiji_datos_3', 'fiji_datos_7a' y 'fiji_datos_7b' tienen una columna sin nombre que vamos a eliminar."
   ]
  },
  {
   "cell_type": "code",
   "execution_count": 79,
   "metadata": {},
   "outputs": [
    {
     "data": {
      "text/html": [
       "<div>\n",
       "<style scoped>\n",
       "    .dataframe tbody tr th:only-of-type {\n",
       "        vertical-align: middle;\n",
       "    }\n",
       "\n",
       "    .dataframe tbody tr th {\n",
       "        vertical-align: top;\n",
       "    }\n",
       "\n",
       "    .dataframe thead th {\n",
       "        text-align: right;\n",
       "    }\n",
       "</style>\n",
       "<table border=\"1\" class=\"dataframe\">\n",
       "  <thead>\n",
       "    <tr style=\"text-align: right;\">\n",
       "      <th></th>\n",
       "      <th>Unnamed: 0</th>\n",
       "      <th>labels</th>\n",
       "      <th>Area</th>\n",
       "      <th>X</th>\n",
       "      <th>Y</th>\n",
       "      <th>XM</th>\n",
       "      <th>YM</th>\n",
       "      <th>Perim.</th>\n",
       "      <th>BX</th>\n",
       "      <th>BY</th>\n",
       "      <th>...</th>\n",
       "      <th>FeretY</th>\n",
       "      <th>FeretAngle</th>\n",
       "      <th>MinFeret</th>\n",
       "      <th>AR</th>\n",
       "      <th>Round</th>\n",
       "      <th>Solidity</th>\n",
       "      <th>Esferoide</th>\n",
       "      <th>dia</th>\n",
       "      <th>Diameter</th>\n",
       "      <th>n_diam</th>\n",
       "    </tr>\n",
       "  </thead>\n",
       "  <tbody>\n",
       "    <tr>\n",
       "      <th>0</th>\n",
       "      <td>49</td>\n",
       "      <td>Esferas_BT474_dia_0_well_2_100X_1_blob_34</td>\n",
       "      <td>315.6752</td>\n",
       "      <td>1027.9715</td>\n",
       "      <td>694.7215</td>\n",
       "      <td>1027.9715</td>\n",
       "      <td>694.7215</td>\n",
       "      <td>65.6036</td>\n",
       "      <td>1017.6630</td>\n",
       "      <td>684.7826</td>\n",
       "      <td>...</td>\n",
       "      <td>1009</td>\n",
       "      <td>114.1455</td>\n",
       "      <td>20.1583</td>\n",
       "      <td>1.0130</td>\n",
       "      <td>0.9871</td>\n",
       "      <td>0.9513</td>\n",
       "      <td>si</td>\n",
       "      <td>0</td>\n",
       "      <td>20.87415</td>\n",
       "      <td>1.473866</td>\n",
       "    </tr>\n",
       "    <tr>\n",
       "      <th>1</th>\n",
       "      <td>6</td>\n",
       "      <td>Esferas_BT474_dia_0_well_1_100X_1_blob_8</td>\n",
       "      <td>333.6742</td>\n",
       "      <td>1123.7169</td>\n",
       "      <td>318.7621</td>\n",
       "      <td>1123.7169</td>\n",
       "      <td>318.7621</td>\n",
       "      <td>67.3603</td>\n",
       "      <td>1112.7717</td>\n",
       "      <td>309.1033</td>\n",
       "      <td>...</td>\n",
       "      <td>470</td>\n",
       "      <td>7.1250</td>\n",
       "      <td>19.7011</td>\n",
       "      <td>1.0531</td>\n",
       "      <td>0.9496</td>\n",
       "      <td>0.9557</td>\n",
       "      <td>si</td>\n",
       "      <td>0</td>\n",
       "      <td>20.80470</td>\n",
       "      <td>1.459204</td>\n",
       "    </tr>\n",
       "    <tr>\n",
       "      <th>2</th>\n",
       "      <td>27</td>\n",
       "      <td>Esferas_BT474_dia_0_well_2_100X_1_blob_3</td>\n",
       "      <td>505.3572</td>\n",
       "      <td>1649.6734</td>\n",
       "      <td>26.9633</td>\n",
       "      <td>1649.6734</td>\n",
       "      <td>26.9633</td>\n",
       "      <td>85.2847</td>\n",
       "      <td>1636.5489</td>\n",
       "      <td>14.2663</td>\n",
       "      <td>...</td>\n",
       "      <td>21</td>\n",
       "      <td>105.3763</td>\n",
       "      <td>25.5245</td>\n",
       "      <td>1.0173</td>\n",
       "      <td>0.9830</td>\n",
       "      <td>0.9387</td>\n",
       "      <td>si</td>\n",
       "      <td>0</td>\n",
       "      <td>26.85360</td>\n",
       "      <td>3.137900</td>\n",
       "    </tr>\n",
       "    <tr>\n",
       "      <th>3</th>\n",
       "      <td>78</td>\n",
       "      <td>Esferas_BT474_dia_0_well_2_100X_1_blob_8</td>\n",
       "      <td>874.1065</td>\n",
       "      <td>1596.3056</td>\n",
       "      <td>145.1846</td>\n",
       "      <td>1596.3056</td>\n",
       "      <td>145.1846</td>\n",
       "      <td>130.8776</td>\n",
       "      <td>1583.5598</td>\n",
       "      <td>123.6413</td>\n",
       "      <td>...</td>\n",
       "      <td>247</td>\n",
       "      <td>78.6901</td>\n",
       "      <td>25.8152</td>\n",
       "      <td>1.9705</td>\n",
       "      <td>0.5075</td>\n",
       "      <td>0.8983</td>\n",
       "      <td>no</td>\n",
       "      <td>0</td>\n",
       "      <td>35.42365</td>\n",
       "      <td>7.202967</td>\n",
       "    </tr>\n",
       "    <tr>\n",
       "      <th>4</th>\n",
       "      <td>41</td>\n",
       "      <td>Esferas_BT474_dia_0_well_2_100X_1_blob_23</td>\n",
       "      <td>302.7528</td>\n",
       "      <td>130.9940</td>\n",
       "      <td>453.8447</td>\n",
       "      <td>130.9940</td>\n",
       "      <td>453.8447</td>\n",
       "      <td>64.4780</td>\n",
       "      <td>121.6033</td>\n",
       "      <td>443.6141</td>\n",
       "      <td>...</td>\n",
       "      <td>682</td>\n",
       "      <td>61.8214</td>\n",
       "      <td>19.0217</td>\n",
       "      <td>1.0803</td>\n",
       "      <td>0.9256</td>\n",
       "      <td>0.9473</td>\n",
       "      <td>si</td>\n",
       "      <td>0</td>\n",
       "      <td>20.30050</td>\n",
       "      <td>1.355663</td>\n",
       "    </tr>\n",
       "  </tbody>\n",
       "</table>\n",
       "<p>5 rows × 25 columns</p>\n",
       "</div>"
      ],
      "text/plain": [
       "   Unnamed: 0                                     labels      Area          X  \\\n",
       "0          49  Esferas_BT474_dia_0_well_2_100X_1_blob_34  315.6752  1027.9715   \n",
       "1           6   Esferas_BT474_dia_0_well_1_100X_1_blob_8  333.6742  1123.7169   \n",
       "2          27   Esferas_BT474_dia_0_well_2_100X_1_blob_3  505.3572  1649.6734   \n",
       "3          78   Esferas_BT474_dia_0_well_2_100X_1_blob_8  874.1065  1596.3056   \n",
       "4          41  Esferas_BT474_dia_0_well_2_100X_1_blob_23  302.7528   130.9940   \n",
       "\n",
       "          Y         XM        YM    Perim.         BX        BY  ...  FeretY  \\\n",
       "0  694.7215  1027.9715  694.7215   65.6036  1017.6630  684.7826  ...    1009   \n",
       "1  318.7621  1123.7169  318.7621   67.3603  1112.7717  309.1033  ...     470   \n",
       "2   26.9633  1649.6734   26.9633   85.2847  1636.5489   14.2663  ...      21   \n",
       "3  145.1846  1596.3056  145.1846  130.8776  1583.5598  123.6413  ...     247   \n",
       "4  453.8447   130.9940  453.8447   64.4780   121.6033  443.6141  ...     682   \n",
       "\n",
       "   FeretAngle  MinFeret      AR   Round  Solidity  Esferoide  dia  Diameter  \\\n",
       "0    114.1455   20.1583  1.0130  0.9871    0.9513         si    0  20.87415   \n",
       "1      7.1250   19.7011  1.0531  0.9496    0.9557         si    0  20.80470   \n",
       "2    105.3763   25.5245  1.0173  0.9830    0.9387         si    0  26.85360   \n",
       "3     78.6901   25.8152  1.9705  0.5075    0.8983         no    0  35.42365   \n",
       "4     61.8214   19.0217  1.0803  0.9256    0.9473         si    0  20.30050   \n",
       "\n",
       "     n_diam  \n",
       "0  1.473866  \n",
       "1  1.459204  \n",
       "2  3.137900  \n",
       "3  7.202967  \n",
       "4  1.355663  \n",
       "\n",
       "[5 rows x 25 columns]"
      ]
     },
     "execution_count": 79,
     "metadata": {},
     "output_type": "execute_result"
    }
   ],
   "source": [
    "# Observamos la columna Unnamed para el caso de fiji_datos_0\n",
    "fiji_datos_0.head()"
   ]
  },
  {
   "cell_type": "code",
   "execution_count": 80,
   "metadata": {},
   "outputs": [
    {
     "data": {
      "text/plain": [
       "Index(['Unnamed: 0', 'labels', 'Area', 'X', 'Y', 'XM', 'YM', 'Perim.', 'BX',\n",
       "       'BY', 'Width', 'Height', 'Circ.', 'Feret', 'FeretX', 'FeretY',\n",
       "       'FeretAngle', 'MinFeret', 'AR', 'Round', 'Solidity', 'Esferoide', 'dia',\n",
       "       'Diameter', 'n_diam'],\n",
       "      dtype='object')"
      ]
     },
     "execution_count": 80,
     "metadata": {},
     "output_type": "execute_result"
    }
   ],
   "source": [
    "fiji_datos_0.columns"
   ]
  },
  {
   "cell_type": "code",
   "execution_count": 81,
   "metadata": {},
   "outputs": [
    {
     "data": {
      "text/html": [
       "<div>\n",
       "<style scoped>\n",
       "    .dataframe tbody tr th:only-of-type {\n",
       "        vertical-align: middle;\n",
       "    }\n",
       "\n",
       "    .dataframe tbody tr th {\n",
       "        vertical-align: top;\n",
       "    }\n",
       "\n",
       "    .dataframe thead th {\n",
       "        text-align: right;\n",
       "    }\n",
       "</style>\n",
       "<table border=\"1\" class=\"dataframe\">\n",
       "  <thead>\n",
       "    <tr style=\"text-align: right;\">\n",
       "      <th></th>\n",
       "      <th>labels</th>\n",
       "      <th>Area</th>\n",
       "      <th>X</th>\n",
       "      <th>Y</th>\n",
       "      <th>XM</th>\n",
       "      <th>YM</th>\n",
       "      <th>Perim.</th>\n",
       "      <th>BX</th>\n",
       "      <th>BY</th>\n",
       "      <th>Width</th>\n",
       "      <th>...</th>\n",
       "      <th>FeretY</th>\n",
       "      <th>FeretAngle</th>\n",
       "      <th>MinFeret</th>\n",
       "      <th>AR</th>\n",
       "      <th>Round</th>\n",
       "      <th>Solidity</th>\n",
       "      <th>Esferoide</th>\n",
       "      <th>dia</th>\n",
       "      <th>Diameter</th>\n",
       "      <th>n_diam</th>\n",
       "    </tr>\n",
       "  </thead>\n",
       "  <tbody>\n",
       "    <tr>\n",
       "      <th>0</th>\n",
       "      <td>Esferas_BT474_dia_0_well_2_100X_1_blob_34</td>\n",
       "      <td>315.6752</td>\n",
       "      <td>1027.9715</td>\n",
       "      <td>694.7215</td>\n",
       "      <td>1027.9715</td>\n",
       "      <td>694.7215</td>\n",
       "      <td>65.6036</td>\n",
       "      <td>1017.6630</td>\n",
       "      <td>684.7826</td>\n",
       "      <td>20.3804</td>\n",
       "      <td>...</td>\n",
       "      <td>1009</td>\n",
       "      <td>114.1455</td>\n",
       "      <td>20.1583</td>\n",
       "      <td>1.0130</td>\n",
       "      <td>0.9871</td>\n",
       "      <td>0.9513</td>\n",
       "      <td>si</td>\n",
       "      <td>0</td>\n",
       "      <td>20.87415</td>\n",
       "      <td>1.473866</td>\n",
       "    </tr>\n",
       "    <tr>\n",
       "      <th>1</th>\n",
       "      <td>Esferas_BT474_dia_0_well_1_100X_1_blob_8</td>\n",
       "      <td>333.6742</td>\n",
       "      <td>1123.7169</td>\n",
       "      <td>318.7621</td>\n",
       "      <td>1123.7169</td>\n",
       "      <td>318.7621</td>\n",
       "      <td>67.3603</td>\n",
       "      <td>1112.7717</td>\n",
       "      <td>309.1033</td>\n",
       "      <td>21.7391</td>\n",
       "      <td>...</td>\n",
       "      <td>470</td>\n",
       "      <td>7.1250</td>\n",
       "      <td>19.7011</td>\n",
       "      <td>1.0531</td>\n",
       "      <td>0.9496</td>\n",
       "      <td>0.9557</td>\n",
       "      <td>si</td>\n",
       "      <td>0</td>\n",
       "      <td>20.80470</td>\n",
       "      <td>1.459204</td>\n",
       "    </tr>\n",
       "    <tr>\n",
       "      <th>2</th>\n",
       "      <td>Esferas_BT474_dia_0_well_2_100X_1_blob_3</td>\n",
       "      <td>505.3572</td>\n",
       "      <td>1649.6734</td>\n",
       "      <td>26.9633</td>\n",
       "      <td>1649.6734</td>\n",
       "      <td>26.9633</td>\n",
       "      <td>85.2847</td>\n",
       "      <td>1636.5489</td>\n",
       "      <td>14.2663</td>\n",
       "      <td>25.8152</td>\n",
       "      <td>...</td>\n",
       "      <td>21</td>\n",
       "      <td>105.3763</td>\n",
       "      <td>25.5245</td>\n",
       "      <td>1.0173</td>\n",
       "      <td>0.9830</td>\n",
       "      <td>0.9387</td>\n",
       "      <td>si</td>\n",
       "      <td>0</td>\n",
       "      <td>26.85360</td>\n",
       "      <td>3.137900</td>\n",
       "    </tr>\n",
       "    <tr>\n",
       "      <th>3</th>\n",
       "      <td>Esferas_BT474_dia_0_well_2_100X_1_blob_8</td>\n",
       "      <td>874.1065</td>\n",
       "      <td>1596.3056</td>\n",
       "      <td>145.1846</td>\n",
       "      <td>1596.3056</td>\n",
       "      <td>145.1846</td>\n",
       "      <td>130.8776</td>\n",
       "      <td>1583.5598</td>\n",
       "      <td>123.6413</td>\n",
       "      <td>25.8152</td>\n",
       "      <td>...</td>\n",
       "      <td>247</td>\n",
       "      <td>78.6901</td>\n",
       "      <td>25.8152</td>\n",
       "      <td>1.9705</td>\n",
       "      <td>0.5075</td>\n",
       "      <td>0.8983</td>\n",
       "      <td>no</td>\n",
       "      <td>0</td>\n",
       "      <td>35.42365</td>\n",
       "      <td>7.202967</td>\n",
       "    </tr>\n",
       "    <tr>\n",
       "      <th>4</th>\n",
       "      <td>Esferas_BT474_dia_0_well_2_100X_1_blob_23</td>\n",
       "      <td>302.7528</td>\n",
       "      <td>130.9940</td>\n",
       "      <td>453.8447</td>\n",
       "      <td>130.9940</td>\n",
       "      <td>453.8447</td>\n",
       "      <td>64.4780</td>\n",
       "      <td>121.6033</td>\n",
       "      <td>443.6141</td>\n",
       "      <td>19.0217</td>\n",
       "      <td>...</td>\n",
       "      <td>682</td>\n",
       "      <td>61.8214</td>\n",
       "      <td>19.0217</td>\n",
       "      <td>1.0803</td>\n",
       "      <td>0.9256</td>\n",
       "      <td>0.9473</td>\n",
       "      <td>si</td>\n",
       "      <td>0</td>\n",
       "      <td>20.30050</td>\n",
       "      <td>1.355663</td>\n",
       "    </tr>\n",
       "  </tbody>\n",
       "</table>\n",
       "<p>5 rows × 24 columns</p>\n",
       "</div>"
      ],
      "text/plain": [
       "                                      labels      Area          X         Y  \\\n",
       "0  Esferas_BT474_dia_0_well_2_100X_1_blob_34  315.6752  1027.9715  694.7215   \n",
       "1   Esferas_BT474_dia_0_well_1_100X_1_blob_8  333.6742  1123.7169  318.7621   \n",
       "2   Esferas_BT474_dia_0_well_2_100X_1_blob_3  505.3572  1649.6734   26.9633   \n",
       "3   Esferas_BT474_dia_0_well_2_100X_1_blob_8  874.1065  1596.3056  145.1846   \n",
       "4  Esferas_BT474_dia_0_well_2_100X_1_blob_23  302.7528   130.9940  453.8447   \n",
       "\n",
       "          XM        YM    Perim.         BX        BY    Width  ...  FeretY  \\\n",
       "0  1027.9715  694.7215   65.6036  1017.6630  684.7826  20.3804  ...    1009   \n",
       "1  1123.7169  318.7621   67.3603  1112.7717  309.1033  21.7391  ...     470   \n",
       "2  1649.6734   26.9633   85.2847  1636.5489   14.2663  25.8152  ...      21   \n",
       "3  1596.3056  145.1846  130.8776  1583.5598  123.6413  25.8152  ...     247   \n",
       "4   130.9940  453.8447   64.4780   121.6033  443.6141  19.0217  ...     682   \n",
       "\n",
       "   FeretAngle  MinFeret      AR   Round  Solidity  Esferoide  dia  Diameter  \\\n",
       "0    114.1455   20.1583  1.0130  0.9871    0.9513         si    0  20.87415   \n",
       "1      7.1250   19.7011  1.0531  0.9496    0.9557         si    0  20.80470   \n",
       "2    105.3763   25.5245  1.0173  0.9830    0.9387         si    0  26.85360   \n",
       "3     78.6901   25.8152  1.9705  0.5075    0.8983         no    0  35.42365   \n",
       "4     61.8214   19.0217  1.0803  0.9256    0.9473         si    0  20.30050   \n",
       "\n",
       "     n_diam  \n",
       "0  1.473866  \n",
       "1  1.459204  \n",
       "2  3.137900  \n",
       "3  7.202967  \n",
       "4  1.355663  \n",
       "\n",
       "[5 rows x 24 columns]"
      ]
     },
     "execution_count": 81,
     "metadata": {},
     "output_type": "execute_result"
    }
   ],
   "source": [
    "# Eliminamos la columna Unnamed\n",
    "fiji_datos_0_clean = fiji_datos_0.drop(columns=['Unnamed: 0']).copy()\n",
    "fiji_datos_3_clean = fiji_datos_3.drop(columns=['Unnamed: 0']).copy()\n",
    "fiji_datos_7a_clean = fiji_datos_7a.drop(columns=['Unnamed: 0']).copy()\n",
    "fiji_datos_7b_clean = fiji_datos_7b.drop(columns=['Unnamed: 0']).copy()\n",
    "\n",
    "# Observamos que se haya eliminado la columna para el caso de fiji_datos_0_clean\n",
    "fiji_datos_0_clean.head()"
   ]
  },
  {
   "cell_type": "markdown",
   "metadata": {},
   "source": [
    "Verificamos las dimensiones de los datasets para unirlos"
   ]
  },
  {
   "cell_type": "code",
   "execution_count": 130,
   "metadata": {},
   "outputs": [
    {
     "name": "stdout",
     "output_type": "stream",
     "text": [
      "Día 0\n",
      "Shape: (110, 24)\n",
      "\n",
      "Día 1\n",
      "Shape: (395, 24)\n",
      "\n",
      "Día 2\n",
      "Shape: (172, 24)\n",
      "\n",
      "Día 3\n",
      "Shape: (50, 24)\n",
      "\n",
      "Día 4\n",
      "Shape: (295, 24)\n",
      "\n",
      "Día 5\n",
      "Shape: (57, 24)\n",
      "\n",
      "Día 6\n",
      "Shape: (4, 24)\n",
      "\n",
      "Día 7a\n",
      "Shape: (88, 12)\n",
      "\n",
      "Día 7b\n",
      "Shape: (88, 13)\n",
      "\n"
     ]
    }
   ],
   "source": [
    "fiji_datos_df = [fiji_datos_0_clean, fiji_datos_1, fiji_datos_2, fiji_datos_3_clean, fiji_datos_4, fiji_datos_5, \n",
    "                 fiji_datos_6, fiji_datos_7a_clean,fiji_datos_7b_clean]\n",
    "\n",
    "for i, df in enumerate(fiji_datos_df):\n",
    "    if i == 7:\n",
    "        dia = \"7a\"\n",
    "    elif i == 8:\n",
    "        dia = \"7b\"\n",
    "    else:\n",
    "        dia = str(i)\n",
    "    print(\"Día \" + dia)\n",
    "    print(\"Shape:\", df.shape)\n",
    "    print('')"
   ]
  },
  {
   "cell_type": "markdown",
   "metadata": {},
   "source": [
    "Analicemos lo que sucedió en el día 7 dado que la cantidad de columnas es menor al resto de los días. Parecería que vamos a tener que hacer un join de fiji_datos_7a_clean y fiji_datos_7b_clean."
   ]
  },
  {
   "cell_type": "code",
   "execution_count": 133,
   "metadata": {},
   "outputs": [
    {
     "data": {
      "text/plain": [
       "(Index(['labels', 'Area', 'X', 'Y', 'XM', 'YM', 'Perim.', 'BX', 'BY', 'Width',\n",
       "        'Height', 'Circ.'],\n",
       "       dtype='object'),\n",
       " Index(['labels', 'Feret', 'FeretX', 'FeretY', 'FeretAngle', 'MinFeret', 'AR',\n",
       "        'Round', 'Solidity', 'Esferoide', 'dia', 'Diameter', 'n_diam'],\n",
       "       dtype='object'))"
      ]
     },
     "execution_count": 133,
     "metadata": {},
     "output_type": "execute_result"
    }
   ],
   "source": [
    "fiji_datos_7a_clean.columns, fiji_datos_7b_clean.columns"
   ]
  },
  {
   "cell_type": "markdown",
   "metadata": {
    "id": "tPPVaduF7h1k"
   },
   "source": [
    "\n",
    "\n",
    "### OPCIONAL\n",
    "\n",
    "7) Explorar la carpeta *py_folder*. El archivo *main.py* es solo un borrador. Agregar alguna función de transformación en el módulo de eda y que puedan ejecutarla corriendo el archivo.\n",
    "\n",
    " Para correr el archivo main, en una terminal:\n",
    "\n",
    "    (.venv) $ python main.py\n",
    "\n",
    " [Pdoc](https://pdoc.dev/) es una elección común para la documentación en Python. Para usarlo en este proyecto (está un poco personalizado):\n",
    "\n",
    "    1) Instalarlo:\n",
    "       (.venv) $ pip install pdoc\n",
    "    2) Crear la carpeta con la documentación\n",
    "       (.venv) $ pdoc main.py utils/ -o ./documentacion/Docs -t ./documentacion/pdoc_templates/\n"
   ]
  },
  {
   "cell_type": "code",
   "execution_count": null,
   "metadata": {
    "id": "j2OkOObv7sSv"
   },
   "outputs": [],
   "source": []
  }
 ],
 "metadata": {
  "colab": {
   "provenance": []
  },
  "kernelspec": {
   "display_name": "Python 3 (ipykernel)",
   "language": "python",
   "name": "python3"
  },
  "language_info": {
   "codemirror_mode": {
    "name": "ipython",
    "version": 3
   },
   "file_extension": ".py",
   "mimetype": "text/x-python",
   "name": "python",
   "nbconvert_exporter": "python",
   "pygments_lexer": "ipython3",
   "version": "3.10.9"
  }
 },
 "nbformat": 4,
 "nbformat_minor": 1
}
