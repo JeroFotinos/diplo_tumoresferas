{
  "cells": [
    {
      "cell_type": "markdown",
      "metadata": {
        "id": "view-in-github",
        "colab_type": "text"
      },
      "source": [
        "<a href=\"https://colab.research.google.com/github/luciabarg/datos_tumoresferas/blob/main/datos_tumoresferas.ipynb\" target=\"_parent\"><img src=\"https://colab.research.google.com/assets/colab-badge.svg\" alt=\"Open In Colab\"/></a>"
      ]
    },
    {
      "cell_type": "markdown",
      "metadata": {
        "id": "-S_T19aNnGhb"
      },
      "source": [
        "<center>\n",
        "<h4> Datos de tumoresferas </h4>"
      ]
    },
    {
      "cell_type": "markdown",
      "metadata": {
        "id": "YDqZBNBx_PLP"
      },
      "source": [
        "En una colaboración con el Laboratorio de Células Madre del IBYME nos enviaron imágenes tomadas usando un microscopio óptico invertido\n",
        "común, en el cuarto de cultivos del Laboratorio de Células Madre del IBYME\n",
        "por la Lic. en Ciencias Biológicas Antonella Vila, becaria del IBYME-CONICET\n",
        "bajo la dirección del Dr. Vellón.\n",
        "\n",
        "\n",
        "Para extraer la información estructurada a partir de las imágenes hicimos uso del programa Fiji, que es un paquete de procesamiento de imágenes, distribución muy completa del programa [ImageJ](https://www.medicinatv.com/profesional/reportajes/una-plataforma-abierta-revoluciona-el-procesamiento-de-imagenes-biomedicas-4596/), que es ampliamente utilizado para procesar\n",
        "imágenes médicas. De acuerdo a la documentación del programa,\n",
        "es posible contar y medir objetos si conocemos la escala en la cual se han\n",
        "llevado a cabo dichas imágenes, en nuestro caso, a cuántos $\\mu$m equivale un\n",
        "píxel.\n",
        "Para llevar a cabo el procedimiento detallado en la [documentación](https://imagej.nih.gov/ij/docs/guide/146-30.html#sub:Analyze-Particles...),\n",
        "es necesario contar con una imagen umbralizada.\n",
        "\n"
      ]
    },
    {
      "cell_type": "code",
      "execution_count": null,
      "metadata": {
        "colab": {
          "background_save": true
        },
        "id": "9QondG6tkQI3",
        "outputId": "4dce41c2-b95e-4a49-be1a-da8ff5167274"
      },
      "outputs": [],
      "source": [
        "from IPython.display import Image\n",
        "Image(filename=\"/content/drive/MyDrive/Datos_tumoresferas/ejempo_segmentacion.png\")"
      ]
    },
    {
      "cell_type": "markdown",
      "metadata": {
        "id": "cIXIZi43XKcC"
      },
      "source": [
        "Importamos las librerías necesarias:"
      ]
    },
    {
      "cell_type": "code",
      "execution_count": null,
      "metadata": {
        "id": "kdtKG4W2XL1d"
      },
      "outputs": [],
      "source": [
        "import os\n",
        "import numpy as np\n",
        "import pandas as pd\n",
        "from random import random\n",
        "import matplotlib.pyplot as plt\n",
        "from scipy.integrate import odeint\n",
        "from scipy.optimize import fmin\n",
        "from scipy.integrate import solve_ivp\n",
        "import seaborn as sns\n",
        "import matplotlib.ticker as ticker\n",
        "import warnings\n",
        "warnings.filterwarnings(\"ignore\")\n",
        "\n",
        "from matplotlib import rc, rcParams\n",
        "rcParams['patch.force_edgecolor'] = True\n",
        "rcParams['patch.facecolor'] = 'b'\n",
        "pd.options.display.float_format = '{:,.2f}'.format"
      ]
    },
    {
      "cell_type": "markdown",
      "metadata": {
        "id": "Wu_BoGhuFcnV"
      },
      "source": [
        "Para asociar el Drive:"
      ]
    },
    {
      "cell_type": "code",
      "execution_count": null,
      "metadata": {
        "colab": {
          "base_uri": "https://localhost:8080/"
        },
        "id": "QwqnwpxnEY89",
        "outputId": "ca39d053-e984-4225-bd3e-e16247cbbbc6"
      },
      "outputs": [
        {
          "name": "stdout",
          "output_type": "stream",
          "text": [
            "Mounted at /content/drive\n"
          ]
        }
      ],
      "source": [
        "from google.colab import drive\n",
        "drive.mount('/content/drive')"
      ]
    },
    {
      "cell_type": "code",
      "execution_count": null,
      "metadata": {
        "id": "Xxq-oh7WIklg"
      },
      "outputs": [],
      "source": [
        "os.chdir(\"/content/drive/My Drive/Datos_tumoresferas\")\n",
        "\n",
        "# para acceder a la carpeta, en el siguiente link:\n",
        "# https://drive.google.com/file/d/1WgsbqeSG2kOoHZDyLhk2IZ5FgB1Festk/view?usp=sharing"
      ]
    },
    {
      "cell_type": "markdown",
      "metadata": {
        "id": "8V57T-iVlsLw"
      },
      "source": [
        "## Datos\n"
      ]
    },
    {
      "cell_type": "markdown",
      "metadata": {
        "id": "LMmFOl2vYzk-"
      },
      "source": [
        "Cargamos los datos de los experimentos realizados en el IBYME desde el día cero al séptimo. \n",
        "\n",
        "\n",
        "Ya se encuentran las etiquetas y el valor de las poblaciones estimadas, tomando como D1 = 18.34 µm al valor mínimo del diámetro de las células segmentadas."
      ]
    },
    {
      "cell_type": "code",
      "execution_count": null,
      "metadata": {
        "colab": {
          "base_uri": "https://localhost:8080/",
          "height": 317
        },
        "id": "HMe9vJFGXOYN",
        "outputId": "73d1fc6d-c190-4a3c-95a3-b7b1a6d8a1f8"
      },
      "outputs": [
        {
          "name": "stdout",
          "output_type": "stream",
          "text": [
            "cantidad de datos: 1018\n"
          ]
        },
        {
          "data": {
            "text/html": [
              "\n",
              "  <div id=\"df-450d5304-5595-465f-aa2f-2b4d6111d158\">\n",
              "    <div class=\"colab-df-container\">\n",
              "      <div>\n",
              "<style scoped>\n",
              "    .dataframe tbody tr th:only-of-type {\n",
              "        vertical-align: middle;\n",
              "    }\n",
              "\n",
              "    .dataframe tbody tr th {\n",
              "        vertical-align: top;\n",
              "    }\n",
              "\n",
              "    .dataframe thead th {\n",
              "        text-align: right;\n",
              "    }\n",
              "</style>\n",
              "<table border=\"1\" class=\"dataframe\">\n",
              "  <thead>\n",
              "    <tr style=\"text-align: right;\">\n",
              "      <th></th>\n",
              "      <th>labels</th>\n",
              "      <th>Area</th>\n",
              "      <th>X</th>\n",
              "      <th>Y</th>\n",
              "      <th>XM</th>\n",
              "      <th>YM</th>\n",
              "      <th>Perim.</th>\n",
              "      <th>BX</th>\n",
              "      <th>BY</th>\n",
              "      <th>Width</th>\n",
              "      <th>...</th>\n",
              "      <th>FeretY</th>\n",
              "      <th>FeretAngle</th>\n",
              "      <th>MinFeret</th>\n",
              "      <th>AR</th>\n",
              "      <th>Round</th>\n",
              "      <th>Solidity</th>\n",
              "      <th>Esferoide</th>\n",
              "      <th>dia</th>\n",
              "      <th>Diameter</th>\n",
              "      <th>n_diam</th>\n",
              "    </tr>\n",
              "  </thead>\n",
              "  <tbody>\n",
              "    <tr>\n",
              "      <th>0</th>\n",
              "      <td>Esferas_BT474_dia_0_well_1_100X_1_blob_1</td>\n",
              "      <td>324.44</td>\n",
              "      <td>1,129.27</td>\n",
              "      <td>102.21</td>\n",
              "      <td>1,129.27</td>\n",
              "      <td>102.21</td>\n",
              "      <td>67.36</td>\n",
              "      <td>1,118.89</td>\n",
              "      <td>92.39</td>\n",
              "      <td>21.06</td>\n",
              "      <td>...</td>\n",
              "      <td>157</td>\n",
              "      <td>23.43</td>\n",
              "      <td>19.70</td>\n",
              "      <td>1.07</td>\n",
              "      <td>0.94</td>\n",
              "      <td>0.95</td>\n",
              "      <td>si</td>\n",
              "      <td>0</td>\n",
              "      <td>20.96</td>\n",
              "      <td>1.49</td>\n",
              "    </tr>\n",
              "    <tr>\n",
              "      <th>1</th>\n",
              "      <td>Esferas_BT474_dia_0_well_1_100X_1_blob_2</td>\n",
              "      <td>497.51</td>\n",
              "      <td>1,517.55</td>\n",
              "      <td>126.10</td>\n",
              "      <td>1,517.55</td>\n",
              "      <td>126.10</td>\n",
              "      <td>82.80</td>\n",
              "      <td>1,504.76</td>\n",
              "      <td>113.45</td>\n",
              "      <td>25.82</td>\n",
              "      <td>...</td>\n",
              "      <td>192</td>\n",
              "      <td>16.14</td>\n",
              "      <td>25.13</td>\n",
              "      <td>1.05</td>\n",
              "      <td>0.95</td>\n",
              "      <td>0.96</td>\n",
              "      <td>si</td>\n",
              "      <td>0</td>\n",
              "      <td>26.00</td>\n",
              "      <td>2.85</td>\n",
              "    </tr>\n",
              "    <tr>\n",
              "      <th>2</th>\n",
              "      <td>Esferas_BT474_dia_0_well_1_100X_1_blob_3</td>\n",
              "      <td>282.91</td>\n",
              "      <td>1,314.28</td>\n",
              "      <td>126.10</td>\n",
              "      <td>1,314.28</td>\n",
              "      <td>126.10</td>\n",
              "      <td>62.16</td>\n",
              "      <td>1,304.35</td>\n",
              "      <td>116.85</td>\n",
              "      <td>19.70</td>\n",
              "      <td>...</td>\n",
              "      <td>189</td>\n",
              "      <td>15.42</td>\n",
              "      <td>18.34</td>\n",
              "      <td>1.04</td>\n",
              "      <td>0.96</td>\n",
              "      <td>0.95</td>\n",
              "      <td>si</td>\n",
              "      <td>0</td>\n",
              "      <td>19.39</td>\n",
              "      <td>1.18</td>\n",
              "    </tr>\n",
              "    <tr>\n",
              "      <th>3</th>\n",
              "      <td>Esferas_BT474_dia_0_well_1_100X_1_blob_5</td>\n",
              "      <td>500.74</td>\n",
              "      <td>1,189.28</td>\n",
              "      <td>212.62</td>\n",
              "      <td>1,189.28</td>\n",
              "      <td>212.62</td>\n",
              "      <td>84.56</td>\n",
              "      <td>1,175.95</td>\n",
              "      <td>200.41</td>\n",
              "      <td>26.49</td>\n",
              "      <td>...</td>\n",
              "      <td>309</td>\n",
              "      <td>174.14</td>\n",
              "      <td>25.14</td>\n",
              "      <td>1.03</td>\n",
              "      <td>0.97</td>\n",
              "      <td>0.95</td>\n",
              "      <td>si</td>\n",
              "      <td>0</td>\n",
              "      <td>25.88</td>\n",
              "      <td>2.81</td>\n",
              "    </tr>\n",
              "    <tr>\n",
              "      <th>4</th>\n",
              "      <td>Esferas_BT474_dia_0_well_1_100X_1_blob_6</td>\n",
              "      <td>492.90</td>\n",
              "      <td>1,043.08</td>\n",
              "      <td>247.77</td>\n",
              "      <td>1,043.08</td>\n",
              "      <td>247.77</td>\n",
              "      <td>82.07</td>\n",
              "      <td>1,030.57</td>\n",
              "      <td>235.73</td>\n",
              "      <td>25.14</td>\n",
              "      <td>...</td>\n",
              "      <td>353</td>\n",
              "      <td>143.43</td>\n",
              "      <td>24.46</td>\n",
              "      <td>1.02</td>\n",
              "      <td>0.98</td>\n",
              "      <td>0.96</td>\n",
              "      <td>si</td>\n",
              "      <td>0</td>\n",
              "      <td>25.34</td>\n",
              "      <td>2.64</td>\n",
              "    </tr>\n",
              "  </tbody>\n",
              "</table>\n",
              "<p>5 rows × 24 columns</p>\n",
              "</div>\n",
              "      <button class=\"colab-df-convert\" onclick=\"convertToInteractive('df-450d5304-5595-465f-aa2f-2b4d6111d158')\"\n",
              "              title=\"Convert this dataframe to an interactive table.\"\n",
              "              style=\"display:none;\">\n",
              "        \n",
              "  <svg xmlns=\"http://www.w3.org/2000/svg\" height=\"24px\"viewBox=\"0 0 24 24\"\n",
              "       width=\"24px\">\n",
              "    <path d=\"M0 0h24v24H0V0z\" fill=\"none\"/>\n",
              "    <path d=\"M18.56 5.44l.94 2.06.94-2.06 2.06-.94-2.06-.94-.94-2.06-.94 2.06-2.06.94zm-11 1L8.5 8.5l.94-2.06 2.06-.94-2.06-.94L8.5 2.5l-.94 2.06-2.06.94zm10 10l.94 2.06.94-2.06 2.06-.94-2.06-.94-.94-2.06-.94 2.06-2.06.94z\"/><path d=\"M17.41 7.96l-1.37-1.37c-.4-.4-.92-.59-1.43-.59-.52 0-1.04.2-1.43.59L10.3 9.45l-7.72 7.72c-.78.78-.78 2.05 0 2.83L4 21.41c.39.39.9.59 1.41.59.51 0 1.02-.2 1.41-.59l7.78-7.78 2.81-2.81c.8-.78.8-2.07 0-2.86zM5.41 20L4 18.59l7.72-7.72 1.47 1.35L5.41 20z\"/>\n",
              "  </svg>\n",
              "      </button>\n",
              "      \n",
              "  <style>\n",
              "    .colab-df-container {\n",
              "      display:flex;\n",
              "      flex-wrap:wrap;\n",
              "      gap: 12px;\n",
              "    }\n",
              "\n",
              "    .colab-df-convert {\n",
              "      background-color: #E8F0FE;\n",
              "      border: none;\n",
              "      border-radius: 50%;\n",
              "      cursor: pointer;\n",
              "      display: none;\n",
              "      fill: #1967D2;\n",
              "      height: 32px;\n",
              "      padding: 0 0 0 0;\n",
              "      width: 32px;\n",
              "    }\n",
              "\n",
              "    .colab-df-convert:hover {\n",
              "      background-color: #E2EBFA;\n",
              "      box-shadow: 0px 1px 2px rgba(60, 64, 67, 0.3), 0px 1px 3px 1px rgba(60, 64, 67, 0.15);\n",
              "      fill: #174EA6;\n",
              "    }\n",
              "\n",
              "    [theme=dark] .colab-df-convert {\n",
              "      background-color: #3B4455;\n",
              "      fill: #D2E3FC;\n",
              "    }\n",
              "\n",
              "    [theme=dark] .colab-df-convert:hover {\n",
              "      background-color: #434B5C;\n",
              "      box-shadow: 0px 1px 3px 1px rgba(0, 0, 0, 0.15);\n",
              "      filter: drop-shadow(0px 1px 2px rgba(0, 0, 0, 0.3));\n",
              "      fill: #FFFFFF;\n",
              "    }\n",
              "  </style>\n",
              "\n",
              "      <script>\n",
              "        const buttonEl =\n",
              "          document.querySelector('#df-450d5304-5595-465f-aa2f-2b4d6111d158 button.colab-df-convert');\n",
              "        buttonEl.style.display =\n",
              "          google.colab.kernel.accessAllowed ? 'block' : 'none';\n",
              "\n",
              "        async function convertToInteractive(key) {\n",
              "          const element = document.querySelector('#df-450d5304-5595-465f-aa2f-2b4d6111d158');\n",
              "          const dataTable =\n",
              "            await google.colab.kernel.invokeFunction('convertToInteractive',\n",
              "                                                     [key], {});\n",
              "          if (!dataTable) return;\n",
              "\n",
              "          const docLinkHtml = 'Like what you see? Visit the ' +\n",
              "            '<a target=\"_blank\" href=https://colab.research.google.com/notebooks/data_table.ipynb>data table notebook</a>'\n",
              "            + ' to learn more about interactive tables.';\n",
              "          element.innerHTML = '';\n",
              "          dataTable['output_type'] = 'display_data';\n",
              "          await google.colab.output.renderOutput(dataTable, element);\n",
              "          const docLink = document.createElement('div');\n",
              "          docLink.innerHTML = docLinkHtml;\n",
              "          element.appendChild(docLink);\n",
              "        }\n",
              "      </script>\n",
              "    </div>\n",
              "  </div>\n",
              "  "
            ],
            "text/plain": [
              "                                     labels   Area        X      Y       XM  \\\n",
              "0  Esferas_BT474_dia_0_well_1_100X_1_blob_1 324.44 1,129.27 102.21 1,129.27   \n",
              "1  Esferas_BT474_dia_0_well_1_100X_1_blob_2 497.51 1,517.55 126.10 1,517.55   \n",
              "2  Esferas_BT474_dia_0_well_1_100X_1_blob_3 282.91 1,314.28 126.10 1,314.28   \n",
              "3  Esferas_BT474_dia_0_well_1_100X_1_blob_5 500.74 1,189.28 212.62 1,189.28   \n",
              "4  Esferas_BT474_dia_0_well_1_100X_1_blob_6 492.90 1,043.08 247.77 1,043.08   \n",
              "\n",
              "      YM  Perim.       BX     BY  Width  ...  FeretY  FeretAngle  MinFeret  \\\n",
              "0 102.21   67.36 1,118.89  92.39  21.06  ...     157       23.43     19.70   \n",
              "1 126.10   82.80 1,504.76 113.45  25.82  ...     192       16.14     25.13   \n",
              "2 126.10   62.16 1,304.35 116.85  19.70  ...     189       15.42     18.34   \n",
              "3 212.62   84.56 1,175.95 200.41  26.49  ...     309      174.14     25.14   \n",
              "4 247.77   82.07 1,030.57 235.73  25.14  ...     353      143.43     24.46   \n",
              "\n",
              "    AR  Round  Solidity  Esferoide  dia  Diameter  n_diam  \n",
              "0 1.07   0.94      0.95         si    0     20.96    1.49  \n",
              "1 1.05   0.95      0.96         si    0     26.00    2.85  \n",
              "2 1.04   0.96      0.95         si    0     19.39    1.18  \n",
              "3 1.03   0.97      0.95         si    0     25.88    2.81  \n",
              "4 1.02   0.98      0.96         si    0     25.34    2.64  \n",
              "\n",
              "[5 rows x 24 columns]"
            ]
          },
          "execution_count": 5,
          "metadata": {},
          "output_type": "execute_result"
        }
      ],
      "source": [
        "fiji_datos = pd.read_csv(\"fiji_datos_0al7mo_labels.csv\") \n",
        "print('cantidad de datos:', len(fiji_datos))\n",
        "fiji_datos.head()"
      ]
    }
  ],
  "metadata": {
    "colab": {
      "collapsed_sections": [],
      "name": "datos_tumoresferas",
      "provenance": [],
      "authorship_tag": "ABX9TyN+r5oP8ZZLdxcKwOZgxyxM",
      "include_colab_link": true
    },
    "kernelspec": {
      "display_name": "Python 3",
      "name": "python3"
    },
    "language_info": {
      "name": "python"
    }
  },
  "nbformat": 4,
  "nbformat_minor": 0
}