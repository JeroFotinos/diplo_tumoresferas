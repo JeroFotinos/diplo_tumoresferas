{
  "cells": [
    {
      "cell_type": "markdown",
      "metadata": {
        "id": "view-in-github",
        "colab_type": "text"
      },
      "source": [
        "<a href=\"https://colab.research.google.com/github/luciabarg/datos_tumoresferas/blob/main/2_Exploracion_y_Curacion_Clasificacion_Tumoresferas.ipynb\" target=\"_parent\"><img src=\"https://colab.research.google.com/assets/colab-badge.svg\" alt=\"Open In Colab\"/></a>"
      ]
    },
    {
      "cell_type": "markdown",
      "metadata": {
        "id": "-S_T19aNnGhb"
      },
      "source": [
        "\n",
        "<center>\n",
        "<h4>Universidad Nacional de Córdoba - Facultad de Matemática, Astronomía, Física y Computación</h4>\n",
        "<h3>Diplomatura en Ciencia de Datos, Aprendizaje Automático y sus Aplicaciones</h3>\n",
        " <h2>Mentoría: Clasificación de Tumoresferas </h2>\n",
        "</center>\n",
        "\n"
      ]
    },
    {
      "cell_type": "markdown",
      "metadata": {
        "id": "OCZIyaVatb3o"
      },
      "source": [
        "<a name=\"exploratory_data_analysis\"></a>\n",
        "#### **Práctico de Análisis Exploratorio y Curación**\n",
        "\n",
        "*FECHA LíMITE DE ENTREGA: 17/06*\n",
        "\n",
        "En esta notebook, incorporamos parte de lo realizado en la 1era entrega ([carpeta de entrega de prácticos](https://drive.google.com/drive/folders/1Juit-kDMN3ZXgVXeC_myzx5jgYkjyJVI?usp=sharing)) por:\n",
        "  \n",
        "  * Alfredo Quevedo\n",
        "  * Daniel Rubio \n",
        "  * Eugenia Bernaschini \n",
        "  * Guillermo A. Robiglio\n",
        "  \n",
        "\n",
        "  \n"
      ]
    },
    {
      "cell_type": "markdown",
      "metadata": {
        "id": "Wu_BoGhuFcnV"
      },
      "source": [
        "Para asociar el Drive:"
      ]
    },
    {
      "cell_type": "code",
      "execution_count": null,
      "metadata": {
        "id": "Oj4inPirfL6p",
        "colab": {
          "base_uri": "https://localhost:8080/"
        },
        "outputId": "1a3f47fd-adb0-44ca-d911-96e23f3a0bfc"
      },
      "outputs": [
        {
          "output_type": "stream",
          "name": "stdout",
          "text": [
            "Mounted at /content/drive\n"
          ]
        }
      ],
      "source": [
        "from google.colab import drive\n",
        "drive.mount('/content/drive')"
      ]
    },
    {
      "cell_type": "code",
      "execution_count": null,
      "metadata": {
        "id": "bswvAJpARFGX"
      },
      "outputs": [],
      "source": [
        "try:\n",
        "  import os\n",
        "  os.chdir(\"/content/drive/My Drive/Datos_tumoresferas\")\n",
        "  # para acceder a la carpeta, en el siguiente link:\n",
        "  # https://drive.google.com/drive/folders/1Qsf63jIGYm57Ozsfl9biLSpgsqGiikBh?usp=sharing\n",
        "except FileNotFoundError:\n",
        "  url = 'http://www.ccll.com.ar/fiji_datos_0al7mo_labels.csv'"
      ]
    },
    {
      "cell_type": "markdown",
      "metadata": {
        "id": "cIXIZi43XKcC"
      },
      "source": [
        "Importamos las librerías necesarias:"
      ]
    },
    {
      "cell_type": "code",
      "execution_count": null,
      "metadata": {
        "id": "kdtKG4W2XL1d"
      },
      "outputs": [],
      "source": [
        "import numpy as np\n",
        "import pandas as pd\n",
        "import matplotlib.pyplot as plt\n",
        "import seaborn as sns\n",
        "\n",
        "sns.set_context('talk') \n",
        "\n",
        "import warnings\n",
        "warnings.filterwarnings(\"ignore\")\n"
      ]
    },
    {
      "cell_type": "markdown",
      "source": [
        "1) Para empezar a trabajar la tabla, primero hay que combinar los datasets, que fueron separados por día. \n",
        "\n",
        "Estos son los siguientes archivos a unir:\n",
        "\n",
        "*   \"fiji_datos_0al7mo_modificado_dia_0.csv\"\n",
        "*   \"fiji_datos_0al7mo_modificado_dia_1.csv\"\n",
        "*   \"fiji_datos_0al7mo_modificado_dia_2.csv\"\n",
        "*   \"fiji_datos_0al7mo_modificado_dia_3.csv\"\n",
        "*   \"fiji_datos_0al7mo_modificado_dia_4.csv\"\n",
        "*   \"fiji_datos_0al7mo_modificado_dia_5.csv\"\n",
        "*   \"fiji_datos_0al7mo_modificado_dia_6.csv\"\n",
        "*   \"fiji_datos_0al7mo_modificado_dia_7a.csv\"\n",
        "*   \"fiji_datos_0al7mo_modificado_dia_7b.csv\"\n",
        "\n",
        "Se encuentran en la carpeta: **\"data/02_EyC\"** de la [carpeta compartida](https://drive.google.com/drive/folders/1Qsf63jIGYm57Ozsfl9biLSpgsqGiikBh?usp=sharing) y en este repositorio. \n",
        "\n",
        "2) Una vez armado el dataset modificado, vean si hay valores nulos, duplicados, etc, tratando de encontrar todas las inconsistencias en los datos. Decidir el orden en cuál ir arreglándolas.\n",
        "\n",
        "3) Corregir las inconsistencias que van encontrando y sobre los datos faltantes (¡verificar si los hay!), determinar cuál método sería el mas adecuado para imputarlos, teniendo en cuenta lo que aprendieron sobre los datos en el práctico de *Análisis y Visualización*.\n",
        "\n",
        "4) Una vez que recuperan el dataset original, repasando lo que les dieron en la materia de *Exploración y Curación de datos* y ya pensando en las transformaciones que puedan servirles y que les conviene realizar para la clasificación en el práctico de aprendizaje supervisado:\n",
        "\n",
        "  * ¿Sobre cuáles columnas realizarían encoding y de qué tipo?.\n",
        "\n",
        "  * Tenemos muchas columnas (¡aunque siempre puede haber mas!) por lo que es posible realizar algún método de reducción de dimensionalidad.\n",
        "\n",
        "  Sumar tales transformaciones como columnas para sumar características al conjunto de datos y guardar el achivo modificado.\n",
        "\n",
        "Si se traban mucho mucho en la limpieza de los datos, este paso pueden hacerlo con el dataset original que usaron en el práctico 1.\n",
        "\n",
        "5) Realizar una documentación técnica de los procesos realizados. \n",
        "\n",
        "\n",
        "\n",
        "\n"
      ],
      "metadata": {
        "id": "3Tp52fqQDfvB"
      }
    },
    {
      "cell_type": "markdown",
      "source": [
        "### *Opcionales:*\n",
        "\n",
        "Si alguien se anima a cargar en alguna base de datos un dataset (original y/o el modificado), en SQL:\n",
        "\n",
        "* Eliminar datos duplicados.\n",
        "* Realizar algunas consultas sobre el dataset completo, por ej:\n",
        "  * Cuántos datos hay por día, \n",
        "  * Cuántos esferoides \"si\" y \"no\" hay en total.\n",
        "* En algún día en particular, consultar cuántos datos:\n",
        "  * Son esferoides \"si\" y \"no\".\n",
        "  * Tienen su diámetro entre 50$\\mu$ m y 200$\\mu$ m \n",
        "  "
      ],
      "metadata": {
        "id": "rBh4ynLzKvkV"
      }
    }
  ],
  "metadata": {
    "colab": {
      "collapsed_sections": [],
      "name": "2_Exploracion_y_Curacion_Clasificacion_Tumoresferas.ipynb",
      "provenance": [],
      "include_colab_link": true
    },
    "kernelspec": {
      "display_name": "Python 3 (ipykernel)",
      "language": "python",
      "name": "python3"
    },
    "language_info": {
      "codemirror_mode": {
        "name": "ipython",
        "version": 3
      },
      "file_extension": ".py",
      "mimetype": "text/x-python",
      "name": "python",
      "nbconvert_exporter": "python",
      "pygments_lexer": "ipython3",
      "version": "3.9.12"
    }
  },
  "nbformat": 4,
  "nbformat_minor": 0
}