{
  "cells": [
    {
      "cell_type": "markdown",
      "metadata": {
        "id": "view-in-github",
        "colab_type": "text"
      },
      "source": [
        "<a href=\"https://colab.research.google.com/github/luciabarg/datos_tumoresferas/blob/main/4_Aprendizaje_NO_Supervisado_Clasificacion_Tumoresferas.ipynb\" target=\"_parent\"><img src=\"https://colab.research.google.com/assets/colab-badge.svg\" alt=\"Open In Colab\"/></a>"
      ]
    },
    {
      "cell_type": "markdown",
      "metadata": {
        "id": "-S_T19aNnGhb"
      },
      "source": [
        "\n",
        "<center>\n",
        "<h4>Universidad Nacional de Córdoba - Facultad de Matemática, Astronomía, Física y Computación</h4>\n",
        "<h3>Diplomatura en Ciencia de Datos, Aprendizaje Automático y sus Aplicaciones</h3>\n",
        " <h2>Mentoría: Clasificación de Tumoresferas </h2>\n",
        "</center>\n",
        "\n"
      ]
    },
    {
      "cell_type": "markdown",
      "metadata": {
        "id": "OCZIyaVatb3o"
      },
      "source": [
        "<a name=\"exploratory_data_analysis\"></a>\n",
        "#### **Práctico de Aprendizaje NO Supervisado**\n",
        "\n",
        "En esta notebook, incorporamos parte de lo realizado en las entregas ([carpeta de entrega de prácticos](https://drive.google.com/drive/folders/1U4AG1tXjCT4ul09jt02bFMra45GtTFOC)) por: \n",
        "  \n",
        "  * Alfredo Quevedo\n",
        "  * Daniel Rubio \n",
        "  * Eugenia Bernaschini \n",
        "  * Guillermo A. Robiglio\n",
        "  \n",
        "\n",
        "  \n"
      ]
    },
    {
      "cell_type": "markdown",
      "metadata": {
        "id": "cIXIZi43XKcC"
      },
      "source": [
        "Importamos las librerías necesarias:"
      ]
    },
    {
      "cell_type": "code",
      "execution_count": 2,
      "metadata": {
        "id": "kdtKG4W2XL1d"
      },
      "outputs": [],
      "source": [
        "import numpy as np\n",
        "import pandas as pd\n",
        "import matplotlib.pyplot as plt\n",
        "import seaborn as sns\n",
        "\n",
        "sns.set_context('talk') \n",
        "\n",
        "import warnings\n",
        "warnings.filterwarnings(\"ignore\")\n"
      ]
    },
    {
      "cell_type": "markdown",
      "source": [
        "En este práctico, utilizaremos el archivo [original](https://drive.google.com/file/d/1ZPnIYSftwFVtKJLqEUE4t-W0xm4UnGT5/view?usp=sharing)."
      ],
      "metadata": {
        "id": "k05k3tQXoo_q"
      }
    },
    {
      "cell_type": "markdown",
      "metadata": {
        "id": "Wu_BoGhuFcnV"
      },
      "source": [
        "Para asociar el Drive:"
      ]
    },
    {
      "cell_type": "code",
      "execution_count": 3,
      "metadata": {
        "id": "Oj4inPirfL6p",
        "colab": {
          "base_uri": "https://localhost:8080/"
        },
        "outputId": "d02e7375-0b81-48c7-cc23-05303eda1d90"
      },
      "outputs": [
        {
          "output_type": "stream",
          "name": "stdout",
          "text": [
            "Mounted at /content/drive\n"
          ]
        }
      ],
      "source": [
        "from google.colab import drive\n",
        "drive.mount('/content/drive')"
      ]
    },
    {
      "cell_type": "code",
      "execution_count": 4,
      "metadata": {
        "id": "bswvAJpARFGX"
      },
      "outputs": [],
      "source": [
        "try:\n",
        "  import os\n",
        "  os.chdir(\"/content/drive/My Drive/Datos_tumoresferas\")\n",
        "  # para acceder a la carpeta, en el siguiente link:\n",
        "  # https://drive.google.com/drive/folders/1Qsf63jIGYm57Ozsfl9biLSpgsqGiikBh?usp=sharing\n",
        "except FileNotFoundError:\n",
        "  url = 'http://www.ccll.com.ar/fiji_datos_0al7mo_labels.csv'"
      ]
    },
    {
      "cell_type": "code",
      "source": [
        "fiji_datos = pd.read_csv(\"data/raw/fiji_datos_0al7mo_labels.csv\") \n",
        "print('cantidad de datos:', len(fiji_datos))\n",
        "fiji_datos.head()"
      ],
      "metadata": {
        "colab": {
          "base_uri": "https://localhost:8080/",
          "height": 317
        },
        "id": "37BSsDCxpqqJ",
        "outputId": "ac358552-9b0e-43ed-e31f-119a589d565f"
      },
      "execution_count": 5,
      "outputs": [
        {
          "output_type": "stream",
          "name": "stdout",
          "text": [
            "cantidad de datos: 1018\n"
          ]
        },
        {
          "output_type": "execute_result",
          "data": {
            "text/plain": [
              "                                     labels      Area          X         Y  \\\n",
              "0  Esferas_BT474_dia_0_well_1_100X_1_blob_1  324.4440  1129.2718  102.2051   \n",
              "1  Esferas_BT474_dia_0_well_1_100X_1_blob_2  497.5115  1517.5528  126.1022   \n",
              "2  Esferas_BT474_dia_0_well_1_100X_1_blob_3  282.9078  1314.2815  126.0988   \n",
              "3  Esferas_BT474_dia_0_well_1_100X_1_blob_5  500.7421  1189.2841  212.6155   \n",
              "4  Esferas_BT474_dia_0_well_1_100X_1_blob_6  492.8964  1043.0782  247.7667   \n",
              "\n",
              "          XM        YM   Perim.         BX        BY    Width  ...  FeretY  \\\n",
              "0  1129.2718  102.2051  67.3603  1118.8859   92.3913  21.0598  ...     157   \n",
              "1  1517.5528  126.1022  82.8004  1504.7554  113.4511  25.8152  ...     192   \n",
              "2  1314.2815  126.0988  62.1586  1304.3478  116.8478  19.7011  ...     189   \n",
              "3  1189.2841  212.6155  84.5571  1175.9511  200.4076  26.4946  ...     309   \n",
              "4  1043.0782  247.7667  82.0728  1030.5707  235.7337  25.1359  ...     353   \n",
              "\n",
              "   FeretAngle  MinFeret      AR   Round  Solidity  Esferoide  dia  Diameter  \\\n",
              "0     23.4287   19.7011  1.0653  0.9387    0.9500         si    0  20.95640   \n",
              "1     16.1443   25.1289  1.0475  0.9546    0.9569         si    0  26.00200   \n",
              "2     15.4222   18.3424  1.0395  0.9620    0.9519         si    0  19.38970   \n",
              "3    174.1440   25.1359  1.0278  0.9730    0.9493         si    0  25.88475   \n",
              "4    143.4270   24.4565  1.0186  0.9817    0.9643         si    0  25.33985   \n",
              "\n",
              "     n_diam  \n",
              "0  1.491357  \n",
              "1  2.848733  \n",
              "2  1.181258  \n",
              "3  2.810370  \n",
              "4  2.636596  \n",
              "\n",
              "[5 rows x 24 columns]"
            ],
            "text/html": [
              "\n",
              "  <div id=\"df-ad431fb9-3a9c-40ad-819a-06c0c2a1351b\">\n",
              "    <div class=\"colab-df-container\">\n",
              "      <div>\n",
              "<style scoped>\n",
              "    .dataframe tbody tr th:only-of-type {\n",
              "        vertical-align: middle;\n",
              "    }\n",
              "\n",
              "    .dataframe tbody tr th {\n",
              "        vertical-align: top;\n",
              "    }\n",
              "\n",
              "    .dataframe thead th {\n",
              "        text-align: right;\n",
              "    }\n",
              "</style>\n",
              "<table border=\"1\" class=\"dataframe\">\n",
              "  <thead>\n",
              "    <tr style=\"text-align: right;\">\n",
              "      <th></th>\n",
              "      <th>labels</th>\n",
              "      <th>Area</th>\n",
              "      <th>X</th>\n",
              "      <th>Y</th>\n",
              "      <th>XM</th>\n",
              "      <th>YM</th>\n",
              "      <th>Perim.</th>\n",
              "      <th>BX</th>\n",
              "      <th>BY</th>\n",
              "      <th>Width</th>\n",
              "      <th>...</th>\n",
              "      <th>FeretY</th>\n",
              "      <th>FeretAngle</th>\n",
              "      <th>MinFeret</th>\n",
              "      <th>AR</th>\n",
              "      <th>Round</th>\n",
              "      <th>Solidity</th>\n",
              "      <th>Esferoide</th>\n",
              "      <th>dia</th>\n",
              "      <th>Diameter</th>\n",
              "      <th>n_diam</th>\n",
              "    </tr>\n",
              "  </thead>\n",
              "  <tbody>\n",
              "    <tr>\n",
              "      <th>0</th>\n",
              "      <td>Esferas_BT474_dia_0_well_1_100X_1_blob_1</td>\n",
              "      <td>324.4440</td>\n",
              "      <td>1129.2718</td>\n",
              "      <td>102.2051</td>\n",
              "      <td>1129.2718</td>\n",
              "      <td>102.2051</td>\n",
              "      <td>67.3603</td>\n",
              "      <td>1118.8859</td>\n",
              "      <td>92.3913</td>\n",
              "      <td>21.0598</td>\n",
              "      <td>...</td>\n",
              "      <td>157</td>\n",
              "      <td>23.4287</td>\n",
              "      <td>19.7011</td>\n",
              "      <td>1.0653</td>\n",
              "      <td>0.9387</td>\n",
              "      <td>0.9500</td>\n",
              "      <td>si</td>\n",
              "      <td>0</td>\n",
              "      <td>20.95640</td>\n",
              "      <td>1.491357</td>\n",
              "    </tr>\n",
              "    <tr>\n",
              "      <th>1</th>\n",
              "      <td>Esferas_BT474_dia_0_well_1_100X_1_blob_2</td>\n",
              "      <td>497.5115</td>\n",
              "      <td>1517.5528</td>\n",
              "      <td>126.1022</td>\n",
              "      <td>1517.5528</td>\n",
              "      <td>126.1022</td>\n",
              "      <td>82.8004</td>\n",
              "      <td>1504.7554</td>\n",
              "      <td>113.4511</td>\n",
              "      <td>25.8152</td>\n",
              "      <td>...</td>\n",
              "      <td>192</td>\n",
              "      <td>16.1443</td>\n",
              "      <td>25.1289</td>\n",
              "      <td>1.0475</td>\n",
              "      <td>0.9546</td>\n",
              "      <td>0.9569</td>\n",
              "      <td>si</td>\n",
              "      <td>0</td>\n",
              "      <td>26.00200</td>\n",
              "      <td>2.848733</td>\n",
              "    </tr>\n",
              "    <tr>\n",
              "      <th>2</th>\n",
              "      <td>Esferas_BT474_dia_0_well_1_100X_1_blob_3</td>\n",
              "      <td>282.9078</td>\n",
              "      <td>1314.2815</td>\n",
              "      <td>126.0988</td>\n",
              "      <td>1314.2815</td>\n",
              "      <td>126.0988</td>\n",
              "      <td>62.1586</td>\n",
              "      <td>1304.3478</td>\n",
              "      <td>116.8478</td>\n",
              "      <td>19.7011</td>\n",
              "      <td>...</td>\n",
              "      <td>189</td>\n",
              "      <td>15.4222</td>\n",
              "      <td>18.3424</td>\n",
              "      <td>1.0395</td>\n",
              "      <td>0.9620</td>\n",
              "      <td>0.9519</td>\n",
              "      <td>si</td>\n",
              "      <td>0</td>\n",
              "      <td>19.38970</td>\n",
              "      <td>1.181258</td>\n",
              "    </tr>\n",
              "    <tr>\n",
              "      <th>3</th>\n",
              "      <td>Esferas_BT474_dia_0_well_1_100X_1_blob_5</td>\n",
              "      <td>500.7421</td>\n",
              "      <td>1189.2841</td>\n",
              "      <td>212.6155</td>\n",
              "      <td>1189.2841</td>\n",
              "      <td>212.6155</td>\n",
              "      <td>84.5571</td>\n",
              "      <td>1175.9511</td>\n",
              "      <td>200.4076</td>\n",
              "      <td>26.4946</td>\n",
              "      <td>...</td>\n",
              "      <td>309</td>\n",
              "      <td>174.1440</td>\n",
              "      <td>25.1359</td>\n",
              "      <td>1.0278</td>\n",
              "      <td>0.9730</td>\n",
              "      <td>0.9493</td>\n",
              "      <td>si</td>\n",
              "      <td>0</td>\n",
              "      <td>25.88475</td>\n",
              "      <td>2.810370</td>\n",
              "    </tr>\n",
              "    <tr>\n",
              "      <th>4</th>\n",
              "      <td>Esferas_BT474_dia_0_well_1_100X_1_blob_6</td>\n",
              "      <td>492.8964</td>\n",
              "      <td>1043.0782</td>\n",
              "      <td>247.7667</td>\n",
              "      <td>1043.0782</td>\n",
              "      <td>247.7667</td>\n",
              "      <td>82.0728</td>\n",
              "      <td>1030.5707</td>\n",
              "      <td>235.7337</td>\n",
              "      <td>25.1359</td>\n",
              "      <td>...</td>\n",
              "      <td>353</td>\n",
              "      <td>143.4270</td>\n",
              "      <td>24.4565</td>\n",
              "      <td>1.0186</td>\n",
              "      <td>0.9817</td>\n",
              "      <td>0.9643</td>\n",
              "      <td>si</td>\n",
              "      <td>0</td>\n",
              "      <td>25.33985</td>\n",
              "      <td>2.636596</td>\n",
              "    </tr>\n",
              "  </tbody>\n",
              "</table>\n",
              "<p>5 rows × 24 columns</p>\n",
              "</div>\n",
              "      <button class=\"colab-df-convert\" onclick=\"convertToInteractive('df-ad431fb9-3a9c-40ad-819a-06c0c2a1351b')\"\n",
              "              title=\"Convert this dataframe to an interactive table.\"\n",
              "              style=\"display:none;\">\n",
              "        \n",
              "  <svg xmlns=\"http://www.w3.org/2000/svg\" height=\"24px\"viewBox=\"0 0 24 24\"\n",
              "       width=\"24px\">\n",
              "    <path d=\"M0 0h24v24H0V0z\" fill=\"none\"/>\n",
              "    <path d=\"M18.56 5.44l.94 2.06.94-2.06 2.06-.94-2.06-.94-.94-2.06-.94 2.06-2.06.94zm-11 1L8.5 8.5l.94-2.06 2.06-.94-2.06-.94L8.5 2.5l-.94 2.06-2.06.94zm10 10l.94 2.06.94-2.06 2.06-.94-2.06-.94-.94-2.06-.94 2.06-2.06.94z\"/><path d=\"M17.41 7.96l-1.37-1.37c-.4-.4-.92-.59-1.43-.59-.52 0-1.04.2-1.43.59L10.3 9.45l-7.72 7.72c-.78.78-.78 2.05 0 2.83L4 21.41c.39.39.9.59 1.41.59.51 0 1.02-.2 1.41-.59l7.78-7.78 2.81-2.81c.8-.78.8-2.07 0-2.86zM5.41 20L4 18.59l7.72-7.72 1.47 1.35L5.41 20z\"/>\n",
              "  </svg>\n",
              "      </button>\n",
              "      \n",
              "  <style>\n",
              "    .colab-df-container {\n",
              "      display:flex;\n",
              "      flex-wrap:wrap;\n",
              "      gap: 12px;\n",
              "    }\n",
              "\n",
              "    .colab-df-convert {\n",
              "      background-color: #E8F0FE;\n",
              "      border: none;\n",
              "      border-radius: 50%;\n",
              "      cursor: pointer;\n",
              "      display: none;\n",
              "      fill: #1967D2;\n",
              "      height: 32px;\n",
              "      padding: 0 0 0 0;\n",
              "      width: 32px;\n",
              "    }\n",
              "\n",
              "    .colab-df-convert:hover {\n",
              "      background-color: #E2EBFA;\n",
              "      box-shadow: 0px 1px 2px rgba(60, 64, 67, 0.3), 0px 1px 3px 1px rgba(60, 64, 67, 0.15);\n",
              "      fill: #174EA6;\n",
              "    }\n",
              "\n",
              "    [theme=dark] .colab-df-convert {\n",
              "      background-color: #3B4455;\n",
              "      fill: #D2E3FC;\n",
              "    }\n",
              "\n",
              "    [theme=dark] .colab-df-convert:hover {\n",
              "      background-color: #434B5C;\n",
              "      box-shadow: 0px 1px 3px 1px rgba(0, 0, 0, 0.15);\n",
              "      filter: drop-shadow(0px 1px 2px rgba(0, 0, 0, 0.3));\n",
              "      fill: #FFFFFF;\n",
              "    }\n",
              "  </style>\n",
              "\n",
              "      <script>\n",
              "        const buttonEl =\n",
              "          document.querySelector('#df-ad431fb9-3a9c-40ad-819a-06c0c2a1351b button.colab-df-convert');\n",
              "        buttonEl.style.display =\n",
              "          google.colab.kernel.accessAllowed ? 'block' : 'none';\n",
              "\n",
              "        async function convertToInteractive(key) {\n",
              "          const element = document.querySelector('#df-ad431fb9-3a9c-40ad-819a-06c0c2a1351b');\n",
              "          const dataTable =\n",
              "            await google.colab.kernel.invokeFunction('convertToInteractive',\n",
              "                                                     [key], {});\n",
              "          if (!dataTable) return;\n",
              "\n",
              "          const docLinkHtml = 'Like what you see? Visit the ' +\n",
              "            '<a target=\"_blank\" href=https://colab.research.google.com/notebooks/data_table.ipynb>data table notebook</a>'\n",
              "            + ' to learn more about interactive tables.';\n",
              "          element.innerHTML = '';\n",
              "          dataTable['output_type'] = 'display_data';\n",
              "          await google.colab.output.renderOutput(dataTable, element);\n",
              "          const docLink = document.createElement('div');\n",
              "          docLink.innerHTML = docLinkHtml;\n",
              "          element.appendChild(docLink);\n",
              "        }\n",
              "      </script>\n",
              "    </div>\n",
              "  </div>\n",
              "  "
            ]
          },
          "metadata": {},
          "execution_count": 5
        }
      ]
    },
    {
      "cell_type": "markdown",
      "source": [
        "Agregar columnas que puedan ayudar a la caracterización de las categorías, combinarlas, eliminar columnas altamente correlacionadas y agregar las columnas de reducción de dimensionalidad halladas en el TP de *Exporación y curación*.\n",
        "\n",
        "Acá no se realiza una separación en train-test sino que se utiliza todo el dataset. Así como hicieron en *'Aprendizaje Supervisado'* sugiero que realicen sólo como baseline el tratamiento de todo el grupo en conjunto y como una primera aproximación, pero realizar distintas propuestas sobre como dividir los datos, proponer de acuerdo a lo observado en otros prácticos de la mentoría,  distintas formas de tomar los conjuntos de datos e implementar los algoritmos explorados durante la materia *Aprendizaje NO Supervisado*. \n",
        "\n",
        "Además de que el modelo elija los clústers según el criterio del mismo prueban también proponer alguna modalidad en la cual tales resultados puedan ser interpretables. \n",
        "\n",
        "Luego de encontrar los diferentes grupos, colocar los labels como para saber cómo los está agrupando pero no tomar dicha información como variable. "
      ],
      "metadata": {
        "id": "ErA4eNogFm6v"
      }
    }
  ],
  "metadata": {
    "colab": {
      "collapsed_sections": [],
      "name": "4_Aprendizaje_NO_Supervisado_Clasificacion_Tumoresferas.ipynb",
      "provenance": [],
      "include_colab_link": true
    },
    "kernelspec": {
      "display_name": "Python 3 (ipykernel)",
      "language": "python",
      "name": "python3"
    },
    "language_info": {
      "codemirror_mode": {
        "name": "ipython",
        "version": 3
      },
      "file_extension": ".py",
      "mimetype": "text/x-python",
      "name": "python",
      "nbconvert_exporter": "python",
      "pygments_lexer": "ipython3",
      "version": "3.9.12"
    }
  },
  "nbformat": 4,
  "nbformat_minor": 0
}